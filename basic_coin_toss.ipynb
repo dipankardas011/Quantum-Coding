{
 "cells": [
  {
   "cell_type": "code",
   "execution_count": 1,
   "id": "05dfbe50-4bd0-4add-b4d5-3226ca5b4a78",
   "metadata": {},
   "outputs": [],
   "source": [
    "from qiskit import QuantumCircuit\n",
    "from qiskit.compiler import transpile, assemble"
   ]
  },
  {
   "cell_type": "code",
   "execution_count": 2,
   "id": "5de963f6-cc16-476c-8375-90dea1092eab",
   "metadata": {},
   "outputs": [
    {
     "data": {
      "text/plain": [
       "<qiskit.circuit.instructionset.InstructionSet at 0x7f0e005994b0>"
      ]
     },
     "execution_count": 2,
     "metadata": {},
     "output_type": "execute_result"
    }
   ],
   "source": [
    "qc = QuantumCircuit(2,2)\n",
    "\n",
    "qc.h(0)\n",
    "qc.cx(0,1)"
   ]
  },
  {
   "cell_type": "code",
   "execution_count": 3,
   "id": "edfa1696-5090-444c-b8b3-2c130b9fbb7c",
   "metadata": {},
   "outputs": [
    {
     "data": {
      "text/plain": [
       "<qiskit.circuit.instructionset.InstructionSet at 0x7f0df5373fa0>"
      ]
     },
     "execution_count": 3,
     "metadata": {},
     "output_type": "execute_result"
    }
   ],
   "source": [
    "qc.measure(range(2), range(2))"
   ]
  },
  {
   "cell_type": "code",
   "execution_count": 4,
   "id": "fb3a6fdd-2683-4ec8-9e16-4ed2b7ee0c34",
   "metadata": {},
   "outputs": [
    {
     "data": {
      "text/html": [
       "<pre style=\"word-wrap: normal;white-space: pre;background: #fff0;line-height: 1.1;font-family: &quot;Courier New&quot;,Courier,monospace\">     ┌───┐     ┌─┐   \n",
       "q_0: ┤ H ├──■──┤M├───\n",
       "     └───┘┌─┴─┐└╥┘┌─┐\n",
       "q_1: ─────┤ X ├─╫─┤M├\n",
       "          └───┘ ║ └╥┘\n",
       "c: 2/═══════════╩══╩═\n",
       "                0  1 </pre>"
      ],
      "text/plain": [
       "     ┌───┐     ┌─┐   \n",
       "q_0: ┤ H ├──■──┤M├───\n",
       "     └───┘┌─┴─┐└╥┘┌─┐\n",
       "q_1: ─────┤ X ├─╫─┤M├\n",
       "          └───┘ ║ └╥┘\n",
       "c: 2/═══════════╩══╩═\n",
       "                0  1 "
      ]
     },
     "execution_count": 4,
     "metadata": {},
     "output_type": "execute_result"
    }
   ],
   "source": [
    "qc.draw()"
   ]
  },
  {
   "cell_type": "code",
   "execution_count": 5,
   "id": "e9520c7b-54eb-4caf-846e-aa9fbae2aa42",
   "metadata": {},
   "outputs": [],
   "source": [
    "from qiskit_aer import Aer\n",
    "from qiskit.primitives import (\n",
    "    # Estimator,\n",
    "    StatevectorSampler\n",
    ")"
   ]
  },
  {
   "cell_type": "code",
   "execution_count": 6,
   "id": "36c208dc-552e-495e-91d1-0920b00b8adb",
   "metadata": {},
   "outputs": [
    {
     "name": "stdout",
     "output_type": "stream",
     "text": [
      "AerSimulator('aer_simulator')\n",
      "AerSimulator('aer_simulator_statevector')\n",
      "AerSimulator('aer_simulator_density_matrix')\n",
      "AerSimulator('aer_simulator_stabilizer')\n",
      "AerSimulator('aer_simulator_matrix_product_state')\n",
      "AerSimulator('aer_simulator_extended_stabilizer')\n",
      "AerSimulator('aer_simulator_unitary')\n",
      "AerSimulator('aer_simulator_superop')\n",
      "QasmSimulator('qasm_simulator')\n",
      "StatevectorSimulator('statevector_simulator')\n",
      "UnitarySimulator('unitary_simulator')\n"
     ]
    }
   ],
   "source": [
    "for i in Aer.backends():\n",
    "    print(i)"
   ]
  },
  {
   "cell_type": "code",
   "execution_count": 7,
   "id": "94c40bc7-170a-4ce4-85ec-ca4afd9b5068",
   "metadata": {},
   "outputs": [],
   "source": [
    "backend = Aer.get_backend('qasm_simulator')"
   ]
  },
  {
   "cell_type": "code",
   "execution_count": 8,
   "id": "65fd402c-844f-495b-b5cb-a1d6ca6175c2",
   "metadata": {},
   "outputs": [],
   "source": [
    "# estimator_v2 = StatevectorEstimator()\n",
    "sampler_v2 = StatevectorSampler()"
   ]
  },
  {
   "cell_type": "code",
   "execution_count": 11,
   "id": "4d7d0617-08cd-4663-be60-00512642daad",
   "metadata": {},
   "outputs": [
    {
     "name": "stdout",
     "output_type": "stream",
     "text": [
      "Help on method run in module qiskit.primitives.statevector_sampler:\n",
      "\n",
      "run(pubs: 'Iterable[SamplerPubLike]', *, shots: 'int | None' = None) -> 'PrimitiveJob[PrimitiveResult[SamplerPubResult]]' method of qiskit.primitives.statevector_sampler.StatevectorSampler instance\n",
      "    Run and collect samples from each pub.\n",
      "\n",
      "    Args:\n",
      "        pubs: An iterable of pub-like objects. For example, a list of circuits\n",
      "              or tuples ``(circuit, parameter_values)``.\n",
      "        shots: The total number of shots to sample for each sampler pub that does\n",
      "               not specify its own shots. If ``None``, the primitive's default\n",
      "               shots value will be used, which can vary by implementation.\n",
      "\n",
      "    Returns:\n",
      "        The job object of Sampler's result.\n",
      "\n"
     ]
    }
   ],
   "source": [
    "help(sampler_v2.run)"
   ]
  },
  {
   "cell_type": "code",
   "execution_count": 12,
   "id": "daf41c2e-6b11-48f8-b285-78a56d4fa01a",
   "metadata": {},
   "outputs": [],
   "source": [
    "job = sampler_v2.run([qc], shots=1024)"
   ]
  },
  {
   "cell_type": "code",
   "execution_count": 13,
   "id": "e222215a-b271-4d36-9742-d7e3ea0f6d66",
   "metadata": {},
   "outputs": [],
   "source": [
    "res = job.result()"
   ]
  },
  {
   "cell_type": "code",
   "execution_count": 14,
   "id": "e60d2232-bf06-4370-b4d1-af9f298e51fd",
   "metadata": {},
   "outputs": [],
   "source": [
    "x = res[0].data['c'] or None"
   ]
  },
  {
   "cell_type": "code",
   "execution_count": 15,
   "id": "c1755c20-b3c1-4cce-a4d0-8ae678a91908",
   "metadata": {},
   "outputs": [],
   "source": [
    "counts = x.get_counts()"
   ]
  },
  {
   "cell_type": "code",
   "execution_count": 16,
   "id": "dd4bc52e-34eb-4eb7-b8ff-b114bff39385",
   "metadata": {},
   "outputs": [
    {
     "data": {
      "image/png": "[encoded data removed]",
      "text/plain": [
       "<Figure size 640x480 with 1 Axes>"
      ]
     },
     "execution_count": 16,
     "metadata": {},
     "output_type": "execute_result"
    }
   ],
   "source": [
    "from qiskit.visualization import plot_histogram\n",
    "\n",
    "plot_histogram(counts)"
   ]
  },
  {
   "cell_type": "code",
   "execution_count": null,
   "id": "b1a52e30-1658-4d43-ba07-9ac2f6f2c9b1",
   "metadata": {},
   "outputs": [],
   "source": []
  },
  {
   "cell_type": "code",
   "execution_count": null,
   "id": "2366310b-291f-44da-b319-356f0b3da9ca",
   "metadata": {},
   "outputs": [],
   "source": []
  }
 ],
 "metadata": {
  "kernelspec": {
   "display_name": "Python 3 (ipykernel)",
   "language": "python",
   "name": "python3"
  },
  "language_info": {
   "codemirror_mode": {
    "name": "ipython",
    "version": 3
   },
   "file_extension": ".py",
   "mimetype": "text/x-python",
   "name": "python",
   "nbconvert_exporter": "python",
   "pygments_lexer": "ipython3",
   "version": "3.13.1"
  }
 },
 "nbformat": 4,
 "nbformat_minor": 5
}
