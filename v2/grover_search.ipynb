{
 "cells": [
  {
   "metadata": {},
   "cell_type": "markdown",
   "source": [
    "Grover's Search (or **Grover's Algorithm**) is a **quantum algorithm** designed for searching an **unsorted database** or solving an **unstructured search problem** faster than any classical algorithm.\n",
    "\n",
    "---\n",
    "\n",
    "### 💡 Key Idea:\n",
    "\n",
    "If you have $N$ items and **one of them** is the \"correct\" or \"target\" item, Grover's algorithm can find it in about $\\sqrt{N}$ steps. In contrast, a classical algorithm would require about $N/2$ steps on average.\n",
    "\n",
    "---\n",
    "\n",
    "### 🧠 How It Works (Conceptually):\n",
    "\n",
    "1. **Initialize a superposition** of all $N$ possible states (i.e., all potential solutions).\n",
    "2. Use a **quantum oracle** to mark the correct solution (by flipping its sign).\n",
    "3. Apply a **diffusion operator** (also called Grover's diffusion operator) to amplify the probability of the marked item.\n",
    "4. Repeat steps 2–3 about $\\sqrt{N}$ times.\n",
    "5. **Measure** the system; you'll get the correct item with high probability.\n",
    "\n",
    "---\n",
    "\n",
    "### ⚙️ Technical Summary:\n",
    "\n",
    "* **Problem**: Find $x$ such that $f(x) = 1$, where $f$ is a black-box (oracle) function.\n",
    "* **Input space**: $\\{0, 1\\}^n$, so $N = 2^n$.\n",
    "* **Complexity**:\n",
    "\n",
    "  * **Quantum**: $O(\\sqrt{N})$\n",
    "  * **Classical**: $O(N)$\n",
    "\n",
    "---\n",
    "\n",
    "### 🔍 Example Use Case:\n",
    "\n",
    "Suppose you're searching a list of 1,000,000 phone numbers for one specific number. Classically, you'd check on average 500,000 entries. Grover's algorithm would only need about 1,000 quantum queries.\n",
    "\n"
   ],
   "id": "96a828d8e595b6fc"
  },
  {
   "metadata": {},
   "cell_type": "markdown",
   "source": [
    "it to leverages the oracle jus like deutsch-jozsa and bernard-berstein algorithms.\n",
    "\n",
    "but the diffreence is that it also leverages interference in a way that it will increase the amplitude of the state we are searching for while descreasing all other states which in turn increases the speed $\\sqrt{N}$. where N is the number of states.\n",
    "\n",
    "2 main components:\n",
    "- grover's oracle\n",
    "- grover diffusion operator\n",
    "probability amplitire y axis and states in x axis\n",
    "\n",
    "00 -> 0.25\n",
    "\n",
    "01 -> 0.25\n",
    "\n",
    "10 -> 0.25\n",
    "\n",
    "11 -> 0.25\n",
    "\n",
    "when we say the state we wish for is 10\n",
    "then the first component is the oracle $U_f$ which generally tag the value we are searching for. By tagging we will signal that the state that we are searching for will be identified by simply changing the sign of the state from positive to negative.\n",
    "\n",
    "00 -> 0.25\n",
    "\n",
    "01 -> 0.25\n",
    "\n",
    "10 -> -0.25\n",
    "\n",
    "11 -> 0.25"
   ],
   "id": "281de7e44720b7fe"
  },
  {
   "metadata": {},
   "cell_type": "markdown",
   "source": [
    "at this point we can't just measure and go becuase the probability amplitude are squared so our results would all still be equal which does not provide us with any new information about what we are searching for. However, since we are working with amplitudes, we can leaverage interference here by increasing the amplitude of the state we tagged and descresing the amplitude of the other states. (this is done by the diffusion operator)\n",
    "\n",
    "which does a mathematicsal step know as inversion about the mean.(it inverts the distance b/w the average and the peak of each state)\n",
    "\n",
    "00 -> 0.15\n",
    "\n",
    "01 -> 0.05\n",
    "\n",
    "10 -> 0.65\n",
    "\n",
    "11 -> 0.15"
   ],
   "id": "4192685064547f2f"
  },
  {
   "metadata": {
    "ExecuteTime": {
     "end_time": "2025-05-12T18:54:24.239414Z",
     "start_time": "2025-05-12T18:54:24.231577Z"
    }
   },
   "cell_type": "code",
   "source": [
    "from qiskit import QuantumCircuit\n",
    "from qiskit_aer import AerSimulator\n",
    "import qiskit.visualization as qv"
   ],
   "id": "49262d0d62dade19",
   "outputs": [],
   "execution_count": 21
  },
  {
   "metadata": {
    "ExecuteTime": {
     "end_time": "2025-05-12T18:54:24.300700Z",
     "start_time": "2025-05-12T18:54:24.290881Z"
    }
   },
   "cell_type": "code",
   "source": [
    "N = '110'\n",
    "num_qubits = len(N)\n",
    "\n",
    "qc = QuantumCircuit(num_qubits, num_qubits)\n",
    "qc.h(range(num_qubits))\n",
    "qc.barrier()\n",
    "qc.draw()"
   ],
   "id": "19622b7e4931b0dd",
   "outputs": [
    {
     "data": {
      "text/plain": [
       "     ┌───┐ ░ \n",
       "q_0: ┤ H ├─░─\n",
       "     ├───┤ ░ \n",
       "q_1: ┤ H ├─░─\n",
       "     ├───┤ ░ \n",
       "q_2: ┤ H ├─░─\n",
       "     └───┘ ░ \n",
       "c: 3/════════\n",
       "             "
      ],
      "text/html": [
       "<pre style=\"word-wrap: normal;white-space: pre;background: #fff0;line-height: 1.1;font-family: &quot;Courier New&quot;,Courier,monospace\">     ┌───┐ ░ \n",
       "q_0: ┤ H ├─░─\n",
       "     ├───┤ ░ \n",
       "q_1: ┤ H ├─░─\n",
       "     ├───┤ ░ \n",
       "q_2: ┤ H ├─░─\n",
       "     └───┘ ░ \n",
       "c: 3/════════\n",
       "             </pre>"
      ]
     },
     "execution_count": 22,
     "metadata": {},
     "output_type": "execute_result"
    }
   ],
   "execution_count": 22
  },
  {
   "metadata": {
    "ExecuteTime": {
     "end_time": "2025-05-12T18:54:24.347495Z",
     "start_time": "2025-05-12T18:54:24.342986Z"
    }
   },
   "cell_type": "code",
   "source": "N = N[::-1]",
   "id": "d21ea5027f28bb66",
   "outputs": [],
   "execution_count": 23
  },
  {
   "metadata": {
    "ExecuteTime": {
     "end_time": "2025-05-12T18:54:24.400625Z",
     "start_time": "2025-05-12T18:54:24.393711Z"
    }
   },
   "cell_type": "code",
   "source": [
    "\n",
    "for idx in range(num_qubits):\n",
    "    if N[idx] == '0':\n",
    "        qc.x(idx)\n",
    "\n",
    "qc.barrier()\n",
    "qc.draw()"
   ],
   "id": "497b69524f4e4011",
   "outputs": [
    {
     "data": {
      "text/plain": [
       "     ┌───┐ ░ ┌───┐ ░ \n",
       "q_0: ┤ H ├─░─┤ X ├─░─\n",
       "     ├───┤ ░ └───┘ ░ \n",
       "q_1: ┤ H ├─░───────░─\n",
       "     ├───┤ ░       ░ \n",
       "q_2: ┤ H ├─░───────░─\n",
       "     └───┘ ░       ░ \n",
       "c: 3/════════════════\n",
       "                     "
      ],
      "text/html": [
       "<pre style=\"word-wrap: normal;white-space: pre;background: #fff0;line-height: 1.1;font-family: &quot;Courier New&quot;,Courier,monospace\">     ┌───┐ ░ ┌───┐ ░ \n",
       "q_0: ┤ H ├─░─┤ X ├─░─\n",
       "     ├───┤ ░ └───┘ ░ \n",
       "q_1: ┤ H ├─░───────░─\n",
       "     ├───┤ ░       ░ \n",
       "q_2: ┤ H ├─░───────░─\n",
       "     └───┘ ░       ░ \n",
       "c: 3/════════════════\n",
       "                     </pre>"
      ]
     },
     "execution_count": 24,
     "metadata": {},
     "output_type": "execute_result"
    }
   ],
   "execution_count": 24
  },
  {
   "metadata": {},
   "cell_type": "markdown",
   "source": "grover's oracle. first set the most significant qubit in a superposition state followed by a CNOT gate where the target is the most significant qubit and the source is all the other qubits. then place another hadamard gate on the most significant qubit",
   "id": "17de6522efeef7a6"
  },
  {
   "metadata": {
    "ExecuteTime": {
     "end_time": "2025-05-12T18:54:24.465626Z",
     "start_time": "2025-05-12T18:54:24.452716Z"
    }
   },
   "cell_type": "code",
   "source": [
    "qc.h(2)\n",
    "qc.ccx(0,1,2)\n",
    "qc.h(2)\n",
    "qc.barrier()\n",
    "qc.draw()"
   ],
   "id": "1683078d20c9deef",
   "outputs": [
    {
     "data": {
      "text/plain": [
       "     ┌───┐ ░ ┌───┐ ░                 ░ \n",
       "q_0: ┤ H ├─░─┤ X ├─░────────■────────░─\n",
       "     ├───┤ ░ └───┘ ░        │        ░ \n",
       "q_1: ┤ H ├─░───────░────────■────────░─\n",
       "     ├───┤ ░       ░ ┌───┐┌─┴─┐┌───┐ ░ \n",
       "q_2: ┤ H ├─░───────░─┤ H ├┤ X ├┤ H ├─░─\n",
       "     └───┘ ░       ░ └───┘└───┘└───┘ ░ \n",
       "c: 3/══════════════════════════════════\n",
       "                                       "
      ],
      "text/html": [
       "<pre style=\"word-wrap: normal;white-space: pre;background: #fff0;line-height: 1.1;font-family: &quot;Courier New&quot;,Courier,monospace\">     ┌───┐ ░ ┌───┐ ░                 ░ \n",
       "q_0: ┤ H ├─░─┤ X ├─░────────■────────░─\n",
       "     ├───┤ ░ └───┘ ░        │        ░ \n",
       "q_1: ┤ H ├─░───────░────────■────────░─\n",
       "     ├───┤ ░       ░ ┌───┐┌─┴─┐┌───┐ ░ \n",
       "q_2: ┤ H ├─░───────░─┤ H ├┤ X ├┤ H ├─░─\n",
       "     └───┘ ░       ░ └───┘└───┘└───┘ ░ \n",
       "c: 3/══════════════════════════════════\n",
       "                                       </pre>"
      ]
     },
     "execution_count": 25,
     "metadata": {},
     "output_type": "execute_result"
    }
   ],
   "execution_count": 25
  },
  {
   "metadata": {
    "ExecuteTime": {
     "end_time": "2025-05-12T18:54:24.515146Z",
     "start_time": "2025-05-12T18:54:24.506634Z"
    }
   },
   "cell_type": "code",
   "source": [
    "for idx in range(num_qubits):\n",
    "    if N[idx] == '0':\n",
    "        qc.x(idx)\n",
    "\n",
    "qc.barrier()\n",
    "qc.draw()"
   ],
   "id": "3f582620997d704c",
   "outputs": [
    {
     "data": {
      "text/plain": [
       "     ┌───┐ ░ ┌───┐ ░                 ░ ┌───┐ ░ \n",
       "q_0: ┤ H ├─░─┤ X ├─░────────■────────░─┤ X ├─░─\n",
       "     ├───┤ ░ └───┘ ░        │        ░ └───┘ ░ \n",
       "q_1: ┤ H ├─░───────░────────■────────░───────░─\n",
       "     ├───┤ ░       ░ ┌───┐┌─┴─┐┌───┐ ░       ░ \n",
       "q_2: ┤ H ├─░───────░─┤ H ├┤ X ├┤ H ├─░───────░─\n",
       "     └───┘ ░       ░ └───┘└───┘└───┘ ░       ░ \n",
       "c: 3/══════════════════════════════════════════\n",
       "                                               "
      ],
      "text/html": [
       "<pre style=\"word-wrap: normal;white-space: pre;background: #fff0;line-height: 1.1;font-family: &quot;Courier New&quot;,Courier,monospace\">     ┌───┐ ░ ┌───┐ ░                 ░ ┌───┐ ░ \n",
       "q_0: ┤ H ├─░─┤ X ├─░────────■────────░─┤ X ├─░─\n",
       "     ├───┤ ░ └───┘ ░        │        ░ └───┘ ░ \n",
       "q_1: ┤ H ├─░───────░────────■────────░───────░─\n",
       "     ├───┤ ░       ░ ┌───┐┌─┴─┐┌───┐ ░       ░ \n",
       "q_2: ┤ H ├─░───────░─┤ H ├┤ X ├┤ H ├─░───────░─\n",
       "     └───┘ ░       ░ └───┘└───┘└───┘ ░       ░ \n",
       "c: 3/══════════════════════════════════════════\n",
       "                                               </pre>"
      ]
     },
     "execution_count": 26,
     "metadata": {},
     "output_type": "execute_result"
    }
   ],
   "execution_count": 26
  },
  {
   "metadata": {
    "ExecuteTime": {
     "end_time": "2025-05-12T18:54:24.602869Z",
     "start_time": "2025-05-12T18:54:24.590316Z"
    }
   },
   "cell_type": "code",
   "source": [
    "qc.h(range(num_qubits))\n",
    "qc.barrier()\n",
    "qc.draw()"
   ],
   "id": "2f2d115603d9106b",
   "outputs": [
    {
     "data": {
      "text/plain": [
       "     ┌───┐ ░ ┌───┐ ░                 ░ ┌───┐ ░ ┌───┐ ░ \n",
       "q_0: ┤ H ├─░─┤ X ├─░────────■────────░─┤ X ├─░─┤ H ├─░─\n",
       "     ├───┤ ░ └───┘ ░        │        ░ └───┘ ░ ├───┤ ░ \n",
       "q_1: ┤ H ├─░───────░────────■────────░───────░─┤ H ├─░─\n",
       "     ├───┤ ░       ░ ┌───┐┌─┴─┐┌───┐ ░       ░ ├───┤ ░ \n",
       "q_2: ┤ H ├─░───────░─┤ H ├┤ X ├┤ H ├─░───────░─┤ H ├─░─\n",
       "     └───┘ ░       ░ └───┘└───┘└───┘ ░       ░ └───┘ ░ \n",
       "c: 3/══════════════════════════════════════════════════\n",
       "                                                       "
      ],
      "text/html": [
       "<pre style=\"word-wrap: normal;white-space: pre;background: #fff0;line-height: 1.1;font-family: &quot;Courier New&quot;,Courier,monospace\">     ┌───┐ ░ ┌───┐ ░                 ░ ┌───┐ ░ ┌───┐ ░ \n",
       "q_0: ┤ H ├─░─┤ X ├─░────────■────────░─┤ X ├─░─┤ H ├─░─\n",
       "     ├───┤ ░ └───┘ ░        │        ░ └───┘ ░ ├───┤ ░ \n",
       "q_1: ┤ H ├─░───────░────────■────────░───────░─┤ H ├─░─\n",
       "     ├───┤ ░       ░ ┌───┐┌─┴─┐┌───┐ ░       ░ ├───┤ ░ \n",
       "q_2: ┤ H ├─░───────░─┤ H ├┤ X ├┤ H ├─░───────░─┤ H ├─░─\n",
       "     └───┘ ░       ░ └───┘└───┘└───┘ ░       ░ └───┘ ░ \n",
       "c: 3/══════════════════════════════════════════════════\n",
       "                                                       </pre>"
      ]
     },
     "execution_count": 27,
     "metadata": {},
     "output_type": "execute_result"
    }
   ],
   "execution_count": 27
  },
  {
   "metadata": {},
   "cell_type": "markdown",
   "source": "goover diffusion",
   "id": "85b0b93a5068a7c3"
  },
  {
   "metadata": {
    "ExecuteTime": {
     "end_time": "2025-05-12T18:54:24.682115Z",
     "start_time": "2025-05-12T18:54:24.670328Z"
    }
   },
   "cell_type": "code",
   "source": [
    "qc.barrier()\n",
    "qc.x(range(num_qubits))\n",
    "qc.barrier()\n",
    "qc.draw()"
   ],
   "id": "420dd550eb696a84",
   "outputs": [
    {
     "data": {
      "text/plain": [
       "     ┌───┐ ░ ┌───┐ ░                 ░ ┌───┐ ░ ┌───┐ ░  ░ ┌───┐ ░ \n",
       "q_0: ┤ H ├─░─┤ X ├─░────────■────────░─┤ X ├─░─┤ H ├─░──░─┤ X ├─░─\n",
       "     ├───┤ ░ └───┘ ░        │        ░ └───┘ ░ ├───┤ ░  ░ ├───┤ ░ \n",
       "q_1: ┤ H ├─░───────░────────■────────░───────░─┤ H ├─░──░─┤ X ├─░─\n",
       "     ├───┤ ░       ░ ┌───┐┌─┴─┐┌───┐ ░       ░ ├───┤ ░  ░ ├───┤ ░ \n",
       "q_2: ┤ H ├─░───────░─┤ H ├┤ X ├┤ H ├─░───────░─┤ H ├─░──░─┤ X ├─░─\n",
       "     └───┘ ░       ░ └───┘└───┘└───┘ ░       ░ └───┘ ░  ░ └───┘ ░ \n",
       "c: 3/═════════════════════════════════════════════════════════════\n",
       "                                                                  "
      ],
      "text/html": [
       "<pre style=\"word-wrap: normal;white-space: pre;background: #fff0;line-height: 1.1;font-family: &quot;Courier New&quot;,Courier,monospace\">     ┌───┐ ░ ┌───┐ ░                 ░ ┌───┐ ░ ┌───┐ ░  ░ ┌───┐ ░ \n",
       "q_0: ┤ H ├─░─┤ X ├─░────────■────────░─┤ X ├─░─┤ H ├─░──░─┤ X ├─░─\n",
       "     ├───┤ ░ └───┘ ░        │        ░ └───┘ ░ ├───┤ ░  ░ ├───┤ ░ \n",
       "q_1: ┤ H ├─░───────░────────■────────░───────░─┤ H ├─░──░─┤ X ├─░─\n",
       "     ├───┤ ░       ░ ┌───┐┌─┴─┐┌───┐ ░       ░ ├───┤ ░  ░ ├───┤ ░ \n",
       "q_2: ┤ H ├─░───────░─┤ H ├┤ X ├┤ H ├─░───────░─┤ H ├─░──░─┤ X ├─░─\n",
       "     └───┘ ░       ░ └───┘└───┘└───┘ ░       ░ └───┘ ░  ░ └───┘ ░ \n",
       "c: 3/═════════════════════════════════════════════════════════════\n",
       "                                                                  </pre>"
      ]
     },
     "execution_count": 28,
     "metadata": {},
     "output_type": "execute_result"
    }
   ],
   "execution_count": 28
  },
  {
   "metadata": {
    "ExecuteTime": {
     "end_time": "2025-05-12T18:54:24.752597Z",
     "start_time": "2025-05-12T18:54:24.731865Z"
    }
   },
   "cell_type": "code",
   "source": [
    "qc.h(2)\n",
    "qc.ccx(0,1,2)\n",
    "qc.h(2)\n",
    "qc.barrier()\n",
    "qc.x(range(num_qubits))\n",
    "\n",
    "qc.draw(fold=-1)"
   ],
   "id": "7cab0d245144617e",
   "outputs": [
    {
     "data": {
      "text/plain": [
       "     ┌───┐ ░ ┌───┐ ░                 ░ ┌───┐ ░ ┌───┐ ░  ░ ┌───┐ ░                 ░ ┌───┐\n",
       "q_0: ┤ H ├─░─┤ X ├─░────────■────────░─┤ X ├─░─┤ H ├─░──░─┤ X ├─░────────■────────░─┤ X ├\n",
       "     ├───┤ ░ └───┘ ░        │        ░ └───┘ ░ ├───┤ ░  ░ ├───┤ ░        │        ░ ├───┤\n",
       "q_1: ┤ H ├─░───────░────────■────────░───────░─┤ H ├─░──░─┤ X ├─░────────■────────░─┤ X ├\n",
       "     ├───┤ ░       ░ ┌───┐┌─┴─┐┌───┐ ░       ░ ├───┤ ░  ░ ├───┤ ░ ┌───┐┌─┴─┐┌───┐ ░ ├───┤\n",
       "q_2: ┤ H ├─░───────░─┤ H ├┤ X ├┤ H ├─░───────░─┤ H ├─░──░─┤ X ├─░─┤ H ├┤ X ├┤ H ├─░─┤ X ├\n",
       "     └───┘ ░       ░ └───┘└───┘└───┘ ░       ░ └───┘ ░  ░ └───┘ ░ └───┘└───┘└───┘ ░ └───┘\n",
       "c: 3/════════════════════════════════════════════════════════════════════════════════════\n",
       "                                                                                         "
      ],
      "text/html": [
       "<pre style=\"word-wrap: normal;white-space: pre;background: #fff0;line-height: 1.1;font-family: &quot;Courier New&quot;,Courier,monospace\">     ┌───┐ ░ ┌───┐ ░                 ░ ┌───┐ ░ ┌───┐ ░  ░ ┌───┐ ░                 ░ ┌───┐\n",
       "q_0: ┤ H ├─░─┤ X ├─░────────■────────░─┤ X ├─░─┤ H ├─░──░─┤ X ├─░────────■────────░─┤ X ├\n",
       "     ├───┤ ░ └───┘ ░        │        ░ └───┘ ░ ├───┤ ░  ░ ├───┤ ░        │        ░ ├───┤\n",
       "q_1: ┤ H ├─░───────░────────■────────░───────░─┤ H ├─░──░─┤ X ├─░────────■────────░─┤ X ├\n",
       "     ├───┤ ░       ░ ┌───┐┌─┴─┐┌───┐ ░       ░ ├───┤ ░  ░ ├───┤ ░ ┌───┐┌─┴─┐┌───┐ ░ ├───┤\n",
       "q_2: ┤ H ├─░───────░─┤ H ├┤ X ├┤ H ├─░───────░─┤ H ├─░──░─┤ X ├─░─┤ H ├┤ X ├┤ H ├─░─┤ X ├\n",
       "     └───┘ ░       ░ └───┘└───┘└───┘ ░       ░ └───┘ ░  ░ └───┘ ░ └───┘└───┘└───┘ ░ └───┘\n",
       "c: 3/════════════════════════════════════════════════════════════════════════════════════\n",
       "                                                                                         </pre>"
      ]
     },
     "execution_count": 29,
     "metadata": {},
     "output_type": "execute_result"
    }
   ],
   "execution_count": 29
  },
  {
   "metadata": {
    "ExecuteTime": {
     "end_time": "2025-05-12T18:54:24.840516Z",
     "start_time": "2025-05-12T18:54:24.822146Z"
    }
   },
   "cell_type": "code",
   "source": [
    "qc.barrier()\n",
    "qc.barrier()\n",
    "qc.h(range(num_qubits))\n",
    "qc.measure_all()\n",
    "qc.draw(fold=-1)"
   ],
   "id": "5864a031777425d4",
   "outputs": [
    {
     "data": {
      "text/plain": [
       "        ┌───┐ ░ ┌───┐ ░                 ░ ┌───┐ ░ ┌───┐ ░  ░ ┌───┐ ░                 ░ ┌───┐ ░  ░ ┌───┐ ░ ┌─┐      \n",
       "   q_0: ┤ H ├─░─┤ X ├─░────────■────────░─┤ X ├─░─┤ H ├─░──░─┤ X ├─░────────■────────░─┤ X ├─░──░─┤ H ├─░─┤M├──────\n",
       "        ├───┤ ░ └───┘ ░        │        ░ └───┘ ░ ├───┤ ░  ░ ├───┤ ░        │        ░ ├───┤ ░  ░ ├───┤ ░ └╥┘┌─┐   \n",
       "   q_1: ┤ H ├─░───────░────────■────────░───────░─┤ H ├─░──░─┤ X ├─░────────■────────░─┤ X ├─░──░─┤ H ├─░──╫─┤M├───\n",
       "        ├───┤ ░       ░ ┌───┐┌─┴─┐┌───┐ ░       ░ ├───┤ ░  ░ ├───┤ ░ ┌───┐┌─┴─┐┌───┐ ░ ├───┤ ░  ░ ├───┤ ░  ║ └╥┘┌─┐\n",
       "   q_2: ┤ H ├─░───────░─┤ H ├┤ X ├┤ H ├─░───────░─┤ H ├─░──░─┤ X ├─░─┤ H ├┤ X ├┤ H ├─░─┤ X ├─░──░─┤ H ├─░──╫──╫─┤M├\n",
       "        └───┘ ░       ░ └───┘└───┘└───┘ ░       ░ └───┘ ░  ░ └───┘ ░ └───┘└───┘└───┘ ░ └───┘ ░  ░ └───┘ ░  ║  ║ └╥┘\n",
       "   c: 3/═══════════════════════════════════════════════════════════════════════════════════════════════════╬══╬══╬═\n",
       "                                                                                                           ║  ║  ║ \n",
       "meas: 3/═══════════════════════════════════════════════════════════════════════════════════════════════════╩══╩══╩═\n",
       "                                                                                                           0  1  2 "
      ],
      "text/html": [
       "<pre style=\"word-wrap: normal;white-space: pre;background: #fff0;line-height: 1.1;font-family: &quot;Courier New&quot;,Courier,monospace\">        ┌───┐ ░ ┌───┐ ░                 ░ ┌───┐ ░ ┌───┐ ░  ░ ┌───┐ ░                 ░ ┌───┐ ░  ░ ┌───┐ ░ ┌─┐      \n",
       "   q_0: ┤ H ├─░─┤ X ├─░────────■────────░─┤ X ├─░─┤ H ├─░──░─┤ X ├─░────────■────────░─┤ X ├─░──░─┤ H ├─░─┤M├──────\n",
       "        ├───┤ ░ └───┘ ░        │        ░ └───┘ ░ ├───┤ ░  ░ ├───┤ ░        │        ░ ├───┤ ░  ░ ├───┤ ░ └╥┘┌─┐   \n",
       "   q_1: ┤ H ├─░───────░────────■────────░───────░─┤ H ├─░──░─┤ X ├─░────────■────────░─┤ X ├─░──░─┤ H ├─░──╫─┤M├───\n",
       "        ├───┤ ░       ░ ┌───┐┌─┴─┐┌───┐ ░       ░ ├───┤ ░  ░ ├───┤ ░ ┌───┐┌─┴─┐┌───┐ ░ ├───┤ ░  ░ ├───┤ ░  ║ └╥┘┌─┐\n",
       "   q_2: ┤ H ├─░───────░─┤ H ├┤ X ├┤ H ├─░───────░─┤ H ├─░──░─┤ X ├─░─┤ H ├┤ X ├┤ H ├─░─┤ X ├─░──░─┤ H ├─░──╫──╫─┤M├\n",
       "        └───┘ ░       ░ └───┘└───┘└───┘ ░       ░ └───┘ ░  ░ └───┘ ░ └───┘└───┘└───┘ ░ └───┘ ░  ░ └───┘ ░  ║  ║ └╥┘\n",
       "   c: 3/═══════════════════════════════════════════════════════════════════════════════════════════════════╬══╬══╬═\n",
       "                                                                                                           ║  ║  ║ \n",
       "meas: 3/═══════════════════════════════════════════════════════════════════════════════════════════════════╩══╩══╩═\n",
       "                                                                                                           0  1  2 </pre>"
      ]
     },
     "execution_count": 30,
     "metadata": {},
     "output_type": "execute_result"
    }
   ],
   "execution_count": 30
  },
  {
   "metadata": {
    "ExecuteTime": {
     "end_time": "2025-05-12T18:55:14.102545Z",
     "start_time": "2025-05-12T18:55:14.073406Z"
    }
   },
   "cell_type": "code",
   "source": "counts = AerSimulator().run(qc, shots=1024).result().get_counts()",
   "id": "7414212b8a2a86cc",
   "outputs": [],
   "execution_count": 32
  },
  {
   "metadata": {
    "ExecuteTime": {
     "end_time": "2025-05-12T18:55:40.115915Z",
     "start_time": "2025-05-12T18:55:39.533950Z"
    }
   },
   "cell_type": "code",
   "source": [
    "print(counts)\n",
    "qv.plot_histogram(counts)"
   ],
   "id": "65d34b63aef6f89b",
   "outputs": [
    {
     "name": "stdout",
     "output_type": "stream",
     "text": [
      "{'010 000': 26, '011 000': 41, '101 000': 33, '111 000': 24, '100 000': 34, '000 000': 31, '110 000': 803, '001 000': 32}\n"
     ]
    },
    {
     "data": {
      "text/plain": [
       "<Figure size 640x480 with 1 Axes>"
      ],
      "image/png": "[encoded data removed]"
     },
     "execution_count": 33,
     "metadata": {},
     "output_type": "execute_result"
    }
   ],
   "execution_count": 33
  },
  {
   "metadata": {
    "ExecuteTime": {
     "end_time": "2025-05-12T18:57:01.859536Z",
     "start_time": "2025-05-12T18:56:52.731701Z"
    }
   },
   "cell_type": "code",
   "source": [
    "from ibmq import IBMQClient\n",
    "\n",
    "ibm_client = IBMQClient()"
   ],
   "id": "b8d544b201ca388c",
   "outputs": [],
   "execution_count": 34
  },
  {
   "metadata": {
    "ExecuteTime": {
     "end_time": "2025-05-12T18:57:30.021055Z",
     "start_time": "2025-05-12T18:57:08.566587Z"
    }
   },
   "cell_type": "code",
   "source": "res = ibm_client.execute(qc, 1024)",
   "id": "23436040d0098cc9",
   "outputs": [
    {
     "name": "stdout",
     "output_type": "stream",
     "text": [
      "Least busy backend: ibm_brisbane\n",
      "Job ID is d0h494mcrrag008bzheg\n"
     ]
    }
   ],
   "execution_count": 35
  },
  {
   "metadata": {
    "ExecuteTime": {
     "end_time": "2025-05-12T18:58:57.698612Z",
     "start_time": "2025-05-12T18:58:57.693283Z"
    }
   },
   "cell_type": "code",
   "source": "counts = res[0].data.meas.get_counts()",
   "id": "bd84c0c49a72c71b",
   "outputs": [],
   "execution_count": 45
  },
  {
   "metadata": {
    "ExecuteTime": {
     "end_time": "2025-05-12T18:58:59.679571Z",
     "start_time": "2025-05-12T18:58:59.671845Z"
    }
   },
   "cell_type": "code",
   "source": "print(counts)",
   "id": "c5914d763ef2c822",
   "outputs": [
    {
     "name": "stdout",
     "output_type": "stream",
     "text": [
      "{'100': 53, '110': 578, '000': 35, '011': 83, '111': 76, '010': 120, '101': 52, '001': 27}\n"
     ]
    }
   ],
   "execution_count": 46
  },
  {
   "metadata": {
    "ExecuteTime": {
     "end_time": "2025-05-12T18:59:07.830649Z",
     "start_time": "2025-05-12T18:59:07.685240Z"
    }
   },
   "cell_type": "code",
   "source": "qv.plot_histogram(counts)",
   "id": "1f254b190f24a47b",
   "outputs": [
    {
     "data": {
      "text/plain": [
       "<Figure size 640x480 with 1 Axes>"
      ],
      "image/png": "[encoded data removed]"
     },
     "execution_count": 47,
     "metadata": {},
     "output_type": "execute_result"
    }
   ],
   "execution_count": 47
  }
 ],
 "metadata": {
  "kernelspec": {
   "display_name": "Python 3",
   "language": "python",
   "name": "python3"
  },
  "language_info": {
   "codemirror_mode": {
    "name": "ipython",
    "version": 2
   },
   "file_extension": ".py",
   "mimetype": "text/x-python",
   "name": "python",
   "nbconvert_exporter": "python",
   "pygments_lexer": "ipython2",
   "version": "2.7.6"
  }
 },
 "nbformat": 4,
 "nbformat_minor": 5
}
