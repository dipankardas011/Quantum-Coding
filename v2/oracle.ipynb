{
 "cells": [
  {
   "metadata": {},
   "cell_type": "markdown",
   "source": [
    "### problem\n",
    "A concert, where 4 musician are there for the performance choose wisly\n",
    "- sofia\n",
    "- angelina\n",
    "- lex\n",
    "- leo\n",
    "\n",
    "Sofia and angelina tend to not get along on tour and have been known to have creative differences when writing music. Lex and leo are fine together. However sofia and lex broke up after the last time they toured together.\n",
    "\n",
    "which combination of musicians should be chosen for the tour?"
   ],
   "id": "7b5b12ae8d569175"
  },
  {
   "metadata": {},
   "cell_type": "markdown",
   "source": [
    "A = Sofia\n",
    "B = Angelina\n",
    "C = Lex\n",
    "D = Leo\n",
    "```\n",
    "(A ^ B) ... XOR\n",
    "\n",
    "(C & D) ... AND\n",
    "\n",
    "!(A & C) ... NOT\n",
    "\n",
    "(A ^ B) & (C & D) & !(A & C)\n",
    "```\n",
    "\n",
    "we will use grovers' algorithm to find the solution"
   ],
   "id": "c102a1c093cea01c"
  },
  {
   "metadata": {
    "ExecuteTime": {
     "end_time": "2025-05-10T14:25:34.307150Z",
     "start_time": "2025-05-10T14:25:33.699356Z"
    }
   },
   "cell_type": "code",
   "source": "!pip freeze | grep -E '^qiskit==.*'",
   "id": "cbf2458d624251a9",
   "outputs": [
    {
     "name": "stdout",
     "output_type": "stream",
     "text": [
      "qiskit==2.0.0\r\n"
     ]
    }
   ],
   "execution_count": 15
  },
  {
   "cell_type": "code",
   "id": "initial_id",
   "metadata": {
    "collapsed": true,
    "ExecuteTime": {
     "end_time": "2025-05-10T14:32:49.546391Z",
     "start_time": "2025-05-10T14:32:49.538708Z"
    }
   },
   "source": [
    "from qiskit_aer import QasmSimulator\n",
    "from qiskit.circuit.library import PhaseOracle"
   ],
   "outputs": [],
   "execution_count": 16
  },
  {
   "metadata": {
    "ExecuteTime": {
     "end_time": "2025-05-10T14:32:50.563031Z",
     "start_time": "2025-05-10T14:32:50.455446Z"
    }
   },
   "cell_type": "code",
   "source": [
    "oracle = PhaseOracle(expression='((A ^ B) & (C & D) & ~(A & C))')\n",
    "oracle.draw('mpl')"
   ],
   "id": "b8b090d5fd7d3a6",
   "outputs": [
    {
     "data": {
      "text/plain": [
       "<Figure size 203.885x367.889 with 1 Axes>"
      ],
      "image/png": "[encoded data removed]"
     },
     "execution_count": 17,
     "metadata": {},
     "output_type": "execute_result"
    }
   ],
   "execution_count": 17
  },
  {
   "metadata": {},
   "cell_type": "markdown",
   "source": [
    "## Problem\n",
    "https://github.com/qiskit-community/qiskit-algorithms/issues/224"
   ],
   "id": "d3e237ffe98baaf1"
  },
  {
   "metadata": {
    "ExecuteTime": {
     "end_time": "2025-05-10T14:32:51.308729Z",
     "start_time": "2025-05-10T14:32:51.147136Z"
    }
   },
   "cell_type": "code",
   "source": [
    "from qiskit_algorithms import Grover\n",
    "grover = Grover(oracle=oracle)\n",
    "result = grover.run()\n",
    "print(result)"
   ],
   "id": "2f256b95add1757c",
   "outputs": [
    {
     "ename": "ImportError",
     "evalue": "cannot import name 'BaseSampler' from 'qiskit.primitives' (/home/dipankar/Desktop/OPS/quantum/env/lib64/python3.13/site-packages/qiskit/primitives/__init__.py)",
     "output_type": "error",
     "traceback": [
      "\u001B[31m---------------------------------------------------------------------------\u001B[39m",
      "\u001B[31mImportError\u001B[39m                               Traceback (most recent call last)",
      "\u001B[36mCell\u001B[39m\u001B[36m \u001B[39m\u001B[32mIn[18]\u001B[39m\u001B[32m, line 1\u001B[39m\n\u001B[32m----> \u001B[39m\u001B[32m1\u001B[39m \u001B[38;5;28;01mfrom\u001B[39;00m\u001B[38;5;250m \u001B[39m\u001B[34;01mqiskit_algorithms\u001B[39;00m\u001B[38;5;250m \u001B[39m\u001B[38;5;28;01mimport\u001B[39;00m Grover\n\u001B[32m      2\u001B[39m grover = Grover(oracle=oracle)\n\u001B[32m      3\u001B[39m result = grover.run()\n",
      "\u001B[36mFile \u001B[39m\u001B[32m~/Desktop/OPS/quantum/env/lib64/python3.13/site-packages/qiskit_algorithms/__init__.py:254\u001B[39m\n\u001B[32m    252\u001B[39m \u001B[38;5;28;01mfrom\u001B[39;00m\u001B[38;5;250m \u001B[39m\u001B[34;01m.\u001B[39;00m\u001B[34;01malgorithm_job\u001B[39;00m\u001B[38;5;250m \u001B[39m\u001B[38;5;28;01mimport\u001B[39;00m AlgorithmJob\n\u001B[32m    253\u001B[39m \u001B[38;5;28;01mfrom\u001B[39;00m\u001B[38;5;250m \u001B[39m\u001B[34;01m.\u001B[39;00m\u001B[34;01malgorithm_result\u001B[39;00m\u001B[38;5;250m \u001B[39m\u001B[38;5;28;01mimport\u001B[39;00m AlgorithmResult\n\u001B[32m--> \u001B[39m\u001B[32m254\u001B[39m \u001B[38;5;28;01mfrom\u001B[39;00m\u001B[38;5;250m \u001B[39m\u001B[34;01m.\u001B[39;00m\u001B[34;01mvariational_algorithm\u001B[39;00m\u001B[38;5;250m \u001B[39m\u001B[38;5;28;01mimport\u001B[39;00m VariationalAlgorithm, VariationalResult\n\u001B[32m    255\u001B[39m \u001B[38;5;28;01mfrom\u001B[39;00m\u001B[38;5;250m \u001B[39m\u001B[34;01m.\u001B[39;00m\u001B[34;01mamplitude_amplifiers\u001B[39;00m\u001B[38;5;250m \u001B[39m\u001B[38;5;28;01mimport\u001B[39;00m Grover, GroverResult, AmplificationProblem, AmplitudeAmplifier\n\u001B[32m    256\u001B[39m \u001B[38;5;28;01mfrom\u001B[39;00m\u001B[38;5;250m \u001B[39m\u001B[34;01m.\u001B[39;00m\u001B[34;01mamplitude_estimators\u001B[39;00m\u001B[38;5;250m \u001B[39m\u001B[38;5;28;01mimport\u001B[39;00m (\n\u001B[32m    257\u001B[39m     AmplitudeEstimator,\n\u001B[32m    258\u001B[39m     AmplitudeEstimatorResult,\n\u001B[32m   (...)\u001B[39m\u001B[32m    267\u001B[39m     EstimationProblem,\n\u001B[32m    268\u001B[39m )\n",
      "\u001B[36mFile \u001B[39m\u001B[32m~/Desktop/OPS/quantum/env/lib64/python3.13/site-packages/qiskit_algorithms/variational_algorithm.py:36\u001B[39m\n\u001B[32m     33\u001B[39m \u001B[38;5;28;01mfrom\u001B[39;00m\u001B[38;5;250m \u001B[39m\u001B[34;01mqiskit\u001B[39;00m\u001B[34;01m.\u001B[39;00m\u001B[34;01mcircuit\u001B[39;00m\u001B[38;5;250m \u001B[39m\u001B[38;5;28;01mimport\u001B[39;00m QuantumCircuit\n\u001B[32m     35\u001B[39m \u001B[38;5;28;01mfrom\u001B[39;00m\u001B[38;5;250m \u001B[39m\u001B[34;01m.\u001B[39;00m\u001B[34;01malgorithm_result\u001B[39;00m\u001B[38;5;250m \u001B[39m\u001B[38;5;28;01mimport\u001B[39;00m AlgorithmResult\n\u001B[32m---> \u001B[39m\u001B[32m36\u001B[39m \u001B[38;5;28;01mfrom\u001B[39;00m\u001B[38;5;250m \u001B[39m\u001B[34;01m.\u001B[39;00m\u001B[34;01moptimizers\u001B[39;00m\u001B[38;5;250m \u001B[39m\u001B[38;5;28;01mimport\u001B[39;00m OptimizerResult\n\u001B[32m     39\u001B[39m \u001B[38;5;28;01mclass\u001B[39;00m\u001B[38;5;250m \u001B[39m\u001B[34;01mVariationalAlgorithm\u001B[39;00m(ABC):\n\u001B[32m     40\u001B[39m \u001B[38;5;250m    \u001B[39m\u001B[33;03m\"\"\"The Variational Algorithm Base Class.\"\"\"\u001B[39;00m\n",
      "\u001B[36mFile \u001B[39m\u001B[32m~/Desktop/OPS/quantum/env/lib64/python3.13/site-packages/qiskit_algorithms/optimizers/__init__.py:139\u001B[39m\n\u001B[32m    137\u001B[39m \u001B[38;5;28;01mfrom\u001B[39;00m\u001B[38;5;250m \u001B[39m\u001B[34;01m.\u001B[39;00m\u001B[34;01mp_bfgs\u001B[39;00m\u001B[38;5;250m \u001B[39m\u001B[38;5;28;01mimport\u001B[39;00m P_BFGS\n\u001B[32m    138\u001B[39m \u001B[38;5;28;01mfrom\u001B[39;00m\u001B[38;5;250m \u001B[39m\u001B[34;01m.\u001B[39;00m\u001B[34;01mpowell\u001B[39;00m\u001B[38;5;250m \u001B[39m\u001B[38;5;28;01mimport\u001B[39;00m POWELL\n\u001B[32m--> \u001B[39m\u001B[32m139\u001B[39m \u001B[38;5;28;01mfrom\u001B[39;00m\u001B[38;5;250m \u001B[39m\u001B[34;01m.\u001B[39;00m\u001B[34;01mqnspsa\u001B[39;00m\u001B[38;5;250m \u001B[39m\u001B[38;5;28;01mimport\u001B[39;00m QNSPSA\n\u001B[32m    140\u001B[39m \u001B[38;5;28;01mfrom\u001B[39;00m\u001B[38;5;250m \u001B[39m\u001B[34;01m.\u001B[39;00m\u001B[34;01mscipy_optimizer\u001B[39;00m\u001B[38;5;250m \u001B[39m\u001B[38;5;28;01mimport\u001B[39;00m SciPyOptimizer\n\u001B[32m    141\u001B[39m \u001B[38;5;28;01mfrom\u001B[39;00m\u001B[38;5;250m \u001B[39m\u001B[34;01m.\u001B[39;00m\u001B[34;01mslsqp\u001B[39;00m\u001B[38;5;250m \u001B[39m\u001B[38;5;28;01mimport\u001B[39;00m SLSQP\n",
      "\u001B[36mFile \u001B[39m\u001B[32m~/Desktop/OPS/quantum/env/lib64/python3.13/site-packages/qiskit_algorithms/optimizers/qnspsa.py:23\u001B[39m\n\u001B[32m     20\u001B[39m \u001B[38;5;28;01mimport\u001B[39;00m\u001B[38;5;250m \u001B[39m\u001B[34;01mnumpy\u001B[39;00m\u001B[38;5;250m \u001B[39m\u001B[38;5;28;01mas\u001B[39;00m\u001B[38;5;250m \u001B[39m\u001B[34;01mnp\u001B[39;00m\n\u001B[32m     21\u001B[39m \u001B[38;5;28;01mfrom\u001B[39;00m\u001B[38;5;250m \u001B[39m\u001B[34;01mqiskit\u001B[39;00m\u001B[34;01m.\u001B[39;00m\u001B[34;01mcircuit\u001B[39;00m\u001B[38;5;250m \u001B[39m\u001B[38;5;28;01mimport\u001B[39;00m QuantumCircuit\n\u001B[32m---> \u001B[39m\u001B[32m23\u001B[39m \u001B[38;5;28;01mfrom\u001B[39;00m\u001B[38;5;250m \u001B[39m\u001B[34;01mqiskit\u001B[39;00m\u001B[34;01m.\u001B[39;00m\u001B[34;01mprimitives\u001B[39;00m\u001B[38;5;250m \u001B[39m\u001B[38;5;28;01mimport\u001B[39;00m BaseSampler\n\u001B[32m     24\u001B[39m \u001B[38;5;28;01mfrom\u001B[39;00m\u001B[38;5;250m \u001B[39m\u001B[34;01mqiskit_algorithms\u001B[39;00m\u001B[34;01m.\u001B[39;00m\u001B[34;01mstate_fidelities\u001B[39;00m\u001B[38;5;250m \u001B[39m\u001B[38;5;28;01mimport\u001B[39;00m ComputeUncompute\n\u001B[32m     26\u001B[39m \u001B[38;5;28;01mfrom\u001B[39;00m\u001B[38;5;250m \u001B[39m\u001B[34;01m.\u001B[39;00m\u001B[34;01mspsa\u001B[39;00m\u001B[38;5;250m \u001B[39m\u001B[38;5;28;01mimport\u001B[39;00m SPSA, CALLBACK, TERMINATIONCHECKER, _batch_evaluate\n",
      "\u001B[31mImportError\u001B[39m: cannot import name 'BaseSampler' from 'qiskit.primitives' (/home/dipankar/Desktop/OPS/quantum/env/lib64/python3.13/site-packages/qiskit/primitives/__init__.py)"
     ]
    }
   ],
   "execution_count": 18
  },
  {
   "metadata": {
    "ExecuteTime": {
     "end_time": "2025-05-10T14:34:50.788343Z",
     "start_time": "2025-05-10T14:34:50.739943Z"
    }
   },
   "cell_type": "code",
   "source": [
    "from qiskit.visualization import plot_histogram\n",
    "result = grover.run(QasmSimulator())\n",
    "\n",
    "print('Top result: ', result['top_measurement']) # will return 1110 (B,C,D) and (A=0)\n",
    "plot_historgram(result['measurement'])"
   ],
   "id": "b9315380c675766a",
   "outputs": [
    {
     "ename": "NameError",
     "evalue": "name 'grover' is not defined",
     "output_type": "error",
     "traceback": [
      "\u001B[31m---------------------------------------------------------------------------\u001B[39m",
      "\u001B[31mNameError\u001B[39m                                 Traceback (most recent call last)",
      "\u001B[36mCell\u001B[39m\u001B[36m \u001B[39m\u001B[32mIn[21]\u001B[39m\u001B[32m, line 2\u001B[39m\n\u001B[32m      1\u001B[39m \u001B[38;5;28;01mfrom\u001B[39;00m\u001B[38;5;250m \u001B[39m\u001B[34;01mqiskit\u001B[39;00m\u001B[34;01m.\u001B[39;00m\u001B[34;01mvisualization\u001B[39;00m\u001B[38;5;250m \u001B[39m\u001B[38;5;28;01mimport\u001B[39;00m plot_histogram\n\u001B[32m----> \u001B[39m\u001B[32m2\u001B[39m result = \u001B[43mgrover\u001B[49m.run(QasmSimulator())\n\u001B[32m      4\u001B[39m \u001B[38;5;28mprint\u001B[39m(\u001B[33m'\u001B[39m\u001B[33mTop result: \u001B[39m\u001B[33m'\u001B[39m, result[\u001B[33m'\u001B[39m\u001B[33mtop_measurement\u001B[39m\u001B[33m'\u001B[39m]) \u001B[38;5;66;03m# will return 1110 (B,C,D) and (A=0)\u001B[39;00m\n\u001B[32m      5\u001B[39m plot_historgram(result[\u001B[33m'\u001B[39m\u001B[33mmeasurement\u001B[39m\u001B[33m'\u001B[39m])\n",
      "\u001B[31mNameError\u001B[39m: name 'grover' is not defined"
     ]
    }
   ],
   "execution_count": 21
  },
  {
   "metadata": {},
   "cell_type": "markdown",
   "source": "## So we don't have support for this oracle thing due to internal deps of it broken!",
   "id": "fd16a503726ca9a6"
  },
  {
   "metadata": {},
   "cell_type": "code",
   "outputs": [],
   "execution_count": null,
   "source": "",
   "id": "ceff357a0ee1862"
  }
 ],
 "metadata": {
  "kernelspec": {
   "display_name": "Python 3",
   "language": "python",
   "name": "python3"
  },
  "language_info": {
   "codemirror_mode": {
    "name": "ipython",
    "version": 2
   },
   "file_extension": ".py",
   "mimetype": "text/x-python",
   "name": "python",
   "nbconvert_exporter": "python",
   "pygments_lexer": "ipython2",
   "version": "2.7.6"
  }
 },
 "nbformat": 4,
 "nbformat_minor": 5
}
