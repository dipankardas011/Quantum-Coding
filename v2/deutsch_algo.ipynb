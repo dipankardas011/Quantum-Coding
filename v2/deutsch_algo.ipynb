{
 "cells": [
  {
   "cell_type": "code",
   "id": "initial_id",
   "metadata": {
    "collapsed": true,
    "ExecuteTime": {
     "end_time": "2025-05-11T11:27:59.062263Z",
     "start_time": "2025-05-11T11:27:57.599369Z"
    }
   },
   "source": [
    "from qiskit import QuantumRegister\n",
    "!pip freeze | grep -E '^qiskit==.*'"
   ],
   "outputs": [
    {
     "name": "stdout",
     "output_type": "stream",
     "text": [
      "qiskit==2.0.0\r\n"
     ]
    }
   ],
   "execution_count": 1
  },
  {
   "metadata": {},
   "cell_type": "markdown",
   "source": [
    "$$\n",
    "|\\phi^+\\rangle = \\frac{1}{\\sqrt{2}}(|00\\rangle + |11\\rangle)\n",
    "$$\n",
    "$$\n",
    "|\\phi^-\\rangle = \\frac{1}{\\sqrt{2}}(|00\\rangle - |11\\rangle)\n",
    "$$\n",
    "$$\n",
    "|\\psi^-\\rangle = \\frac{1}{\\sqrt{2}}(|01\\rangle + |10\\rangle)\n",
    "$$\n",
    "$$\n",
    "|\\psi^-\\rangle = \\frac{1}{\\sqrt{2}}(|01\\rangle - |10\\rangle)\n",
    "$$"
   ],
   "id": "2ece7bbd10dcb88e"
  },
  {
   "metadata": {
    "ExecuteTime": {
     "end_time": "2025-05-11T11:27:59.185136Z",
     "start_time": "2025-05-11T11:27:59.072200Z"
    }
   },
   "cell_type": "code",
   "source": [
    "from qiskit import QuantumCircuit\n",
    "from qiskit_aer import AerSimulator\n",
    "import qiskit.visualization as qvis"
   ],
   "id": "e94b9f1cdcd8fb1e",
   "outputs": [],
   "execution_count": 2
  },
  {
   "metadata": {
    "ExecuteTime": {
     "end_time": "2025-05-11T11:27:59.201640Z",
     "start_time": "2025-05-11T11:27:59.195958Z"
    }
   },
   "cell_type": "code",
   "source": [
    "def execute_circut(qc: QuantumCircuit):\n",
    "    backend =AerSimulator()\n",
    "    job = backend.run(qc, shots=1024)\n",
    "    result = job.result()\n",
    "    return result\n"
   ],
   "id": "27a36bb97e327dfd",
   "outputs": [],
   "execution_count": 3
  },
  {
   "metadata": {},
   "cell_type": "markdown",
   "source": "### Bell States",
   "id": "c4382c96f49bc91b"
  },
  {
   "metadata": {
    "ExecuteTime": {
     "end_time": "2025-05-11T11:27:59.275321Z",
     "start_time": "2025-05-11T11:27:59.255990Z"
    }
   },
   "cell_type": "code",
   "source": [
    "state1 = QuantumCircuit(2)\n",
    "state1.barrier()\n",
    "state1.h(0)\n",
    "state1.cx(0,1)\n",
    "state1.measure_all()\n",
    "state1.draw()"
   ],
   "id": "b844804277199eaf",
   "outputs": [
    {
     "data": {
      "text/plain": [
       "         ░ ┌───┐      ░ ┌─┐   \n",
       "   q_0: ─░─┤ H ├──■───░─┤M├───\n",
       "         ░ └───┘┌─┴─┐ ░ └╥┘┌─┐\n",
       "   q_1: ─░──────┤ X ├─░──╫─┤M├\n",
       "         ░      └───┘ ░  ║ └╥┘\n",
       "meas: 2/═════════════════╩══╩═\n",
       "                         0  1 "
      ],
      "text/html": [
       "<pre style=\"word-wrap: normal;white-space: pre;background: #fff0;line-height: 1.1;font-family: &quot;Courier New&quot;,Courier,monospace\">         ░ ┌───┐      ░ ┌─┐   \n",
       "   q_0: ─░─┤ H ├──■───░─┤M├───\n",
       "         ░ └───┘┌─┴─┐ ░ └╥┘┌─┐\n",
       "   q_1: ─░──────┤ X ├─░──╫─┤M├\n",
       "         ░      └───┘ ░  ║ └╥┘\n",
       "meas: 2/═════════════════╩══╩═\n",
       "                         0  1 </pre>"
      ]
     },
     "execution_count": 4,
     "metadata": {},
     "output_type": "execute_result"
    }
   ],
   "execution_count": 4
  },
  {
   "metadata": {
    "ExecuteTime": {
     "end_time": "2025-05-11T11:27:59.331012Z",
     "start_time": "2025-05-11T11:27:59.322950Z"
    }
   },
   "cell_type": "code",
   "source": [
    "res = execute_circut(state1)\n",
    "counts = res.get_counts()\n",
    "print(counts)"
   ],
   "id": "d2eb9881fc6d2d2f",
   "outputs": [
    {
     "name": "stdout",
     "output_type": "stream",
     "text": [
      "{'00': 506, '11': 518}\n"
     ]
    }
   ],
   "execution_count": 5
  },
  {
   "metadata": {},
   "cell_type": "markdown",
   "source": "$|\\phi^+\\rangle = |10\\rangle$",
   "id": "85e6646115af7656"
  },
  {
   "metadata": {
    "ExecuteTime": {
     "end_time": "2025-05-11T11:28:00.067872Z",
     "start_time": "2025-05-11T11:27:59.404309Z"
    }
   },
   "cell_type": "code",
   "source": "qvis.plot_histogram(counts)",
   "id": "9973a087e59815d5",
   "outputs": [
    {
     "data": {
      "text/plain": [
       "<Figure size 640x480 with 1 Axes>"
      ],
      "image/png": "[encoded data removed]"
     },
     "execution_count": 6,
     "metadata": {},
     "output_type": "execute_result"
    }
   ],
   "execution_count": 6
  },
  {
   "metadata": {},
   "cell_type": "markdown",
   "source": "$|\\psi^+\\rangle = |10\\rangle$",
   "id": "1524802fd872a606"
  },
  {
   "metadata": {
    "ExecuteTime": {
     "end_time": "2025-05-11T11:28:00.088882Z",
     "start_time": "2025-05-11T11:28:00.077616Z"
    }
   },
   "cell_type": "code",
   "source": [
    "state2 = QuantumCircuit(2)\n",
    "state2.x(1)\n",
    "state2.barrier()\n",
    "state2.h(0)\n",
    "state2.cx(0,1)\n",
    "state2.measure_all()\n",
    "state2.draw()"
   ],
   "id": "33b12a699952076d",
   "outputs": [
    {
     "data": {
      "text/plain": [
       "              ░ ┌───┐      ░ ┌─┐   \n",
       "   q_0: ──────░─┤ H ├──■───░─┤M├───\n",
       "        ┌───┐ ░ └───┘┌─┴─┐ ░ └╥┘┌─┐\n",
       "   q_1: ┤ X ├─░──────┤ X ├─░──╫─┤M├\n",
       "        └───┘ ░      └───┘ ░  ║ └╥┘\n",
       "meas: 2/══════════════════════╩══╩═\n",
       "                              0  1 "
      ],
      "text/html": [
       "<pre style=\"word-wrap: normal;white-space: pre;background: #fff0;line-height: 1.1;font-family: &quot;Courier New&quot;,Courier,monospace\">              ░ ┌───┐      ░ ┌─┐   \n",
       "   q_0: ──────░─┤ H ├──■───░─┤M├───\n",
       "        ┌───┐ ░ └───┘┌─┴─┐ ░ └╥┘┌─┐\n",
       "   q_1: ┤ X ├─░──────┤ X ├─░──╫─┤M├\n",
       "        └───┘ ░      └───┘ ░  ║ └╥┘\n",
       "meas: 2/══════════════════════╩══╩═\n",
       "                              0  1 </pre>"
      ]
     },
     "execution_count": 7,
     "metadata": {},
     "output_type": "execute_result"
    }
   ],
   "execution_count": 7
  },
  {
   "metadata": {
    "ExecuteTime": {
     "end_time": "2025-05-11T11:28:00.151275Z",
     "start_time": "2025-05-11T11:28:00.137961Z"
    }
   },
   "cell_type": "code",
   "source": [
    "res = execute_circut(state2)\n",
    "counts = res.get_counts()\n",
    "print(counts)"
   ],
   "id": "79c5e7e171cf35d0",
   "outputs": [
    {
     "name": "stdout",
     "output_type": "stream",
     "text": [
      "{'01': 520, '10': 504}\n"
     ]
    }
   ],
   "execution_count": 8
  },
  {
   "metadata": {
    "ExecuteTime": {
     "end_time": "2025-05-11T11:28:00.310552Z",
     "start_time": "2025-05-11T11:28:00.198772Z"
    }
   },
   "cell_type": "code",
   "source": "qvis.plot_histogram(counts)",
   "id": "7a4d525e1f65d9d0",
   "outputs": [
    {
     "data": {
      "text/plain": [
       "<Figure size 640x480 with 1 Axes>"
      ],
      "image/png": "[encoded data removed]"
     },
     "execution_count": 9,
     "metadata": {},
     "output_type": "execute_result"
    }
   ],
   "execution_count": 9
  },
  {
   "metadata": {},
   "cell_type": "markdown",
   "source": [
    "> as a result you can determine the other qubit if result of one qubit is known\n",
    "> this correlation between 2 qubits is the basis for 2 famous quantum applications - quantum teleportation and super dense codingwhere in each there are 2 qubits that are prepated in an entagled state\n",
    "\n",
    "this preparation of the 2 qubits is represented by the bell state."
   ],
   "id": "442d2d8eb97e4a0b"
  },
  {
   "metadata": {},
   "cell_type": "markdown",
   "source": [
    "## Deutsch's Algorithm\n",
    "\n",
    "> Deutsch's algorithm is a quantum algorithm that solves the problem of determining whether a given function is constant or balanced using only one query to the function. It demonstrates the power of quantum computing in solving certain problems more efficiently than classical algorithms.\n",
    "\n",
    "problem: someone is hiding a coin in each hand for you to determine which possible result out of 4 such.\n",
    "\n",
    "H, H | T, T => constant outcome\n",
    "H, T | T, H => balanced outcome\n",
    "\n",
    "and now with 100 hands in front when in worstcase continue until the 51st hand is revealed 51 becuase if the first 50 hands are heads then 51st would indicate whether it is constant(H) or balanced (T) this equates to $2^(n-1)+1$ tries in the worst case.\n",
    "\n",
    "to solve this problem is the same as opening all the hands at once and determining whether it is constant or balanced\n",
    "\n",
    "\n",
    "Events | $f(0)$ | $f(1)$\n",
    "|---|---|---|\n",
    "| 1 | 0 | 0 |\n",
    "| 2 | 0 | 1 |\n",
    "| 3 | 1 | 0 |\n",
    "| 4 | 1 | 1 |\n",
    "\n",
    "> so we introduce a black box sometimes referred to as an oracle, that is hidden from us"
   ],
   "id": "3888f4d654c60881"
  },
  {
   "metadata": {},
   "cell_type": "markdown",
   "source": [
    "---\n",
    "## 🎯 Goal: Detect if the function is **balanced or constant**\n",
    "\n",
    "Let’s take:\n",
    "\n",
    "```\n",
    "f(0) = 0\n",
    "f(1) = 1  → This is a BALANCED function.\n",
    "```\n",
    "\n",
    "---\n",
    "\n",
    "## 🔢 Step 0: Initial state\n",
    "\n",
    "We start with:\n",
    "\n",
    "```\n",
    "|ψ₀⟩ = |0⟩ ⊗ |1⟩\n",
    "```\n",
    "\n",
    "Apply X gate to q₁ (already done in the circuit), so q₁ becomes `|1⟩`.\n",
    "\n",
    "---\n",
    "\n",
    "## 🔀 Step 1: Apply Hadamard to both qubits\n",
    "\n",
    "We get:\n",
    "\n",
    "```\n",
    "|q₀⟩ = H|0⟩ = (|0⟩ + |1⟩)/√2 = |+⟩\n",
    "|q₁⟩ = H|1⟩ = (|0⟩ − |1⟩)/√2 = |−⟩\n",
    "```\n",
    "\n",
    "The full state:\n",
    "\n",
    "```\n",
    "|ψ₁⟩ = (1/√2)(|0⟩ + |1⟩) ⊗ (1/√2)(|0⟩ − |1⟩)\n",
    "     = (1/2)(|00⟩ − |01⟩ + |10⟩ − |11⟩)\n",
    "```\n",
    "\n",
    "---\n",
    "\n",
    "## 🧠 Step 2: Apply the oracle `Uf` for `f(0)=0`, `f(1)=1`\n",
    "\n",
    "Remember:\n",
    "\n",
    "```\n",
    "Uf |x⟩|y⟩ = |x⟩|y ⊕ f(x)⟩  f(x)[control] y is the target\n",
    "```\n",
    "\n",
    "Apply to each term:\n",
    "\n",
    "1. `|00⟩ → |0⟩|0⊕f(0)⟩ = |0⟩|0⊕0⟩ = |0⟩|0⟩`\n",
    "2. `|01⟩ → |0⟩|1⊕f(0)⟩ = |0⟩|1⊕0⟩ = |0⟩|1⟩`\n",
    "3. `|10⟩ → |1⟩|0⊕f(1)⟩ = |1⟩|0⊕1⟩ = |1⟩|1⟩`\n",
    "4. `|11⟩ → |1⟩|1⊕f(1)⟩ = |1⟩|1⊕1⟩ = |1⟩|0⟩`\n",
    "\n",
    "So we go from:\n",
    "\n",
    "```\n",
    "(1/2)(|00⟩ − |01⟩ + |10⟩ − |11⟩)\n",
    "→ (1/2)(|00⟩ − |01⟩ + |11⟩ − |10⟩)\n",
    "```\n",
    "\n",
    "Rearranging:\n",
    "\n",
    "```\n",
    "= (1/2)(|00⟩ − |01⟩ − |10⟩ + |11⟩)\n",
    "```\n",
    "\n",
    "Now factor again:\n",
    "```\n",
    "|ψ₁⟩ = 1/2 × (|0⟩|0⟩ − |0⟩|1⟩ + |1⟩|1⟩ − |1⟩|0⟩)\n",
    "```\n",
    "Group again:\n",
    "```\n",
    "= 1/2 × [|0⟩(|0⟩ − |1⟩) + |1⟩(|1⟩ − |0⟩)]\n",
    "= 1/2 × [|0⟩(|−⟩) + |1⟩(−|−⟩)]\n",
    "= 1/2 × [|0⟩|−⟩ − |1⟩|−⟩]\n",
    "= 1/2 × (|0⟩ − |1⟩) ⊗ |−⟩\n",
    "```\n",
    "### 👀 BOOM: the minus sign is on |1⟩!\n",
    "\n",
    "The oracle has “flipped the sign” (the phase) of the |1⟩ amplitude in the q₀ qubit.\n",
    "🔍 So how did the phase flip happen?\n",
    "\n",
    "Let’s isolate the key:\n",
    "\n",
    "You started with:\n",
    "```\n",
    "(|0⟩ + |1⟩) ⊗ (|0⟩ − |1⟩)\n",
    "```\n",
    "Then applied a CNOT-like gate where the control is x (q₀), and the target is q₁ (scratch qubit).\n",
    "\n",
    "When f(1) = 1, this gate flips q₁ if q₀ = 1, which ends up inverting the sign of the whole amplitude for |1⟩ — because it sends |−⟩ → −|−⟩ when X is applied to it.\n",
    "\n",
    "This is called phase kickback.\n",
    "\n",
    "The act of flipping q₁ puts a minus sign in the amplitude of q₀=1.\n",
    "\n",
    "So in short, after the oracle:\n",
    "\n",
    "```\n",
    "|ψ₂⟩ = (1/√2)(|0⟩ − |1⟩) ⊗ |−⟩\n",
    "```\n",
    "\n",
    "> The phase difference between `|0⟩` and `|1⟩` in `q₀` is now:\n",
    "> `(−1)^{f(0)}|0⟩ + (−1)^{f(1)}|1⟩ = |0⟩ − |1⟩`\n",
    "\n",
    "---\n",
    "\n",
    "## 🎯 Step 3: Final Hadamard on `q₀`\n",
    "\n",
    "Apply Hadamard to `q₀ = (|0⟩ − |1⟩)/√2`:\n",
    "\n",
    "```\n",
    "H(|0⟩ − |1⟩)/√2\n",
    "= (1/√2)[(H|0⟩ − H|1⟩)]\n",
    "= (1/√2)[((|0⟩ + |1⟩)/√2 − (|0⟩ − |1⟩)/√2)]\n",
    "= (1/√2)[(1/√2)(|0⟩ + |1⟩ − |0⟩ + |1⟩)]\n",
    "= (1/√2)[(2|1⟩)/√2]\n",
    "= |1⟩\n",
    "```\n",
    "\n",
    "Boom! So now:\n",
    "\n",
    "* `q₀ = |1⟩`\n",
    "* Measurement will give **1 with 100% probability**\n",
    "\n",
    "That means the function is **balanced** ✅\n",
    "\n",
    "---\n",
    "\n",
    "## 🔄 Summary Table\n",
    "\n",
    "| f(0) | f(1) | f type   | Final q₀ state | Measure |   |\n",
    "| ---- | ---- | -------- | -------------- | ------- | - |\n",
    "| 0    | 0    | Constant | \\`             | 0⟩\\`    | 0 |\n",
    "| 1    | 1    | Constant | \\`             | 0⟩\\`    | 0 |\n",
    "| 0    | 1    | Balanced | \\`             | 1⟩\\`    | 1 |\n",
    "| 1    | 0    | Balanced | \\`             | 1⟩\\`    | 1 |\n",
    "\n",
    "---\n",
    "\n",
    "Want to try the constant function (`f(0)=1`, `f(1)=1`) example next for contrast?\n"
   ],
   "id": "33cb6a2954000e86"
  },
  {
   "metadata": {},
   "cell_type": "markdown",
   "source": [
    "$U_f: |x\\rangle|y\\rangle \\mapsto |x\\rangle,   |y \\oplus f(x)\\rangle$\n",
    "\n",
    "Inp and Output"
   ],
   "id": "1cbc5f228b9ae35a"
  },
  {
   "metadata": {
    "ExecuteTime": {
     "end_time": "2025-05-11T11:28:00.329363Z",
     "start_time": "2025-05-11T11:28:00.319703Z"
    }
   },
   "cell_type": "code",
   "source": [
    "qc = QuantumCircuit(2, 1)\n",
    "\n",
    "qc.id(0)\n",
    "qc.x(1)\n",
    "# q_0 = |0>, q_1 = |1> which creates the fist state at the barrier (\\omg_0) = |01>\n",
    "qc.barrier()\n",
    "qc.draw()"
   ],
   "id": "49ca9d1a588b99e0",
   "outputs": [
    {
     "data": {
      "text/plain": [
       "     ┌───┐ ░ \n",
       "q_0: ┤ I ├─░─\n",
       "     ├───┤ ░ \n",
       "q_1: ┤ X ├─░─\n",
       "     └───┘ ░ \n",
       "c: 1/════════\n",
       "             "
      ],
      "text/html": [
       "<pre style=\"word-wrap: normal;white-space: pre;background: #fff0;line-height: 1.1;font-family: &quot;Courier New&quot;,Courier,monospace\">     ┌───┐ ░ \n",
       "q_0: ┤ I ├─░─\n",
       "     ├───┤ ░ \n",
       "q_1: ┤ X ├─░─\n",
       "     └───┘ ░ \n",
       "c: 1/════════\n",
       "             </pre>"
      ]
     },
     "execution_count": 10,
     "metadata": {},
     "output_type": "execute_result"
    }
   ],
   "execution_count": 10
  },
  {
   "metadata": {
    "ExecuteTime": {
     "end_time": "2025-05-11T11:28:00.389433Z",
     "start_time": "2025-05-11T11:28:00.383157Z"
    }
   },
   "cell_type": "code",
   "source": [
    "qc.h(range(2))\n",
    "qc.barrier()\n",
    "qc.draw()"
   ],
   "id": "5e26c9072ad99c09",
   "outputs": [
    {
     "data": {
      "text/plain": [
       "     ┌───┐ ░ ┌───┐ ░ \n",
       "q_0: ┤ I ├─░─┤ H ├─░─\n",
       "     ├───┤ ░ ├───┤ ░ \n",
       "q_1: ┤ X ├─░─┤ H ├─░─\n",
       "     └───┘ ░ └───┘ ░ \n",
       "c: 1/════════════════\n",
       "                     "
      ],
      "text/html": [
       "<pre style=\"word-wrap: normal;white-space: pre;background: #fff0;line-height: 1.1;font-family: &quot;Courier New&quot;,Courier,monospace\">     ┌───┐ ░ ┌───┐ ░ \n",
       "q_0: ┤ I ├─░─┤ H ├─░─\n",
       "     ├───┤ ░ ├───┤ ░ \n",
       "q_1: ┤ X ├─░─┤ H ├─░─\n",
       "     └───┘ ░ └───┘ ░ \n",
       "c: 1/════════════════\n",
       "                     </pre>"
      ]
     },
     "execution_count": 11,
     "metadata": {},
     "output_type": "execute_result"
    }
   ],
   "execution_count": 11
  },
  {
   "metadata": {
    "ExecuteTime": {
     "end_time": "2025-05-11T11:28:00.461603Z",
     "start_time": "2025-05-11T11:28:00.449105Z"
    }
   },
   "cell_type": "code",
   "source": [
    "qc.cx(0,1) # entangles\n",
    "qc.barrier()\n",
    "qc.h(range(2))\n",
    "qc.measure([0],[0])\n",
    "qc.draw()"
   ],
   "id": "f46cdf39d6e92231",
   "outputs": [
    {
     "data": {
      "text/plain": [
       "     ┌───┐ ░ ┌───┐ ░       ░ ┌───┐┌─┐\n",
       "q_0: ┤ I ├─░─┤ H ├─░───■───░─┤ H ├┤M├\n",
       "     ├───┤ ░ ├───┤ ░ ┌─┴─┐ ░ ├───┤└╥┘\n",
       "q_1: ┤ X ├─░─┤ H ├─░─┤ X ├─░─┤ H ├─╫─\n",
       "     └───┘ ░ └───┘ ░ └───┘ ░ └───┘ ║ \n",
       "c: 1/══════════════════════════════╩═\n",
       "                                   0 "
      ],
      "text/html": [
       "<pre style=\"word-wrap: normal;white-space: pre;background: #fff0;line-height: 1.1;font-family: &quot;Courier New&quot;,Courier,monospace\">     ┌───┐ ░ ┌───┐ ░       ░ ┌───┐┌─┐\n",
       "q_0: ┤ I ├─░─┤ H ├─░───■───░─┤ H ├┤M├\n",
       "     ├───┤ ░ ├───┤ ░ ┌─┴─┐ ░ ├───┤└╥┘\n",
       "q_1: ┤ X ├─░─┤ H ├─░─┤ X ├─░─┤ H ├─╫─\n",
       "     └───┘ ░ └───┘ ░ └───┘ ░ └───┘ ║ \n",
       "c: 1/══════════════════════════════╩═\n",
       "                                   0 </pre>"
      ]
     },
     "execution_count": 12,
     "metadata": {},
     "output_type": "execute_result"
    }
   ],
   "execution_count": 12
  },
  {
   "metadata": {
    "ExecuteTime": {
     "end_time": "2025-05-11T11:28:00.618814Z",
     "start_time": "2025-05-11T11:28:00.512676Z"
    }
   },
   "cell_type": "code",
   "source": [
    "counts = execute_circut(qc).get_counts()\n",
    "print(counts)\n",
    "qvis.plot_histogram(counts)"
   ],
   "id": "470141008f472681",
   "outputs": [
    {
     "name": "stdout",
     "output_type": "stream",
     "text": [
      "{'1': 1024}\n"
     ]
    },
    {
     "data": {
      "text/plain": [
       "<Figure size 640x480 with 1 Axes>"
      ],
      "image/png": "[encoded data removed]"
     },
     "execution_count": 13,
     "metadata": {},
     "output_type": "execute_result"
    }
   ],
   "execution_count": 13
  },
  {
   "metadata": {
    "ExecuteTime": {
     "end_time": "2025-05-11T11:28:00.628106Z",
     "start_time": "2025-05-11T11:28:00.625282Z"
    }
   },
   "cell_type": "code",
   "source": "# Running on real device will just introduce some errors",
   "id": "830c34672e400c80",
   "outputs": [],
   "execution_count": 14
  },
  {
   "metadata": {
    "ExecuteTime": {
     "end_time": "2025-05-11T11:28:10.275625Z",
     "start_time": "2025-05-11T11:28:00.675337Z"
    }
   },
   "cell_type": "code",
   "source": [
    "from ibmq import IBMQClient\n",
    "\n",
    "ibm_client = IBMQClient()"
   ],
   "id": "a9ad94d5cb540b84",
   "outputs": [],
   "execution_count": 15
  },
  {
   "metadata": {
    "ExecuteTime": {
     "end_time": "2025-05-11T12:00:09.573067Z",
     "start_time": "2025-05-11T11:28:10.294975Z"
    }
   },
   "cell_type": "code",
   "source": "res = ibm_client.execute(qc, 1024)",
   "id": "4bc32037da9e2b18",
   "outputs": [
    {
     "name": "stdout",
     "output_type": "stream",
     "text": [
      "Least busy backend: ibm_sherbrooke\n",
      "Job ID is d0g8kpecrrag008brar0\n"
     ]
    }
   ],
   "execution_count": 16
  },
  {
   "metadata": {
    "ExecuteTime": {
     "end_time": "2025-05-11T12:14:49.944238Z",
     "start_time": "2025-05-11T12:14:49.861058Z"
    }
   },
   "cell_type": "code",
   "source": "qvis.plot_histogram(res[0].data['c'].get_counts())",
   "id": "ec1482f0aeab9dea",
   "outputs": [
    {
     "data": {
      "text/plain": [
       "<Figure size 640x480 with 1 Axes>"
      ],
      "image/png": "[encoded data removed]"
     },
     "execution_count": 26,
     "metadata": {},
     "output_type": "execute_result"
    }
   ],
   "execution_count": 26
  },
  {
   "metadata": {},
   "cell_type": "code",
   "outputs": [],
   "execution_count": null,
   "source": "",
   "id": "4332cfbb1b2c1105"
  }
 ],
 "metadata": {
  "kernelspec": {
   "display_name": "Python 3",
   "language": "python",
   "name": "python3"
  },
  "language_info": {
   "codemirror_mode": {
    "name": "ipython",
    "version": 2
   },
   "file_extension": ".py",
   "mimetype": "text/x-python",
   "name": "python",
   "nbconvert_exporter": "python",
   "pygments_lexer": "ipython2",
   "version": "2.7.6"
  }
 },
 "nbformat": 4,
 "nbformat_minor": 5
}
