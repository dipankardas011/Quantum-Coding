{
 "cells": [
  {
   "metadata": {},
   "cell_type": "markdown",
   "source": [
    "**Bernstein-Vazirani algorithm**\n",
    "\n",
    "---\n",
    "\n",
    "### 📌 The Problem\n",
    "\n",
    "You are given a **black-box function** (or oracle) $f: \\{0,1\\}^n \\rightarrow \\{0,1\\}$, defined as:\n",
    "\n",
    "$$\n",
    "f(x) = a \\cdot x \\mod 2\n",
    "$$\n",
    "\n",
    "Here:\n",
    "\n",
    "* $x$ is an $n$-bit input.\n",
    "* $a$ is a secret $n$-bit string (like `101011...`) that you want to find.\n",
    "* The dot product $a \\cdot x$ is the **bitwise inner product mod 2**:\n",
    "\n",
    "$$\n",
    "a \\cdot x = a_0 x_0 \\oplus a_1 x_1 \\oplus \\ldots \\oplus a_{n-1} x_{n-1}\n",
    "$$\n",
    "\n",
    "---\n",
    "\n",
    "### ⚛️ Quantum Approach (Bernstein-Vazirani Algorithm)\n",
    "\n",
    "Quantumly, you can find **all bits of $a$** in **a single query** to the oracle.\n",
    "\n",
    "---\n",
    "\n",
    "### 🔧 How It Works – Step by Step\n",
    "\n",
    "1. **Initialize the qubits**:\n",
    "\n",
    "   * Start with $n$ qubits in $|0\\rangle$ and one ancilla qubit in $|1\\rangle$:\n",
    "\n",
    "     $$\n",
    "     |0\\rangle^{\\otimes n} |1\\rangle\n",
    "     $$\n",
    "\n",
    "2. **Apply Hadamard gates**:\n",
    "\n",
    "   * Apply Hadamard (H) to all $n+1$ qubits:\n",
    "\n",
    "     $$\n",
    "     \\frac{1}{\\sqrt{2^n}} \\sum_{x=0}^{2^n-1} |x\\rangle \\cdot \\frac{1}{\\sqrt{2}}(|0\\rangle - |1\\rangle)\n",
    "     $$\n",
    "\n",
    "3. **Apply the oracle $U_f$**:\n",
    "\n",
    "   * It maps $|x\\rangle |y\\rangle \\to |x\\rangle |y \\oplus f(x)\\rangle$\n",
    "   * Since ancilla is in $\\frac{|0\\rangle - |1\\rangle}{\\sqrt{2}}$, applying $f(x)$ flips the phase:\n",
    "\n",
    "     $$\n",
    "     |x\\rangle \\frac{|0\\rangle - |1\\rangle}{\\sqrt{2}} \\rightarrow (-1)^{f(x)} |x\\rangle \\frac{|0\\rangle - |1\\rangle}{\\sqrt{2}}\n",
    "     $$\n",
    "\n",
    "4. **Apply Hadamard gates again to the first $n$ qubits**.\n",
    "\n",
    "5. **Measure the first $n$ qubits**:\n",
    "\n",
    "   * You get $|a\\rangle$ — the secret bitstring — **with certainty**.\n",
    "\n",
    "---\n",
    "\n",
    "### 🧠 Why It Works\n",
    "\n",
    "* The Hadamard transforms spread out and then collapse the amplitude in such a way that the interference pattern makes all amplitudes cancel **except the one corresponding to $a$**.\n",
    "* It's a simple yet powerful demo of quantum **constructive and destructive interference**.\n",
    "\n",
    "---\n",
    "\n",
    "### 📈 Quantum Speedup\n",
    "\n",
    "| Classical Queries | Quantum Queries |\n",
    "| ----------------- | --------------- |\n",
    "| $n$               | **1**           |\n",
    "\n",
    "---\n",
    "\n",
    "Would you like to see a small example, like for $n = 3$?\n"
   ],
   "id": "a8f216902fc15cec"
  },
  {
   "cell_type": "code",
   "id": "initial_id",
   "metadata": {
    "collapsed": true,
    "ExecuteTime": {
     "end_time": "2025-05-11T15:23:05.556290Z",
     "start_time": "2025-05-11T15:23:05.550450Z"
    }
   },
   "source": [
    "from qiskit import QuantumCircuit\n",
    "from qiskit.visualization import plot_histogram\n",
    "from qiskit_aer import AerSimulator\n"
   ],
   "outputs": [],
   "execution_count": 21
  },
  {
   "metadata": {
    "ExecuteTime": {
     "end_time": "2025-05-11T15:23:05.606763Z",
     "start_time": "2025-05-11T15:23:05.603033Z"
    }
   },
   "cell_type": "code",
   "source": [
    "shh = '1010'\n",
    "\n",
    "inp_qubits = len(shh)\n",
    "y_qubit = 1\n",
    "total_qubits = inp_qubits + y_qubit\n",
    "\n",
    "qc = QuantumCircuit(total_qubits, inp_qubits)"
   ],
   "id": "27606d667ac47a66",
   "outputs": [],
   "execution_count": 22
  },
  {
   "metadata": {
    "ExecuteTime": {
     "end_time": "2025-05-11T15:23:05.670110Z",
     "start_time": "2025-05-11T15:23:05.657544Z"
    }
   },
   "cell_type": "code",
   "source": [
    "qc.x(total_qubits-1)\n",
    "\n",
    "qc.h(range(total_qubits))\n",
    "qc.barrier()\n",
    "qc.draw()"
   ],
   "id": "e90933fc26c76c07",
   "outputs": [
    {
     "data": {
      "text/plain": [
       "     ┌───┐      ░ \n",
       "q_0: ┤ H ├──────░─\n",
       "     ├───┤      ░ \n",
       "q_1: ┤ H ├──────░─\n",
       "     ├───┤      ░ \n",
       "q_2: ┤ H ├──────░─\n",
       "     ├───┤      ░ \n",
       "q_3: ┤ H ├──────░─\n",
       "     ├───┤┌───┐ ░ \n",
       "q_4: ┤ X ├┤ H ├─░─\n",
       "     └───┘└───┘ ░ \n",
       "c: 4/═════════════\n",
       "                  "
      ],
      "text/html": [
       "<pre style=\"word-wrap: normal;white-space: pre;background: #fff0;line-height: 1.1;font-family: &quot;Courier New&quot;,Courier,monospace\">     ┌───┐      ░ \n",
       "q_0: ┤ H ├──────░─\n",
       "     ├───┤      ░ \n",
       "q_1: ┤ H ├──────░─\n",
       "     ├───┤      ░ \n",
       "q_2: ┤ H ├──────░─\n",
       "     ├───┤      ░ \n",
       "q_3: ┤ H ├──────░─\n",
       "     ├───┤┌───┐ ░ \n",
       "q_4: ┤ X ├┤ H ├─░─\n",
       "     └───┘└───┘ ░ \n",
       "c: 4/═════════════\n",
       "                  </pre>"
      ]
     },
     "execution_count": 23,
     "metadata": {},
     "output_type": "execute_result"
    }
   ],
   "execution_count": 23
  },
  {
   "metadata": {},
   "cell_type": "markdown",
   "source": "> we need quick bit order adjustment before we apply our oracle function. Since qubits are ordered from left to right we need to reverse the order of the bits in our string.",
   "id": "735e8543f770dc36"
  },
  {
   "metadata": {
    "ExecuteTime": {
     "end_time": "2025-05-11T15:23:05.750617Z",
     "start_time": "2025-05-11T15:23:05.741314Z"
    }
   },
   "cell_type": "code",
   "source": [
    "shh = shh[::-1]\n",
    "shh"
   ],
   "id": "ec849260bb020c61",
   "outputs": [
    {
     "data": {
      "text/plain": [
       "'0101'"
      ]
     },
     "execution_count": 24,
     "metadata": {},
     "output_type": "execute_result"
    }
   ],
   "execution_count": 24
  },
  {
   "metadata": {
    "ExecuteTime": {
     "end_time": "2025-05-11T15:23:05.814113Z",
     "start_time": "2025-05-11T15:23:05.804586Z"
    }
   },
   "cell_type": "code",
   "source": [
    "# add cnot when we get a 1\n",
    "for i, bit in enumerate(shh):\n",
    "    if bit == '1':\n",
    "        qc.cx(i, total_qubits-1)\n",
    "qc.barrier()\n",
    "qc.draw()"
   ],
   "id": "900ebe5f8205dab5",
   "outputs": [
    {
     "data": {
      "text/plain": [
       "     ┌───┐      ░            ░ \n",
       "q_0: ┤ H ├──────░────────────░─\n",
       "     ├───┤      ░            ░ \n",
       "q_1: ┤ H ├──────░───■────────░─\n",
       "     ├───┤      ░   │        ░ \n",
       "q_2: ┤ H ├──────░───┼────────░─\n",
       "     ├───┤      ░   │        ░ \n",
       "q_3: ┤ H ├──────░───┼────■───░─\n",
       "     ├───┤┌───┐ ░ ┌─┴─┐┌─┴─┐ ░ \n",
       "q_4: ┤ X ├┤ H ├─░─┤ X ├┤ X ├─░─\n",
       "     └───┘└───┘ ░ └───┘└───┘ ░ \n",
       "c: 4/══════════════════════════\n",
       "                               "
      ],
      "text/html": [
       "<pre style=\"word-wrap: normal;white-space: pre;background: #fff0;line-height: 1.1;font-family: &quot;Courier New&quot;,Courier,monospace\">     ┌───┐      ░            ░ \n",
       "q_0: ┤ H ├──────░────────────░─\n",
       "     ├───┤      ░            ░ \n",
       "q_1: ┤ H ├──────░───■────────░─\n",
       "     ├───┤      ░   │        ░ \n",
       "q_2: ┤ H ├──────░───┼────────░─\n",
       "     ├───┤      ░   │        ░ \n",
       "q_3: ┤ H ├──────░───┼────■───░─\n",
       "     ├───┤┌───┐ ░ ┌─┴─┐┌─┴─┐ ░ \n",
       "q_4: ┤ X ├┤ H ├─░─┤ X ├┤ X ├─░─\n",
       "     └───┘└───┘ ░ └───┘└───┘ ░ \n",
       "c: 4/══════════════════════════\n",
       "                               </pre>"
      ]
     },
     "execution_count": 25,
     "metadata": {},
     "output_type": "execute_result"
    }
   ],
   "execution_count": 25
  },
  {
   "metadata": {
    "ExecuteTime": {
     "end_time": "2025-05-11T15:23:05.873605Z",
     "start_time": "2025-05-11T15:23:05.862740Z"
    }
   },
   "cell_type": "code",
   "source": [
    "qc.h(range(inp_qubits))\n",
    "qc.barrier()\n",
    "qc.measure(range(inp_qubits), range(inp_qubits))\n",
    "qc.draw()"
   ],
   "id": "5a002c4087290c8b",
   "outputs": [
    {
     "data": {
      "text/plain": [
       "     ┌───┐      ░            ░ ┌───┐ ░ ┌─┐         \n",
       "q_0: ┤ H ├──────░────────────░─┤ H ├─░─┤M├─────────\n",
       "     ├───┤      ░            ░ ├───┤ ░ └╥┘┌─┐      \n",
       "q_1: ┤ H ├──────░───■────────░─┤ H ├─░──╫─┤M├──────\n",
       "     ├───┤      ░   │        ░ ├───┤ ░  ║ └╥┘┌─┐   \n",
       "q_2: ┤ H ├──────░───┼────────░─┤ H ├─░──╫──╫─┤M├───\n",
       "     ├───┤      ░   │        ░ ├───┤ ░  ║  ║ └╥┘┌─┐\n",
       "q_3: ┤ H ├──────░───┼────■───░─┤ H ├─░──╫──╫──╫─┤M├\n",
       "     ├───┤┌───┐ ░ ┌─┴─┐┌─┴─┐ ░ └───┘ ░  ║  ║  ║ └╥┘\n",
       "q_4: ┤ X ├┤ H ├─░─┤ X ├┤ X ├─░───────░──╫──╫──╫──╫─\n",
       "     └───┘└───┘ ░ └───┘└───┘ ░       ░  ║  ║  ║  ║ \n",
       "c: 4/═══════════════════════════════════╩══╩══╩══╩═\n",
       "                                        0  1  2  3 "
      ],
      "text/html": [
       "<pre style=\"word-wrap: normal;white-space: pre;background: #fff0;line-height: 1.1;font-family: &quot;Courier New&quot;,Courier,monospace\">     ┌───┐      ░            ░ ┌───┐ ░ ┌─┐         \n",
       "q_0: ┤ H ├──────░────────────░─┤ H ├─░─┤M├─────────\n",
       "     ├───┤      ░            ░ ├───┤ ░ └╥┘┌─┐      \n",
       "q_1: ┤ H ├──────░───■────────░─┤ H ├─░──╫─┤M├──────\n",
       "     ├───┤      ░   │        ░ ├───┤ ░  ║ └╥┘┌─┐   \n",
       "q_2: ┤ H ├──────░───┼────────░─┤ H ├─░──╫──╫─┤M├───\n",
       "     ├───┤      ░   │        ░ ├───┤ ░  ║  ║ └╥┘┌─┐\n",
       "q_3: ┤ H ├──────░───┼────■───░─┤ H ├─░──╫──╫──╫─┤M├\n",
       "     ├───┤┌───┐ ░ ┌─┴─┐┌─┴─┐ ░ └───┘ ░  ║  ║  ║ └╥┘\n",
       "q_4: ┤ X ├┤ H ├─░─┤ X ├┤ X ├─░───────░──╫──╫──╫──╫─\n",
       "     └───┘└───┘ ░ └───┘└───┘ ░       ░  ║  ║  ║  ║ \n",
       "c: 4/═══════════════════════════════════╩══╩══╩══╩═\n",
       "                                        0  1  2  3 </pre>"
      ]
     },
     "execution_count": 26,
     "metadata": {},
     "output_type": "execute_result"
    }
   ],
   "execution_count": 26
  },
  {
   "metadata": {
    "ExecuteTime": {
     "end_time": "2025-05-11T15:23:24.407240Z",
     "start_time": "2025-05-11T15:23:23.508234Z"
    }
   },
   "cell_type": "code",
   "source": [
    "res = AerSimulator().run(qc, shots=1024).result()\n",
    "counts = res.get_counts()\n",
    "plot_histogram(counts)"
   ],
   "id": "95ef7e9c5f6c3ef9",
   "outputs": [
    {
     "data": {
      "text/plain": [
       "<Figure size 640x480 with 1 Axes>"
      ],
      "image/png": "[encoded data removed]"
     },
     "execution_count": 27,
     "metadata": {},
     "output_type": "execute_result"
    }
   ],
   "execution_count": 27
  },
  {
   "metadata": {
    "ExecuteTime": {
     "end_time": "2025-05-11T15:23:55.061151Z",
     "start_time": "2025-05-11T15:23:46.075300Z"
    }
   },
   "cell_type": "code",
   "source": [
    "from ibmq import IBMQClient\n",
    "\n",
    "ibm_client = IBMQClient()"
   ],
   "id": "958f4c1cbd086d9f",
   "outputs": [],
   "execution_count": 28
  },
  {
   "metadata": {
    "ExecuteTime": {
     "end_time": "2025-05-11T15:24:28.978064Z",
     "start_time": "2025-05-11T15:24:04.681054Z"
    }
   },
   "cell_type": "code",
   "source": [
    "res = ibm_client.execute(qc, 1024)\n",
    "plot_histogram(res[0].data['c'].get_counts())"
   ],
   "id": "47337ff53ba9622f",
   "outputs": [
    {
     "name": "stdout",
     "output_type": "stream",
     "text": [
      "Least busy backend: ibm_brisbane\n",
      "Job ID is d0gc2998jzxg008meqr0\n"
     ]
    },
    {
     "data": {
      "text/plain": [
       "<Figure size 640x480 with 1 Axes>"
      ],
      "image/png": "[encoded data removed]"
     },
     "execution_count": 29,
     "metadata": {},
     "output_type": "execute_result"
    }
   ],
   "execution_count": 29
  }
 ],
 "metadata": {
  "kernelspec": {
   "display_name": "Python 3",
   "language": "python",
   "name": "python3"
  },
  "language_info": {
   "codemirror_mode": {
    "name": "ipython",
    "version": 2
   },
   "file_extension": ".py",
   "mimetype": "text/x-python",
   "name": "python",
   "nbconvert_exporter": "python",
   "pygments_lexer": "ipython2",
   "version": "2.7.6"
  }
 },
 "nbformat": 4,
 "nbformat_minor": 5
}
