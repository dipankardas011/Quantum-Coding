{
 "cells": [
  {
   "metadata": {},
   "cell_type": "markdown",
   "source": [
    "**Deutsch-Jozsa algorithm**\n",
    "\n",
    "### 🔍 Problem It Solves\n",
    "\n",
    "You are given a **black-box function** `f(x)` that takes an `n`-bit input and returns either `0` or `1`. You are promised that the function is:\n",
    "\n",
    "* **Constant**: returns the same output for all inputs (always `0` or always `1`), or\n",
    "* **Balanced**: returns `0` for exactly half of the inputs and `1` for the other half.\n",
    "\n",
    "🧠 **Goal**: Determine whether `f(x)` is constant or balanced, using as few evaluations as possible.\n",
    "\n",
    "### ⚙️ How the Algorithm Works (High-Level Steps)\n",
    "\n",
    "Let’s assume `n` input qubits (for `x`) and 1 output qubit (for `f(x)`).\n",
    "\n",
    "1. **Initialize** the system:\n",
    "\n",
    "   * Input qubits: |0⟩ⁿ → `|000...0⟩`\n",
    "   * Output qubit: |1⟩\n",
    "\n",
    "2. **Apply Hadamard gates** to all qubits:\n",
    "\n",
    "   * Input qubits become a superposition of all possible values of `x`\n",
    "   * Output qubit becomes: (|0⟩ - |1⟩)/√2\n",
    "\n",
    "3. **Apply the oracle** (a quantum version of `f(x)`):\n",
    "\n",
    "   * It flips the sign of the amplitude of states where `f(x) = 1`\n",
    "   * Mathematically: `|x⟩|y⟩ → |x⟩|y ⊕ f(x)⟩`\n",
    "\n",
    "4. **Apply Hadamard again** to the input qubits.\n",
    "\n",
    "5. **Measure the input qubits**:\n",
    "\n",
    "   * If the result is all zeros (`|0...0⟩`), `f(x)` is **constant**\n",
    "   * Otherwise, `f(x)` is **balanced**\n",
    "\n",
    "---\n",
    "\n",
    "### ✨ Why It Works\n",
    "\n",
    "The Hadamard gates exploit quantum parallelism. When the oracle applies `f(x)` across the superposition, the amplitudes interfere constructively or destructively depending on whether `f(x)` is constant or balanced.\n",
    "\n",
    "This interference lets you **extract global information about `f(x)`** with just **one query**—something that’s not possible classically.\n",
    "\n",
    "---\n",
    "\n",
    "### 🧪 Example (n = 1)\n",
    "\n",
    "* If `f(0) = f(1)` → constant\n",
    "* If `f(0) ≠ f(1)` → balanced\n",
    "\n",
    "Quantum circuit:\n",
    "\n",
    "```\n",
    "|0⟩ --H--●--H-- Measure\n",
    "         |\n",
    "|1⟩ --H--⊕-----\n",
    "```\n",
    "\n",
    "$$\n",
    "U_f |X⟩|y⟩ = |X⟩|y \\oplus f(X)\\rangle, where X \\in \\{0,1\\}^n\n",
    "$$\n",
    "> aka multi qubits"
   ],
   "id": "c41cf1359e589315"
  },
  {
   "metadata": {
    "ExecuteTime": {
     "end_time": "2025-05-11T14:47:28.699727Z",
     "start_time": "2025-05-11T14:47:28.693404Z"
    }
   },
   "cell_type": "code",
   "source": [
    "from qiskit import QuantumCircuit\n",
    "from qiskit_aer import AerSimulator"
   ],
   "id": "2d12b00e5272a3f0",
   "outputs": [],
   "execution_count": 18
  },
  {
   "cell_type": "code",
   "id": "initial_id",
   "metadata": {
    "collapsed": true,
    "ExecuteTime": {
     "end_time": "2025-05-11T14:47:28.746696Z",
     "start_time": "2025-05-11T14:47:28.742767Z"
    }
   },
   "source": [
    "X_qubits = 4\n",
    "\n",
    "y_qubit = 1\n",
    "\n",
    "n_qubits = X_qubits+y_qubit"
   ],
   "outputs": [],
   "execution_count": 19
  },
  {
   "metadata": {
    "ExecuteTime": {
     "end_time": "2025-05-11T14:47:28.816332Z",
     "start_time": "2025-05-11T14:47:28.801028Z"
    }
   },
   "cell_type": "code",
   "source": [
    "qc = QuantumCircuit(n_qubits, X_qubits)\n",
    "qc.x(X_qubits)\n",
    "\n",
    "qc.h(range(n_qubits))\n",
    "\n",
    "qc.barrier()\n",
    "qc.draw()"
   ],
   "id": "1a7184080447a7bb",
   "outputs": [
    {
     "data": {
      "text/plain": [
       "     ┌───┐      ░ \n",
       "q_0: ┤ H ├──────░─\n",
       "     ├───┤      ░ \n",
       "q_1: ┤ H ├──────░─\n",
       "     ├───┤      ░ \n",
       "q_2: ┤ H ├──────░─\n",
       "     ├───┤      ░ \n",
       "q_3: ┤ H ├──────░─\n",
       "     ├───┤┌───┐ ░ \n",
       "q_4: ┤ X ├┤ H ├─░─\n",
       "     └───┘└───┘ ░ \n",
       "c: 4/═════════════\n",
       "                  "
      ],
      "text/html": [
       "<pre style=\"word-wrap: normal;white-space: pre;background: #fff0;line-height: 1.1;font-family: &quot;Courier New&quot;,Courier,monospace\">     ┌───┐      ░ \n",
       "q_0: ┤ H ├──────░─\n",
       "     ├───┤      ░ \n",
       "q_1: ┤ H ├──────░─\n",
       "     ├───┤      ░ \n",
       "q_2: ┤ H ├──────░─\n",
       "     ├───┤      ░ \n",
       "q_3: ┤ H ├──────░─\n",
       "     ├───┤┌───┐ ░ \n",
       "q_4: ┤ X ├┤ H ├─░─\n",
       "     └───┘└───┘ ░ \n",
       "c: 4/═════════════\n",
       "                  </pre>"
      ]
     },
     "execution_count": 20,
     "metadata": {},
     "output_type": "execute_result"
    }
   ],
   "execution_count": 20
  },
  {
   "metadata": {},
   "cell_type": "markdown",
   "source": [
    "$$\n",
    "|\\psi\\rangle = \\frac{1}{\\sqrt{2^n}} \\sum_{X \\in \\{0,1\\}^n} (-1)^{f(x)} |x\\rangle (\\frac{|0\\rangle - |1\\rangle}{\\sqrt{2}})\n",
    "$$"
   ],
   "id": "faf41943429eb9fb"
  },
  {
   "metadata": {
    "ExecuteTime": {
     "end_time": "2025-05-11T14:47:28.905947Z",
     "start_time": "2025-05-11T14:47:28.890412Z"
    }
   },
   "cell_type": "code",
   "source": [
    "# our bit string '1010' by placing X gate with the set bit and identity gate when none is there\n",
    "qc.id(0)\n",
    "qc.x(1)\n",
    "qc.id(2)\n",
    "qc.x(3)\n",
    "qc.barrier()\n",
    "qc.draw()"
   ],
   "id": "f75538199c821673",
   "outputs": [
    {
     "data": {
      "text/plain": [
       "     ┌───┐      ░ ┌───┐ ░ \n",
       "q_0: ┤ H ├──────░─┤ I ├─░─\n",
       "     ├───┤      ░ ├───┤ ░ \n",
       "q_1: ┤ H ├──────░─┤ X ├─░─\n",
       "     ├───┤      ░ ├───┤ ░ \n",
       "q_2: ┤ H ├──────░─┤ I ├─░─\n",
       "     ├───┤      ░ ├───┤ ░ \n",
       "q_3: ┤ H ├──────░─┤ X ├─░─\n",
       "     ├───┤┌───┐ ░ └───┘ ░ \n",
       "q_4: ┤ X ├┤ H ├─░───────░─\n",
       "     └───┘└───┘ ░       ░ \n",
       "c: 4/═════════════════════\n",
       "                          "
      ],
      "text/html": [
       "<pre style=\"word-wrap: normal;white-space: pre;background: #fff0;line-height: 1.1;font-family: &quot;Courier New&quot;,Courier,monospace\">     ┌───┐      ░ ┌───┐ ░ \n",
       "q_0: ┤ H ├──────░─┤ I ├─░─\n",
       "     ├───┤      ░ ├───┤ ░ \n",
       "q_1: ┤ H ├──────░─┤ X ├─░─\n",
       "     ├───┤      ░ ├───┤ ░ \n",
       "q_2: ┤ H ├──────░─┤ I ├─░─\n",
       "     ├───┤      ░ ├───┤ ░ \n",
       "q_3: ┤ H ├──────░─┤ X ├─░─\n",
       "     ├───┤┌───┐ ░ └───┘ ░ \n",
       "q_4: ┤ X ├┤ H ├─░───────░─\n",
       "     └───┘└───┘ ░       ░ \n",
       "c: 4/═════════════════════\n",
       "                          </pre>"
      ]
     },
     "execution_count": 21,
     "metadata": {},
     "output_type": "execute_result"
    }
   ],
   "execution_count": 21
  },
  {
   "metadata": {
    "ExecuteTime": {
     "end_time": "2025-05-11T14:47:28.998291Z",
     "start_time": "2025-05-11T14:47:28.977504Z"
    }
   },
   "cell_type": "code",
   "source": [
    "# our oracle we will set it to a balanced output where all outputs should be 1s with zero prob of 0s by adding CNOT and set target to last bit so that phase shift can happen\n",
    "qc.cx([_ for _ in range(X_qubits)], X_qubits)\n",
    "qc.barrier()\n",
    "qc.draw()"
   ],
   "id": "4d975111657750f2",
   "outputs": [
    {
     "data": {
      "text/plain": [
       "     ┌───┐      ░ ┌───┐ ░                      ░ \n",
       "q_0: ┤ H ├──────░─┤ I ├─░───■──────────────────░─\n",
       "     ├───┤      ░ ├───┤ ░   │                  ░ \n",
       "q_1: ┤ H ├──────░─┤ X ├─░───┼────■─────────────░─\n",
       "     ├───┤      ░ ├───┤ ░   │    │             ░ \n",
       "q_2: ┤ H ├──────░─┤ I ├─░───┼────┼────■────────░─\n",
       "     ├───┤      ░ ├───┤ ░   │    │    │        ░ \n",
       "q_3: ┤ H ├──────░─┤ X ├─░───┼────┼────┼────■───░─\n",
       "     ├───┤┌───┐ ░ └───┘ ░ ┌─┴─┐┌─┴─┐┌─┴─┐┌─┴─┐ ░ \n",
       "q_4: ┤ X ├┤ H ├─░───────░─┤ X ├┤ X ├┤ X ├┤ X ├─░─\n",
       "     └───┘└───┘ ░       ░ └───┘└───┘└───┘└───┘ ░ \n",
       "c: 4/════════════════════════════════════════════\n",
       "                                                 "
      ],
      "text/html": [
       "<pre style=\"word-wrap: normal;white-space: pre;background: #fff0;line-height: 1.1;font-family: &quot;Courier New&quot;,Courier,monospace\">     ┌───┐      ░ ┌───┐ ░                      ░ \n",
       "q_0: ┤ H ├──────░─┤ I ├─░───■──────────────────░─\n",
       "     ├───┤      ░ ├───┤ ░   │                  ░ \n",
       "q_1: ┤ H ├──────░─┤ X ├─░───┼────■─────────────░─\n",
       "     ├───┤      ░ ├───┤ ░   │    │             ░ \n",
       "q_2: ┤ H ├──────░─┤ I ├─░───┼────┼────■────────░─\n",
       "     ├───┤      ░ ├───┤ ░   │    │    │        ░ \n",
       "q_3: ┤ H ├──────░─┤ X ├─░───┼────┼────┼────■───░─\n",
       "     ├───┤┌───┐ ░ └───┘ ░ ┌─┴─┐┌─┴─┐┌─┴─┐┌─┴─┐ ░ \n",
       "q_4: ┤ X ├┤ H ├─░───────░─┤ X ├┤ X ├┤ X ├┤ X ├─░─\n",
       "     └───┘└───┘ ░       ░ └───┘└───┘└───┘└───┘ ░ \n",
       "c: 4/════════════════════════════════════════════\n",
       "                                                 </pre>"
      ]
     },
     "execution_count": 22,
     "metadata": {},
     "output_type": "execute_result"
    }
   ],
   "execution_count": 22
  },
  {
   "metadata": {
    "ExecuteTime": {
     "end_time": "2025-05-11T14:47:29.094475Z",
     "start_time": "2025-05-11T14:47:29.077881Z"
    }
   },
   "cell_type": "code",
   "source": [
    "qc.id(0)\n",
    "qc.x(1)\n",
    "qc.id(2)\n",
    "qc.x(3)\n",
    "qc.barrier()\n",
    "qc.draw()"
   ],
   "id": "95b663faf3019483",
   "outputs": [
    {
     "data": {
      "text/plain": [
       "     ┌───┐      ░ ┌───┐ ░                      ░ ┌───┐ ░ \n",
       "q_0: ┤ H ├──────░─┤ I ├─░───■──────────────────░─┤ I ├─░─\n",
       "     ├───┤      ░ ├───┤ ░   │                  ░ ├───┤ ░ \n",
       "q_1: ┤ H ├──────░─┤ X ├─░───┼────■─────────────░─┤ X ├─░─\n",
       "     ├───┤      ░ ├───┤ ░   │    │             ░ ├───┤ ░ \n",
       "q_2: ┤ H ├──────░─┤ I ├─░───┼────┼────■────────░─┤ I ├─░─\n",
       "     ├───┤      ░ ├───┤ ░   │    │    │        ░ ├───┤ ░ \n",
       "q_3: ┤ H ├──────░─┤ X ├─░───┼────┼────┼────■───░─┤ X ├─░─\n",
       "     ├───┤┌───┐ ░ └───┘ ░ ┌─┴─┐┌─┴─┐┌─┴─┐┌─┴─┐ ░ └───┘ ░ \n",
       "q_4: ┤ X ├┤ H ├─░───────░─┤ X ├┤ X ├┤ X ├┤ X ├─░───────░─\n",
       "     └───┘└───┘ ░       ░ └───┘└───┘└───┘└───┘ ░       ░ \n",
       "c: 4/════════════════════════════════════════════════════\n",
       "                                                         "
      ],
      "text/html": [
       "<pre style=\"word-wrap: normal;white-space: pre;background: #fff0;line-height: 1.1;font-family: &quot;Courier New&quot;,Courier,monospace\">     ┌───┐      ░ ┌───┐ ░                      ░ ┌───┐ ░ \n",
       "q_0: ┤ H ├──────░─┤ I ├─░───■──────────────────░─┤ I ├─░─\n",
       "     ├───┤      ░ ├───┤ ░   │                  ░ ├───┤ ░ \n",
       "q_1: ┤ H ├──────░─┤ X ├─░───┼────■─────────────░─┤ X ├─░─\n",
       "     ├───┤      ░ ├───┤ ░   │    │             ░ ├───┤ ░ \n",
       "q_2: ┤ H ├──────░─┤ I ├─░───┼────┼────■────────░─┤ I ├─░─\n",
       "     ├───┤      ░ ├───┤ ░   │    │    │        ░ ├───┤ ░ \n",
       "q_3: ┤ H ├──────░─┤ X ├─░───┼────┼────┼────■───░─┤ X ├─░─\n",
       "     ├───┤┌───┐ ░ └───┘ ░ ┌─┴─┐┌─┴─┐┌─┴─┐┌─┴─┐ ░ └───┘ ░ \n",
       "q_4: ┤ X ├┤ H ├─░───────░─┤ X ├┤ X ├┤ X ├┤ X ├─░───────░─\n",
       "     └───┘└───┘ ░       ░ └───┘└───┘└───┘└───┘ ░       ░ \n",
       "c: 4/════════════════════════════════════════════════════\n",
       "                                                         </pre>"
      ]
     },
     "execution_count": 23,
     "metadata": {},
     "output_type": "execute_result"
    }
   ],
   "execution_count": 23
  },
  {
   "metadata": {
    "ExecuteTime": {
     "end_time": "2025-05-11T14:47:29.182737Z",
     "start_time": "2025-05-11T14:47:29.162076Z"
    }
   },
   "cell_type": "code",
   "source": [
    "qc.h([_ for _ in range(X_qubits)])\n",
    "qc.barrier()\n",
    "qc.measure(range(X_qubits), range(X_qubits))\n",
    "qc.draw()"
   ],
   "id": "de4e5a7a90771fda",
   "outputs": [
    {
     "data": {
      "text/plain": [
       "     ┌───┐      ░ ┌───┐ ░                      ░ ┌───┐ ░ ┌───┐ ░ ┌─┐         \n",
       "q_0: ┤ H ├──────░─┤ I ├─░───■──────────────────░─┤ I ├─░─┤ H ├─░─┤M├─────────\n",
       "     ├───┤      ░ ├───┤ ░   │                  ░ ├───┤ ░ ├───┤ ░ └╥┘┌─┐      \n",
       "q_1: ┤ H ├──────░─┤ X ├─░───┼────■─────────────░─┤ X ├─░─┤ H ├─░──╫─┤M├──────\n",
       "     ├───┤      ░ ├───┤ ░   │    │             ░ ├───┤ ░ ├───┤ ░  ║ └╥┘┌─┐   \n",
       "q_2: ┤ H ├──────░─┤ I ├─░───┼────┼────■────────░─┤ I ├─░─┤ H ├─░──╫──╫─┤M├───\n",
       "     ├───┤      ░ ├───┤ ░   │    │    │        ░ ├───┤ ░ ├───┤ ░  ║  ║ └╥┘┌─┐\n",
       "q_3: ┤ H ├──────░─┤ X ├─░───┼────┼────┼────■───░─┤ X ├─░─┤ H ├─░──╫──╫──╫─┤M├\n",
       "     ├───┤┌───┐ ░ └───┘ ░ ┌─┴─┐┌─┴─┐┌─┴─┐┌─┴─┐ ░ └───┘ ░ └───┘ ░  ║  ║  ║ └╥┘\n",
       "q_4: ┤ X ├┤ H ├─░───────░─┤ X ├┤ X ├┤ X ├┤ X ├─░───────░───────░──╫──╫──╫──╫─\n",
       "     └───┘└───┘ ░       ░ └───┘└───┘└───┘└───┘ ░       ░       ░  ║  ║  ║  ║ \n",
       "c: 4/═════════════════════════════════════════════════════════════╩══╩══╩══╩═\n",
       "                                                                  0  1  2  3 "
      ],
      "text/html": [
       "<pre style=\"word-wrap: normal;white-space: pre;background: #fff0;line-height: 1.1;font-family: &quot;Courier New&quot;,Courier,monospace\">     ┌───┐      ░ ┌───┐ ░                      ░ ┌───┐ ░ ┌───┐ ░ ┌─┐         \n",
       "q_0: ┤ H ├──────░─┤ I ├─░───■──────────────────░─┤ I ├─░─┤ H ├─░─┤M├─────────\n",
       "     ├───┤      ░ ├───┤ ░   │                  ░ ├───┤ ░ ├───┤ ░ └╥┘┌─┐      \n",
       "q_1: ┤ H ├──────░─┤ X ├─░───┼────■─────────────░─┤ X ├─░─┤ H ├─░──╫─┤M├──────\n",
       "     ├───┤      ░ ├───┤ ░   │    │             ░ ├───┤ ░ ├───┤ ░  ║ └╥┘┌─┐   \n",
       "q_2: ┤ H ├──────░─┤ I ├─░───┼────┼────■────────░─┤ I ├─░─┤ H ├─░──╫──╫─┤M├───\n",
       "     ├───┤      ░ ├───┤ ░   │    │    │        ░ ├───┤ ░ ├───┤ ░  ║  ║ └╥┘┌─┐\n",
       "q_3: ┤ H ├──────░─┤ X ├─░───┼────┼────┼────■───░─┤ X ├─░─┤ H ├─░──╫──╫──╫─┤M├\n",
       "     ├───┤┌───┐ ░ └───┘ ░ ┌─┴─┐┌─┴─┐┌─┴─┐┌─┴─┐ ░ └───┘ ░ └───┘ ░  ║  ║  ║ └╥┘\n",
       "q_4: ┤ X ├┤ H ├─░───────░─┤ X ├┤ X ├┤ X ├┤ X ├─░───────░───────░──╫──╫──╫──╫─\n",
       "     └───┘└───┘ ░       ░ └───┘└───┘└───┘└───┘ ░       ░       ░  ║  ║  ║  ║ \n",
       "c: 4/═════════════════════════════════════════════════════════════╩══╩══╩══╩═\n",
       "                                                                  0  1  2  3 </pre>"
      ]
     },
     "execution_count": 24,
     "metadata": {},
     "output_type": "execute_result"
    }
   ],
   "execution_count": 24
  },
  {
   "metadata": {
    "ExecuteTime": {
     "end_time": "2025-05-11T14:48:53.646749Z",
     "start_time": "2025-05-11T14:48:53.640735Z"
    }
   },
   "cell_type": "code",
   "source": "from qiskit.visualization import plot_histogram",
   "id": "573d6ec310b370f5",
   "outputs": [],
   "execution_count": 25
  },
  {
   "metadata": {
    "ExecuteTime": {
     "end_time": "2025-05-11T14:48:55.068411Z",
     "start_time": "2025-05-11T14:48:54.093128Z"
    }
   },
   "cell_type": "code",
   "source": [
    "res = AerSimulator().run(qc, shots=1024).result()\n",
    "counts = res.get_counts()\n",
    "print(counts)\n",
    "plot_histogram(counts)"
   ],
   "id": "17f00ae146c07db2",
   "outputs": [
    {
     "name": "stdout",
     "output_type": "stream",
     "text": [
      "{'1111': 1024}\n"
     ]
    },
    {
     "data": {
      "text/plain": [
       "<Figure size 640x480 with 1 Axes>"
      ],
      "image/png": "[encoded data removed]"
     },
     "execution_count": 26,
     "metadata": {},
     "output_type": "execute_result"
    }
   ],
   "execution_count": 26
  },
  {
   "metadata": {
    "ExecuteTime": {
     "end_time": "2025-05-11T14:49:43.879424Z",
     "start_time": "2025-05-11T14:49:34.760395Z"
    }
   },
   "cell_type": "code",
   "source": [
    "from ibmq import IBMQClient\n",
    "\n",
    "ibm_client = IBMQClient()"
   ],
   "id": "6d4fdcd0a44e84a9",
   "outputs": [],
   "execution_count": 27
  },
  {
   "metadata": {
    "ExecuteTime": {
     "end_time": "2025-05-11T14:51:22.020338Z",
     "start_time": "2025-05-11T14:51:05.990876Z"
    }
   },
   "cell_type": "code",
   "source": [
    "res = ibm_client.execute(qc, 1024)\n",
    "plot_histogram(res[0].data['c'].get_counts())"
   ],
   "id": "60f4175a1ec081ee",
   "outputs": [
    {
     "name": "stdout",
     "output_type": "stream",
     "text": [
      "Least busy backend: ibm_sherbrooke\n",
      "Job ID is d0gbjrkfbx30008w1bz0\n"
     ]
    },
    {
     "data": {
      "text/plain": [
       "<Figure size 640x480 with 1 Axes>"
      ],
      "image/png": "[encoded data removed]"
     },
     "execution_count": 29,
     "metadata": {},
     "output_type": "execute_result"
    }
   ],
   "execution_count": 29
  },
  {
   "metadata": {},
   "cell_type": "code",
   "outputs": [],
   "execution_count": null,
   "source": "",
   "id": "5903162186435cf3"
  }
 ],
 "metadata": {
  "kernelspec": {
   "display_name": "Python 3",
   "language": "python",
   "name": "python3"
  },
  "language_info": {
   "codemirror_mode": {
    "name": "ipython",
    "version": 2
   },
   "file_extension": ".py",
   "mimetype": "text/x-python",
   "name": "python",
   "nbconvert_exporter": "python",
   "pygments_lexer": "ipython2",
   "version": "2.7.6"
  }
 },
 "nbformat": 4,
 "nbformat_minor": 5
}
