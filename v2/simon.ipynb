{
 "cells": [
  {
   "cell_type": "code",
   "id": "initial_id",
   "metadata": {
    "collapsed": true,
    "ExecuteTime": {
     "end_time": "2025-05-10T19:05:09.329146Z",
     "start_time": "2025-05-10T19:05:09.323044Z"
    }
   },
   "source": [
    "import numpy as np\n",
    "from qiskit import QuantumCircuit\n",
    "from scipy.linalg import null_space"
   ],
   "outputs": [],
   "execution_count": 261
  },
  {
   "metadata": {
    "ExecuteTime": {
     "end_time": "2025-05-10T19:05:09.349638Z",
     "start_time": "2025-05-10T19:05:09.345216Z"
    }
   },
   "cell_type": "code",
   "source": [
    "def create_simon_oracle(n_qubits, hidden_string):\n",
    "    \"\"\"Create a quantum circuit implementing the Simon oracle for a given hidden string.\"\"\"\n",
    "    oracle = QuantumCircuit(2 * n_qubits)\n",
    "\n",
    "    # Apply identity transformation for input qubits to output qubits\n",
    "    for i in range(n_qubits):\n",
    "        oracle.cx(i, i + n_qubits)\n",
    "\n",
    "    # If hidden string is all zeros, we're done (one-to-one function)\n",
    "    if all(bit == '0' for bit in hidden_string):\n",
    "        return oracle\n",
    "\n",
    "    # Apply XOR with hidden string (two-to-one function)\n",
    "    for i in range(n_qubits):\n",
    "        if hidden_string[i] == '1':\n",
    "            oracle.cx(i, i + n_qubits)  # XOR the output with input when bit is 1\n",
    "\n",
    "    return oracle\n"
   ],
   "id": "8fb95029d2e31111",
   "outputs": [],
   "execution_count": 262
  },
  {
   "metadata": {
    "ExecuteTime": {
     "end_time": "2025-05-10T19:05:09.404952Z",
     "start_time": "2025-05-10T19:05:09.397814Z"
    }
   },
   "cell_type": "code",
   "source": [
    "def simon_algorithm(n_qubits, hidden_string):\n",
    "    \"\"\"Implement Simon's algorithm for finding the hidden string.\"\"\"\n",
    "    # Create the main circuit\n",
    "    simon_circuit = QuantumCircuit(2 * n_qubits, n_qubits)\n",
    "\n",
    "    # Apply Hadamard to the first n_qubits\n",
    "    simon_circuit.h(range(n_qubits))\n",
    "\n",
    "    simon_circuit.barrier()\n",
    "\n",
    "    # Apply the oracle\n",
    "    oracle = create_simon_oracle(n_qubits, hidden_string)\n",
    "    simon_circuit = simon_circuit.compose(oracle)\n",
    "\n",
    "    # Apply Hadamard to the first n_qubits again\n",
    "    simon_circuit.barrier()\n",
    "    simon_circuit.h(range(n_qubits))\n",
    "\n",
    "    # Measure the first register\n",
    "    simon_circuit.measure(range(n_qubits), range(n_qubits))\n",
    "\n",
    "    return simon_circuit\n"
   ],
   "id": "ef3d56827989d650",
   "outputs": [],
   "execution_count": 263
  },
  {
   "metadata": {
    "ExecuteTime": {
     "end_time": "2025-05-10T19:05:09.464478Z",
     "start_time": "2025-05-10T19:05:09.454342Z"
    }
   },
   "cell_type": "code",
   "source": [
    "def find_hidden_string(results, n_qubits):\n",
    "    \"\"\"Process measurement results to find the hidden string.\"\"\"\n",
    "    # Get the measured bit strings\n",
    "    z_results = []\n",
    "    for bitstring in results:\n",
    "        if bitstring != '0' * n_qubits:  # Ignore all-zero results\n",
    "            z_results.append([int(bit) for bit in bitstring])\n",
    "\n",
    "    # If we have enough linearly independent equations\n",
    "    if len(z_results) >= n_qubits - 1:\n",
    "        # Find the null space\n",
    "        z_matrix = np.array(z_results)\n",
    "        ns = null_space(z_matrix.T % 2)\n",
    "        if ns.size > 0:\n",
    "            # Convert to binary string\n",
    "            s = ''.join([str(int(round(x)) % 2) for x in ns.T[0]])\n",
    "            return s\n",
    "\n",
    "    return \"Need more samples\"\n"
   ],
   "id": "af70421b12a8ce27",
   "outputs": [],
   "execution_count": 264
  },
  {
   "metadata": {
    "ExecuteTime": {
     "end_time": "2025-05-10T19:05:09.513534Z",
     "start_time": "2025-05-10T19:05:09.509939Z"
    }
   },
   "cell_type": "code",
   "source": [
    "hidden_string = '0110'\n",
    "n_qubits = 2\n",
    "\n",
    "circuit = simon_algorithm(n_qubits, hidden_string)"
   ],
   "id": "dfb0a9e105184f6",
   "outputs": [],
   "execution_count": 265
  },
  {
   "metadata": {
    "ExecuteTime": {
     "end_time": "2025-05-10T19:05:09.575712Z",
     "start_time": "2025-05-10T19:05:09.564324Z"
    }
   },
   "cell_type": "code",
   "source": [
    "circuit = QuantumCircuit(3, 2)\n",
    "\n",
    "circuit.h(range(2))\n",
    "\n",
    "circuit.barrier()\n",
    "circuit.x(1)\n",
    "circuit.ccx(0, 1, 2)\n",
    "circuit.x(0)\n",
    "circuit.x(1)\n",
    "circuit.ccx(0, 1, 2)\n",
    "circuit.x(0)\n",
    "circuit.barrier()\n",
    "\n",
    "circuit.h(range(2))\n",
    "\n",
    "circuit.measure(range(2), range(2))"
   ],
   "id": "a3ff6a8d09c87c19",
   "outputs": [
    {
     "data": {
      "text/plain": [
       "<qiskit.circuit.instructionset.InstructionSet at 0x7fb59e070d00>"
      ]
     },
     "execution_count": 266,
     "metadata": {},
     "output_type": "execute_result"
    }
   ],
   "execution_count": 266
  },
  {
   "metadata": {
    "ExecuteTime": {
     "end_time": "2025-05-10T19:05:09.643084Z",
     "start_time": "2025-05-10T19:05:09.627477Z"
    }
   },
   "cell_type": "code",
   "source": "circuit.draw()",
   "id": "4e3380e8b752b53c",
   "outputs": [
    {
     "data": {
      "text/plain": [
       "     ┌───┐ ░           ┌───┐     ┌───┐ ░ ┌───┐┌─┐   \n",
       "q_0: ┤ H ├─░────────■──┤ X ├──■──┤ X ├─░─┤ H ├┤M├───\n",
       "     ├───┤ ░ ┌───┐  │  ├───┤  │  └───┘ ░ ├───┤└╥┘┌─┐\n",
       "q_1: ┤ H ├─░─┤ X ├──■──┤ X ├──■────────░─┤ H ├─╫─┤M├\n",
       "     └───┘ ░ └───┘┌─┴─┐└───┘┌─┴─┐      ░ └───┘ ║ └╥┘\n",
       "q_2: ──────░──────┤ X ├─────┤ X ├──────░───────╫──╫─\n",
       "           ░      └───┘     └───┘      ░       ║  ║ \n",
       "c: 2/══════════════════════════════════════════╩══╩═\n",
       "                                               0  1 "
      ],
      "text/html": [
       "<pre style=\"word-wrap: normal;white-space: pre;background: #fff0;line-height: 1.1;font-family: &quot;Courier New&quot;,Courier,monospace\">     ┌───┐ ░           ┌───┐     ┌───┐ ░ ┌───┐┌─┐   \n",
       "q_0: ┤ H ├─░────────■──┤ X ├──■──┤ X ├─░─┤ H ├┤M├───\n",
       "     ├───┤ ░ ┌───┐  │  ├───┤  │  └───┘ ░ ├───┤└╥┘┌─┐\n",
       "q_1: ┤ H ├─░─┤ X ├──■──┤ X ├──■────────░─┤ H ├─╫─┤M├\n",
       "     └───┘ ░ └───┘┌─┴─┐└───┘┌─┴─┐      ░ └───┘ ║ └╥┘\n",
       "q_2: ──────░──────┤ X ├─────┤ X ├──────░───────╫──╫─\n",
       "           ░      └───┘     └───┘      ░       ║  ║ \n",
       "c: 2/══════════════════════════════════════════╩══╩═\n",
       "                                               0  1 </pre>"
      ]
     },
     "execution_count": 267,
     "metadata": {},
     "output_type": "execute_result"
    }
   ],
   "execution_count": 267
  },
  {
   "metadata": {
    "ExecuteTime": {
     "end_time": "2025-05-10T19:05:09.724705Z",
     "start_time": "2025-05-10T19:05:09.710244Z"
    }
   },
   "cell_type": "code",
   "source": [
    "from qiskit.primitives import BackendSamplerV2\n",
    "from qiskit_aer import AerSimulator\n",
    "\n",
    "backend = AerSimulator()\n",
    "\n",
    "sampler = BackendSamplerV2(backend=backend)\n",
    "\n",
    "job = sampler.run([circuit], shots=1024)\n",
    "result = job.result()"
   ],
   "id": "60b5a377d1e457e4",
   "outputs": [],
   "execution_count": 268
  },
  {
   "metadata": {
    "ExecuteTime": {
     "end_time": "2025-05-10T19:05:09.803451Z",
     "start_time": "2025-05-10T19:05:09.795307Z"
    }
   },
   "cell_type": "code",
   "source": "result[0].data.__dict__.keys()",
   "id": "63d7515d94ee7f01",
   "outputs": [
    {
     "data": {
      "text/plain": [
       "dict_keys(['c'])"
      ]
     },
     "execution_count": 269,
     "metadata": {},
     "output_type": "execute_result"
    }
   ],
   "execution_count": 269
  },
  {
   "metadata": {
    "ExecuteTime": {
     "end_time": "2025-05-10T19:05:09.880080Z",
     "start_time": "2025-05-10T19:05:09.874332Z"
    }
   },
   "cell_type": "code",
   "source": "counts = result[0].data['c'].get_counts()",
   "id": "723325d3b4f62172",
   "outputs": [],
   "execution_count": 270
  },
  {
   "metadata": {
    "ExecuteTime": {
     "end_time": "2025-05-10T19:05:09.931138Z",
     "start_time": "2025-05-10T19:05:09.927666Z"
    }
   },
   "cell_type": "code",
   "source": "print(\"Measurement results:\", counts)",
   "id": "23136737293a5039",
   "outputs": [
    {
     "name": "stdout",
     "output_type": "stream",
     "text": [
      "Measurement results: {'00': 495, '11': 529}\n"
     ]
    }
   ],
   "execution_count": 271
  },
  {
   "metadata": {
    "ExecuteTime": {
     "end_time": "2025-05-10T19:05:10.069408Z",
     "start_time": "2025-05-10T19:05:09.977934Z"
    }
   },
   "cell_type": "code",
   "source": [
    "from qiskit.visualization import plot_histogram\n",
    "plot_histogram(counts, title=\"Measurement Results\", color='blue', figsize=(10, 5))"
   ],
   "id": "2f933943c5f490d7",
   "outputs": [
    {
     "data": {
      "text/plain": [
       "<Figure size 1000x500 with 1 Axes>"
      ],
      "image/png": "[encoded data removed]"
     },
     "execution_count": 272,
     "metadata": {},
     "output_type": "execute_result"
    }
   ],
   "execution_count": 272
  },
  {
   "metadata": {
    "ExecuteTime": {
     "end_time": "2025-05-10T19:05:10.085026Z",
     "start_time": "2025-05-10T19:05:10.080825Z"
    }
   },
   "cell_type": "code",
   "source": [
    "z_samples = list(counts.keys())\n",
    "hidden = find_hidden_string(z_samples, n_qubits)\n",
    "print(f\"Hidden string: {hidden}\")\n",
    "print(f\"Actual hidden string: {hidden_string}\")"
   ],
   "id": "508446d5a9312038",
   "outputs": [
    {
     "name": "stdout",
     "output_type": "stream",
     "text": [
      "Hidden string: Need more samples\n",
      "Actual hidden string: 0110\n"
     ]
    }
   ],
   "execution_count": 273
  },
  {
   "metadata": {
    "ExecuteTime": {
     "end_time": "2025-05-10T19:05:10.202488Z",
     "start_time": "2025-05-10T19:05:10.152668Z"
    }
   },
   "cell_type": "code",
   "source": [
    "# Calculate the dot product of the results\n",
    "def bdotz(b, z):\n",
    "    accum = 0\n",
    "    for i in range(len(b)):\n",
    "        print(f\"{i}\")\n",
    "        accum += int(b[i]) * int(z[i])\n",
    "    return (accum % 2)\n",
    "\n",
    "b = hidden_string\n",
    "\n",
    "print('b = ' + b)\n",
    "for z in counts:\n",
    "    print( '{}.{} = {} (mod 2) ({:.1f}%)'.format(b, z, bdotz(b,z), counts[z]*100/1024))\n"
   ],
   "id": "f3e6a163ed2358a0",
   "outputs": [
    {
     "name": "stdout",
     "output_type": "stream",
     "text": [
      "b = 0110\n",
      "0\n",
      "1\n",
      "2\n"
     ]
    },
    {
     "ename": "IndexError",
     "evalue": "string index out of range",
     "output_type": "error",
     "traceback": [
      "\u001B[31m---------------------------------------------------------------------------\u001B[39m",
      "\u001B[31mIndexError\u001B[39m                                Traceback (most recent call last)",
      "\u001B[36mCell\u001B[39m\u001B[36m \u001B[39m\u001B[32mIn[274]\u001B[39m\u001B[32m, line 13\u001B[39m\n\u001B[32m     11\u001B[39m \u001B[38;5;28mprint\u001B[39m(\u001B[33m'\u001B[39m\u001B[33mb = \u001B[39m\u001B[33m'\u001B[39m + b)\n\u001B[32m     12\u001B[39m \u001B[38;5;28;01mfor\u001B[39;00m z \u001B[38;5;129;01min\u001B[39;00m counts:\n\u001B[32m---> \u001B[39m\u001B[32m13\u001B[39m     \u001B[38;5;28mprint\u001B[39m( \u001B[33m'\u001B[39m\u001B[38;5;132;01m{}\u001B[39;00m\u001B[33m.\u001B[39m\u001B[38;5;132;01m{}\u001B[39;00m\u001B[33m = \u001B[39m\u001B[38;5;132;01m{}\u001B[39;00m\u001B[33m (mod 2) (\u001B[39m\u001B[38;5;132;01m{:.1f}\u001B[39;00m\u001B[33m%\u001B[39m\u001B[33m)\u001B[39m\u001B[33m'\u001B[39m.format(b, z, \u001B[43mbdotz\u001B[49m\u001B[43m(\u001B[49m\u001B[43mb\u001B[49m\u001B[43m,\u001B[49m\u001B[43mz\u001B[49m\u001B[43m)\u001B[49m, counts[z]*\u001B[32m100\u001B[39m/\u001B[32m1024\u001B[39m))\n",
      "\u001B[36mCell\u001B[39m\u001B[36m \u001B[39m\u001B[32mIn[274]\u001B[39m\u001B[32m, line 6\u001B[39m, in \u001B[36mbdotz\u001B[39m\u001B[34m(b, z)\u001B[39m\n\u001B[32m      4\u001B[39m \u001B[38;5;28;01mfor\u001B[39;00m i \u001B[38;5;129;01min\u001B[39;00m \u001B[38;5;28mrange\u001B[39m(\u001B[38;5;28mlen\u001B[39m(b)):\n\u001B[32m      5\u001B[39m     \u001B[38;5;28mprint\u001B[39m(\u001B[33mf\u001B[39m\u001B[33m\"\u001B[39m\u001B[38;5;132;01m{\u001B[39;00mi\u001B[38;5;132;01m}\u001B[39;00m\u001B[33m\"\u001B[39m)\n\u001B[32m----> \u001B[39m\u001B[32m6\u001B[39m     accum += \u001B[38;5;28mint\u001B[39m(b[i]) * \u001B[38;5;28mint\u001B[39m(\u001B[43mz\u001B[49m\u001B[43m[\u001B[49m\u001B[43mi\u001B[49m\u001B[43m]\u001B[49m)\n\u001B[32m      7\u001B[39m \u001B[38;5;28;01mreturn\u001B[39;00m (accum % \u001B[32m2\u001B[39m)\n",
      "\u001B[31mIndexError\u001B[39m: string index out of range"
     ]
    }
   ],
   "execution_count": 274
  },
  {
   "metadata": {},
   "cell_type": "code",
   "outputs": [],
   "execution_count": null,
   "source": "",
   "id": "9a2307e5f06bd28e"
  }
 ],
 "metadata": {
  "kernelspec": {
   "display_name": "Python 3",
   "language": "python",
   "name": "python3"
  },
  "language_info": {
   "codemirror_mode": {
    "name": "ipython",
    "version": 2
   },
   "file_extension": ".py",
   "mimetype": "text/x-python",
   "name": "python",
   "nbconvert_exporter": "python",
   "pygments_lexer": "ipython2",
   "version": "2.7.6"
  }
 },
 "nbformat": 4,
 "nbformat_minor": 5
}
