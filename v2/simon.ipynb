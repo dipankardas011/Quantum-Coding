{
 "cells": [
  {
   "metadata": {},
   "cell_type": "markdown",
   "source": [
    "**Simon’s algorithm** (Falls under periodic quantum algos)\n",
    "\n",
    "---\n",
    "\n",
    "### 📌 **Problem Statement**\n",
    "\n",
    "You are given a **black-box function** $f : \\{0,1\\}^n \\rightarrow \\{0,1\\}^n$ with the promise:\n",
    "\n",
    "* Either $f$ is **1-to-1**, or\n",
    "* There exists a secret string $s \\in \\{0,1\\}^n$, $s \\neq 0$, such that for all $x, y \\in \\{0,1\\}^n$:\n",
    "\n",
    "  $$\n",
    "  f(x) = f(y) \\iff x \\oplus y = s\n",
    "  $$\n",
    "\n",
    "The goal is to determine this secret string $s$ using as few queries to $f$ as possible.\n",
    "\n",
    "---\n",
    "\n",
    "### 🧠 **Classical vs Quantum**\n",
    "\n",
    "* **Classical Algorithm** needs **exponential time** $\\mathcal{O}(2^{n/2})$ to find $s$.\n",
    "* **Quantum Algorithm** (Simon’s algorithm) solves it in **polynomial time**, $\\mathcal{O}(n)$ queries.\n",
    "\n",
    "---\n",
    "\n",
    "### 🧪 **High-Level Steps of Simon’s Algorithm**\n",
    "\n",
    "1. **Prepare** two quantum registers, both with $n$ qubits.\n",
    "2. **Initialize** the state to $|0\\rangle^{\\otimes n} |0\\rangle^{\\otimes n}$\n",
    "3. **Apply Hadamard** gates to the first register to get:\n",
    "\n",
    "   $$\n",
    "   \\frac{1}{\\sqrt{2^n}} \\sum_{x \\in \\{0,1\\}^n} |x\\rangle |0\\rangle\n",
    "   $$\n",
    "4. **Query** the oracle $U_f$ so the state becomes:\n",
    "\n",
    "   $$\n",
    "   \\frac{1}{\\sqrt{2^n}} \\sum_x |x\\rangle |f(x)\\rangle\n",
    "   $$\n",
    "5. **Measure** the second register to get a random $f(x)$, collapsing the superposition to a uniform superposition of two values $x$ and $x \\oplus s$ with the same $f(x)$.\n",
    "6. **Apply Hadamard** to the first register:\n",
    "   This gives you a result $y \\in \\{0,1\\}^n$ such that:\n",
    "\n",
    "   $$\n",
    "   y \\cdot s = 0 \\mod 2\n",
    "   $$\n",
    "\n",
    "   (i.e., the inner product modulo 2 is 0)\n",
    "7. **Repeat** steps 1–6 about $n$ times to get $n$ such equations.\n",
    "8. **Solve** the linear system of equations (mod 2) to find the non-zero $s$.\n",
    "\n",
    "---\n",
    "\n",
    "### 🔢 Example (small case: $n = 3$)\n",
    "\n",
    "Let’s say the secret string is $s = 101$, then for each $x$, $f(x) = f(x \\oplus 101)$, and Simon’s algorithm will find $y$’s such that:\n",
    "\n",
    "* $y_1 \\cdot 1 \\oplus y_2 \\cdot 0 \\oplus y_3 \\cdot 1 = 0 \\Rightarrow y_1 \\oplus y_3 = 0$\n",
    "\n",
    "Get enough such $y$'s → solve for $s$.\n",
    "\n",
    "\n",
    "### 🔍 To clarify with an analogy:\n",
    "\n",
    "* In **pattern matching**, you know the pattern (like \"abc\") and search for it in data.\n",
    "* In **Simon’s algorithm**, the pattern $s$ is **unknown**, but it defines a symmetry: every input $x$ and $x \\oplus s$ give the same output. You're trying to **discover that hidden xor-based pattern**.\n",
    "\n",
    "Think of it like:\n",
    "\n",
    "> You're told a function has a secret way of pairing inputs, such that two inputs give the same output if and only if they differ by a hidden bit-string. Your job is to find that secret bit-string.\n",
    "\n"
   ],
   "id": "be369387e6d551cf"
  },
  {
   "metadata": {},
   "cell_type": "markdown",
   "source": [
    "it tries involves determining whether a function is a one-to-one or two-to-one function.\n",
    "\n",
    "one-to-one -> quite simply a function that maps one input value to a single output value (NO, > 1 input values map to the same output value)\n",
    "\n",
    "two-to-one -> a function that maps two different input values to the same output value (YES, > 1 input values map to the same output value)\n",
    "\n"
   ],
   "id": "5dcb60439e8e4bcc"
  },
  {
   "metadata": {},
   "cell_type": "markdown",
   "source": [
    "$x_1$, $x_2$ are 2 seperate input vlaues where\n",
    "$$\n",
    "x_1 \\oplus x_2 = s\n",
    "$$\n",
    "\n",
    "can we find if the func is one-to-one or two-to-one and also find the s"
   ],
   "id": "14e19ad7ae894815"
  },
  {
   "cell_type": "code",
   "id": "initial_id",
   "metadata": {
    "collapsed": true,
    "ExecuteTime": {
     "end_time": "2025-05-12T14:11:01.627220Z",
     "start_time": "2025-05-12T14:11:01.245956Z"
    }
   },
   "source": [
    "from qiskit import QuantumCircuit\n",
    "from qiskit_aer import AerSimulator\n",
    "from qiskit.visualization import plot_histogram\n"
   ],
   "outputs": [],
   "execution_count": 1
  },
  {
   "metadata": {
    "ExecuteTime": {
     "end_time": "2025-05-12T15:24:45.302406Z",
     "start_time": "2025-05-12T15:24:45.297549Z"
    }
   },
   "cell_type": "code",
   "source": [
    "shh = '011'\n",
    "inp_qubits = len(shh)\n",
    "total_qubits = 2 * inp_qubits"
   ],
   "id": "58996d1638ebebb4",
   "outputs": [],
   "execution_count": 3
  },
  {
   "metadata": {
    "ExecuteTime": {
     "end_time": "2025-05-12T15:25:33.143586Z",
     "start_time": "2025-05-12T15:25:33.125935Z"
    }
   },
   "cell_type": "code",
   "source": [
    "qc = QuantumCircuit(total_qubits)\n",
    "qc.h(range(inp_qubits))\n",
    "qc.barrier()\n",
    "qc.draw()"
   ],
   "id": "f11a6c9baac84080",
   "outputs": [
    {
     "data": {
      "text/plain": [
       "     ┌───┐ ░ \n",
       "q_0: ┤ H ├─░─\n",
       "     ├───┤ ░ \n",
       "q_1: ┤ H ├─░─\n",
       "     ├───┤ ░ \n",
       "q_2: ┤ H ├─░─\n",
       "     └───┘ ░ \n",
       "q_3: ──────░─\n",
       "           ░ \n",
       "q_4: ──────░─\n",
       "           ░ \n",
       "q_5: ──────░─\n",
       "           ░ "
      ],
      "text/html": [
       "<pre style=\"word-wrap: normal;white-space: pre;background: #fff0;line-height: 1.1;font-family: &quot;Courier New&quot;,Courier,monospace\">     ┌───┐ ░ \n",
       "q_0: ┤ H ├─░─\n",
       "     ├───┤ ░ \n",
       "q_1: ┤ H ├─░─\n",
       "     ├───┤ ░ \n",
       "q_2: ┤ H ├─░─\n",
       "     └───┘ ░ \n",
       "q_3: ──────░─\n",
       "           ░ \n",
       "q_4: ──────░─\n",
       "           ░ \n",
       "q_5: ──────░─\n",
       "           ░ </pre>"
      ]
     },
     "execution_count": 4,
     "metadata": {},
     "output_type": "execute_result"
    }
   ],
   "execution_count": 4
  },
  {
   "metadata": {
    "ExecuteTime": {
     "end_time": "2025-05-12T15:28:34.226449Z",
     "start_time": "2025-05-12T15:28:34.209468Z"
    }
   },
   "cell_type": "code",
   "source": [
    "for idx in range(inp_qubits):\n",
    "    if shh[idx] == '1':\n",
    "        for count in range(inp_qubits):\n",
    "            qc.cx(idx, inp_qubits + count)\n",
    "qc.barrier()\n",
    "qc.draw()"
   ],
   "id": "d31b0f6792d81c86",
   "outputs": [
    {
     "data": {
      "text/plain": [
       "     ┌───┐ ░                                ░ \n",
       "q_0: ┤ H ├─░────────────────────────────────░─\n",
       "     ├───┤ ░                                ░ \n",
       "q_1: ┤ H ├─░───■────■─────────■─────────────░─\n",
       "     ├───┤ ░   │    │         │             ░ \n",
       "q_2: ┤ H ├─░───┼────┼────■────┼────■────■───░─\n",
       "     └───┘ ░ ┌─┴─┐  │  ┌─┴─┐  │    │    │   ░ \n",
       "q_3: ──────░─┤ X ├──┼──┤ X ├──┼────┼────┼───░─\n",
       "           ░ └───┘┌─┴─┐└───┘  │  ┌─┴─┐  │   ░ \n",
       "q_4: ──────░──────┤ X ├───────┼──┤ X ├──┼───░─\n",
       "           ░      └───┘     ┌─┴─┐└───┘┌─┴─┐ ░ \n",
       "q_5: ──────░────────────────┤ X ├─────┤ X ├─░─\n",
       "           ░                └───┘     └───┘ ░ "
      ],
      "text/html": [
       "<pre style=\"word-wrap: normal;white-space: pre;background: #fff0;line-height: 1.1;font-family: &quot;Courier New&quot;,Courier,monospace\">     ┌───┐ ░                                ░ \n",
       "q_0: ┤ H ├─░────────────────────────────────░─\n",
       "     ├───┤ ░                                ░ \n",
       "q_1: ┤ H ├─░───■────■─────────■─────────────░─\n",
       "     ├───┤ ░   │    │         │             ░ \n",
       "q_2: ┤ H ├─░───┼────┼────■────┼────■────■───░─\n",
       "     └───┘ ░ ┌─┴─┐  │  ┌─┴─┐  │    │    │   ░ \n",
       "q_3: ──────░─┤ X ├──┼──┤ X ├──┼────┼────┼───░─\n",
       "           ░ └───┘┌─┴─┐└───┘  │  ┌─┴─┐  │   ░ \n",
       "q_4: ──────░──────┤ X ├───────┼──┤ X ├──┼───░─\n",
       "           ░      └───┘     ┌─┴─┐└───┘┌─┴─┐ ░ \n",
       "q_5: ──────░────────────────┤ X ├─────┤ X ├─░─\n",
       "           ░                └───┘     └───┘ ░ </pre>"
      ]
     },
     "execution_count": 5,
     "metadata": {},
     "output_type": "execute_result"
    }
   ],
   "execution_count": 5
  },
  {
   "metadata": {
    "ExecuteTime": {
     "end_time": "2025-05-12T15:29:24.220646Z",
     "start_time": "2025-05-12T15:29:24.204310Z"
    }
   },
   "cell_type": "code",
   "source": [
    "qc.h(range(inp_qubits))\n",
    "qc.barrier()\n",
    "qc.measure_all()\n",
    "qc.draw()"
   ],
   "id": "340474c982a83bb7",
   "outputs": [
    {
     "data": {
      "text/plain": [
       "        ┌───┐ ░                                ░ ┌───┐ ░  ░ ┌─┐               \n",
       "   q_0: ┤ H ├─░────────────────────────────────░─┤ H ├─░──░─┤M├───────────────\n",
       "        ├───┤ ░                                ░ ├───┤ ░  ░ └╥┘┌─┐            \n",
       "   q_1: ┤ H ├─░───■────■─────────■─────────────░─┤ H ├─░──░──╫─┤M├────────────\n",
       "        ├───┤ ░   │    │         │             ░ ├───┤ ░  ░  ║ └╥┘┌─┐         \n",
       "   q_2: ┤ H ├─░───┼────┼────■────┼────■────■───░─┤ H ├─░──░──╫──╫─┤M├─────────\n",
       "        └───┘ ░ ┌─┴─┐  │  ┌─┴─┐  │    │    │   ░ └───┘ ░  ░  ║  ║ └╥┘┌─┐      \n",
       "   q_3: ──────░─┤ X ├──┼──┤ X ├──┼────┼────┼───░───────░──░──╫──╫──╫─┤M├──────\n",
       "              ░ └───┘┌─┴─┐└───┘  │  ┌─┴─┐  │   ░       ░  ░  ║  ║  ║ └╥┘┌─┐   \n",
       "   q_4: ──────░──────┤ X ├───────┼──┤ X ├──┼───░───────░──░──╫──╫──╫──╫─┤M├───\n",
       "              ░      └───┘     ┌─┴─┐└───┘┌─┴─┐ ░       ░  ░  ║  ║  ║  ║ └╥┘┌─┐\n",
       "   q_5: ──────░────────────────┤ X ├─────┤ X ├─░───────░──░──╫──╫──╫──╫──╫─┤M├\n",
       "              ░                └───┘     └───┘ ░       ░  ░  ║  ║  ║  ║  ║ └╥┘\n",
       "meas: 6/═════════════════════════════════════════════════════╩══╩══╩══╩══╩══╩═\n",
       "                                                             0  1  2  3  4  5 "
      ],
      "text/html": [
       "<pre style=\"word-wrap: normal;white-space: pre;background: #fff0;line-height: 1.1;font-family: &quot;Courier New&quot;,Courier,monospace\">        ┌───┐ ░                                ░ ┌───┐ ░  ░ ┌─┐               \n",
       "   q_0: ┤ H ├─░────────────────────────────────░─┤ H ├─░──░─┤M├───────────────\n",
       "        ├───┤ ░                                ░ ├───┤ ░  ░ └╥┘┌─┐            \n",
       "   q_1: ┤ H ├─░───■────■─────────■─────────────░─┤ H ├─░──░──╫─┤M├────────────\n",
       "        ├───┤ ░   │    │         │             ░ ├───┤ ░  ░  ║ └╥┘┌─┐         \n",
       "   q_2: ┤ H ├─░───┼────┼────■────┼────■────■───░─┤ H ├─░──░──╫──╫─┤M├─────────\n",
       "        └───┘ ░ ┌─┴─┐  │  ┌─┴─┐  │    │    │   ░ └───┘ ░  ░  ║  ║ └╥┘┌─┐      \n",
       "   q_3: ──────░─┤ X ├──┼──┤ X ├──┼────┼────┼───░───────░──░──╫──╫──╫─┤M├──────\n",
       "              ░ └───┘┌─┴─┐└───┘  │  ┌─┴─┐  │   ░       ░  ░  ║  ║  ║ └╥┘┌─┐   \n",
       "   q_4: ──────░──────┤ X ├───────┼──┤ X ├──┼───░───────░──░──╫──╫──╫──╫─┤M├───\n",
       "              ░      └───┘     ┌─┴─┐└───┘┌─┴─┐ ░       ░  ░  ║  ║  ║  ║ └╥┘┌─┐\n",
       "   q_5: ──────░────────────────┤ X ├─────┤ X ├─░───────░──░──╫──╫──╫──╫──╫─┤M├\n",
       "              ░                └───┘     └───┘ ░       ░  ░  ║  ║  ║  ║  ║ └╥┘\n",
       "meas: 6/═════════════════════════════════════════════════════╩══╩══╩══╩══╩══╩═\n",
       "                                                             0  1  2  3  4  5 </pre>"
      ]
     },
     "execution_count": 6,
     "metadata": {},
     "output_type": "execute_result"
    }
   ],
   "execution_count": 6
  },
  {
   "metadata": {
    "ExecuteTime": {
     "end_time": "2025-05-12T15:33:01.766228Z",
     "start_time": "2025-05-12T15:33:01.592708Z"
    }
   },
   "cell_type": "code",
   "source": [
    "counts = AerSimulator().run(qc, shots=1024).result().get_counts()\n",
    "print(counts)\n",
    "plot_histogram(counts)"
   ],
   "id": "4e3c782603d8d71b",
   "outputs": [
    {
     "name": "stdout",
     "output_type": "stream",
     "text": [
      "{'000000': 245, '111110': 256, '000110': 263, '111000': 260}\n"
     ]
    },
    {
     "data": {
      "text/plain": [
       "<Figure size 640x480 with 1 Axes>"
      ],
      "image/png": "[encoded data removed]"
     },
     "execution_count": 8,
     "metadata": {},
     "output_type": "execute_result"
    }
   ],
   "execution_count": 8
  },
  {
   "metadata": {},
   "cell_type": "markdown",
   "source": "the bit order is frm right to left where the measurement from the first qubit $q_0$ is the position on the far left and continues towards the right. by this convention we can see the first output `111000` combines both the first and second registers where the first register is `000` and the second register is `111`.",
   "id": "a93836b9f2f163c3"
  },
  {
   "metadata": {
    "ExecuteTime": {
     "end_time": "2025-05-12T15:36:09.387562Z",
     "start_time": "2025-05-12T15:36:09.375943Z"
    }
   },
   "cell_type": "code",
   "source": [
    "sub_results = {}\n",
    "for count in counts.keys():\n",
    "    rev = count[::-1]\n",
    "    intp_count = count[inp_qubits:]\n",
    "    count_val = counts[count]\n",
    "    sub_results.update({\n",
    "        intp_count: sub_results.get(intp_count, 0)+ count_val\n",
    "    })\n",
    "print(sub_results)"
   ],
   "id": "c7111311f6f7c237",
   "outputs": [
    {
     "name": "stdout",
     "output_type": "stream",
     "text": [
      "{'000': 505, '110': 519}\n"
     ]
    }
   ],
   "execution_count": 9
  },
  {
   "metadata": {},
   "cell_type": "markdown",
   "source": [
    "as we have string values are reversed so `110` is actually `011` our secret string of course if we only had `000` as the result this would mean that $f$ would be a one to one function\n",
    "we get s == '011' and '000' so it is two to one function"
   ],
   "id": "bd96f5edaee99299"
  },
  {
   "metadata": {},
   "cell_type": "code",
   "outputs": [],
   "execution_count": null,
   "source": "",
   "id": "63ed5ba2434525cd"
  }
 ],
 "metadata": {
  "kernelspec": {
   "display_name": "Python 3",
   "language": "python",
   "name": "python3"
  },
  "language_info": {
   "codemirror_mode": {
    "name": "ipython",
    "version": 2
   },
   "file_extension": ".py",
   "mimetype": "text/x-python",
   "name": "python",
   "nbconvert_exporter": "python",
   "pygments_lexer": "ipython2",
   "version": "2.7.6"
  }
 },
 "nbformat": 4,
 "nbformat_minor": 5
}
