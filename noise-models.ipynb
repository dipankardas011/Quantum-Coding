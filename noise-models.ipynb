{
 "cells": [
  {
   "cell_type": "code",
   "metadata": {
    "ExecuteTime": {
     "end_time": "2025-03-30T12:24:28.424341Z",
     "start_time": "2025-03-30T12:24:21.477163Z"
    }
   },
   "source": [
    "from dotenv import load_dotenv\n",
    "import os\n",
    "\n",
    "from transpiler_circuit_optimization import transpiled_qc\n",
    "\n",
    "load_dotenv()  # take environment variables from .env.\n",
    "from qiskit_ibm_runtime import QiskitRuntimeService\n",
    "\n",
    "service = QiskitRuntimeService(channel=\"ibm_quantum\", token=os.getenv('QISKIT_IBM_TOKEN'))\n"
   ],
   "outputs": [],
   "execution_count": 5
  },
  {
   "cell_type": "code",
   "metadata": {
    "ExecuteTime": {
     "end_time": "2025-03-30T16:17:09.143931Z",
     "start_time": "2025-03-30T16:17:09.089318Z"
    }
   },
   "source": [
    "from qiskit import QuantumCircuit\n",
    "import qiskit.visualization as qvis"
   ],
   "outputs": [],
   "execution_count": 2
  },
  {
   "cell_type": "code",
   "metadata": {
    "ExecuteTime": {
     "end_time": "2025-03-30T12:24:28.495475Z",
     "start_time": "2025-03-30T12:24:28.489935Z"
    }
   },
   "source": [
    "qc = QuantumCircuit(2,2)\n",
    "qc.h(0)\n",
    "qc.cx(0,1)\n",
    "qc.measure([0,1],[0,1])\n"
   ],
   "outputs": [
    {
     "data": {
      "text/plain": [
       "<qiskit.circuit.instructionset.InstructionSet at 0x7f52fe165660>"
      ]
     },
     "execution_count": 7,
     "metadata": {},
     "output_type": "execute_result"
    }
   ],
   "execution_count": 7
  },
  {
   "cell_type": "markdown",
   "metadata": {},
   "source": [
    "### Ideal circulit as its simulator based"
   ]
  },
  {
   "cell_type": "code",
   "metadata": {
    "ExecuteTime": {
     "end_time": "2025-03-30T16:17:14.729111Z",
     "start_time": "2025-03-30T16:17:14.692546Z"
    }
   },
   "source": [
    "from qiskit_aer import QasmSimulator\n",
    "\n",
    "v_backend = QasmSimulator()\n",
    "res = v_backend.run(qc).result().get_counts()\n",
    "\n",
    "qvis.plot_histogram(res)"
   ],
   "outputs": [
    {
     "ename": "NameError",
     "evalue": "name 'qc' is not defined",
     "output_type": "error",
     "traceback": [
      "\u001B[31m---------------------------------------------------------------------------\u001B[39m",
      "\u001B[31mNameError\u001B[39m                                 Traceback (most recent call last)",
      "\u001B[36mCell\u001B[39m\u001B[36m \u001B[39m\u001B[32mIn[3]\u001B[39m\u001B[32m, line 4\u001B[39m\n\u001B[32m      1\u001B[39m \u001B[38;5;28;01mfrom\u001B[39;00m\u001B[38;5;250m \u001B[39m\u001B[34;01mqiskit_aer\u001B[39;00m\u001B[38;5;250m \u001B[39m\u001B[38;5;28;01mimport\u001B[39;00m QasmSimulator\n\u001B[32m      3\u001B[39m v_backend = QasmSimulator()\n\u001B[32m----> \u001B[39m\u001B[32m4\u001B[39m res = v_backend.run(\u001B[43mqc\u001B[49m).result().get_counts()\n\u001B[32m      6\u001B[39m qvis.plot_histogram(res)\n",
      "\u001B[31mNameError\u001B[39m: name 'qc' is not defined"
     ]
    }
   ],
   "execution_count": 3
  },
  {
   "cell_type": "markdown",
   "metadata": {},
   "source": [
    "### actual hardware"
   ]
  },
  {
   "cell_type": "code",
   "metadata": {
    "ExecuteTime": {
     "end_time": "2025-03-30T12:31:26.623948Z",
     "start_time": "2025-03-30T12:24:28.640167Z"
    }
   },
   "source": [
    "from qiskit.transpiler.preset_passmanagers import generate_preset_pass_manager\n",
    "from qiskit_ibm_runtime import SamplerV2 as Sampler\n",
    "\n",
    "ibm_backend = service.least_busy(operational=True, simulator=False)\n",
    "\n",
    "pm = generate_preset_pass_manager(backend=ibm_backend, optimization_level=1)\n",
    "\n",
    "isa_circuit = pm.run(qc)\n",
    "\n",
    "sampler = Sampler(mode=ibm_backend)\n",
    "sampler.options.default_shots = 1024  # Options can be set using auto-complete.\n",
    "job = sampler.run([isa_circuit])\n",
    "print(f\"Job ID is {job.job_id()}\")\n",
    "job.status()\n",
    "\n",
    "pub_result = job.result()[0]"
   ],
   "outputs": [
    {
     "name": "stdout",
     "output_type": "stream",
     "text": [
      "Job ID is czmkh1cqw630008thzbg\n"
     ]
    }
   ],
   "execution_count": 9
  },
  {
   "cell_type": "code",
   "metadata": {
    "ExecuteTime": {
     "end_time": "2025-03-30T12:31:26.872648Z",
     "start_time": "2025-03-30T12:31:26.717918Z"
    }
   },
   "source": [
    "qvis.plot_histogram(pub_result.data[\"c\"].get_counts())"
   ],
   "outputs": [
    {
     "data": {
      "text/plain": [
       "<Figure size 640x480 with 1 Axes>"
      ],
      "image/png": "[encoded data removed]"
     },
     "execution_count": 10,
     "metadata": {},
     "output_type": "execute_result"
    }
   ],
   "execution_count": 10
  },
  {
   "cell_type": "markdown",
   "metadata": {},
   "source": [
    "### Now we can replicate the noise in the simulator. \n",
    "we get the configuration from real backend and pass the configuration to the simulator."
   ]
  },
  {
   "cell_type": "code",
   "metadata": {
    "ExecuteTime": {
     "end_time": "2025-03-30T16:17:23.718409Z",
     "start_time": "2025-03-30T16:17:23.687510Z"
    }
   },
   "source": [
    "from qiskit_aer.noise import NoiseModel\n",
    "\n",
    "n_model = NoiseModel.from_backend(ibm_backend)\n",
    "\n",
    "coupling_map = ibm_backend.configuration().coupling_map\n",
    "\n",
    "basis_gates = n_model.basis_gates"
   ],
   "outputs": [
    {
     "ename": "NameError",
     "evalue": "name 'ibm_backend' is not defined",
     "output_type": "error",
     "traceback": [
      "\u001B[31m---------------------------------------------------------------------------\u001B[39m",
      "\u001B[31mNameError\u001B[39m                                 Traceback (most recent call last)",
      "\u001B[36mCell\u001B[39m\u001B[36m \u001B[39m\u001B[32mIn[4]\u001B[39m\u001B[32m, line 3\u001B[39m\n\u001B[32m      1\u001B[39m \u001B[38;5;28;01mfrom\u001B[39;00m\u001B[38;5;250m \u001B[39m\u001B[34;01mqiskit_aer\u001B[39;00m\u001B[34;01m.\u001B[39;00m\u001B[34;01mnoise\u001B[39;00m\u001B[38;5;250m \u001B[39m\u001B[38;5;28;01mimport\u001B[39;00m NoiseModel\n\u001B[32m----> \u001B[39m\u001B[32m3\u001B[39m n_model = NoiseModel.from_backend(\u001B[43mibm_backend\u001B[49m)\n\u001B[32m      5\u001B[39m coupling_map = ibm_backend.configuration().coupling_map\n\u001B[32m      7\u001B[39m basis_gates = n_model.basis_gates\n",
      "\u001B[31mNameError\u001B[39m: name 'ibm_backend' is not defined"
     ]
    }
   ],
   "execution_count": 4
  },
  {
   "cell_type": "code",
   "metadata": {
    "ExecuteTime": {
     "end_time": "2025-03-30T12:31:30.411089Z",
     "start_time": "2025-03-30T12:31:29.554862Z"
    }
   },
   "source": [
    "res = v_backend.run(qc, coupling_map=coupling_map, basis_gates=basis_gates, noise_model=n_model).result()"
   ],
   "outputs": [],
   "execution_count": 12
  },
  {
   "cell_type": "code",
   "metadata": {
    "ExecuteTime": {
     "end_time": "2025-03-30T12:31:30.560316Z",
     "start_time": "2025-03-30T12:31:30.463661Z"
    }
   },
   "source": [
    "qvis.plot_histogram(res.get_counts())"
   ],
   "outputs": [
    {
     "data": {
      "text/plain": [
       "<Figure size 640x480 with 1 Axes>"
      ],
      "image/png": "[encoded data removed]"
     },
     "execution_count": 13,
     "metadata": {},
     "output_type": "execute_result"
    }
   ],
   "execution_count": 13
  },
  {
   "metadata": {},
   "cell_type": "markdown",
   "source": [
    "### $T_1$ and $T_2$\n",
    "\n",
    "Decoherence: loss of quantum coherence dur to a quantum system's pythsical interaction with its environment. Thie effects each qubit in many varying ways, one of which is when each qubit starts in a `|0>` ground state, and we operate on the qubit to move it from the `|0>` state to the `|1>` state.\n",
    "\n",
    "the time required to change from the excited state to the grounded state is called the energy relaxation time denoted by $T_1$\n",
    "\n",
    "$T_1$ is the time constant of the longitudinal loss (oriented along the z axis) of the singal intensity.\n",
    "\n",
    "$T_2$ Dephasing where the phase information spreads out across widely so that the phase information is lost. For ex. if the qubit has `|+>` state the dephasing time is a decay constant time where the initial state decays down to a mixed state of `|+>` and `|->` where it is difficult to predict the state of the system.\n",
    "\n",
    "$T_1$ to measure you need to apply a series of pulses seperated by a fixed time delay and capture the statistical results of the state as it moves from `|0>` to `|1>`. **Rabi oscillations` are generally used to provide the pulses that are then measured over time\n",
    "\n",
    "$T_2$ to measure you would set the state of the qubit to `|+>` or `|->` and then applpy $\\pi$ pulses at particular sequences to apply a phase roation. After applying a particular sequence of pulses over time the state should return to its original position that is `|+>` or `|->`. if dephasing occurs then the result will have a lower probabiity of returning to its original starting position. This technique of measuring $T_2$ is called **spin echo**.\n",
    "\n",
    "Sources:\n",
    "- Intrinsic noise often regarded as generic in nature, originates from sources within the system such as temp, or defects within the system so essentially materials or defects.\n",
    "- Extrinsic noise originates from environmentally coupled systems such as wave interference, vibrations, Electromagnetic fields, ..."
   ]
  },
  {
   "metadata": {
    "ExecuteTime": {
     "end_time": "2025-03-30T16:46:37.852496Z",
     "start_time": "2025-03-30T16:46:37.689060Z"
    }
   },
   "cell_type": "code",
   "source": [
    "from qiskit import QuantumCircuit\n",
    "from qiskit_aer import AerSimulator\n",
    "from qiskit_aer.noise import NoiseModel, thermal_relaxation_error\n",
    "from qiskit.visualization import plot_histogram\n",
    "\n",
    "# Set T1 and T2 values (in microseconds)\n",
    "t1 = 12.5  # 12.5 μs\n",
    "t2 = 2.5   # 2.5 μs (should be <= t1)\n",
    "\n",
    "# Gate times (in microseconds)\n",
    "gate_time = 0.1  # 100 ns\n",
    "\n",
    "# Create thermal relaxation error for each gate\n",
    "t_err = thermal_relaxation_error(t1, t2, gate_time)\n",
    "\n",
    "# Create noise model\n",
    "noise_model = NoiseModel()\n",
    "\n",
    "# Add errors to all gates on all qubits\n",
    "noise_model.add_all_qubit_quantum_error(t_err, ['id', 'u1', 'u2', 'u3', 'x', 'sx', 'rz'])\n",
    "\n",
    "# Add a specific error for the cx gate (which takes longer)\n",
    "cx_gate_time = 0.3  # 300 ns\n",
    "cx_err = thermal_relaxation_error(t1, t2, cx_gate_time).tensor(\n",
    "    thermal_relaxation_error(t1, t2, cx_gate_time))\n",
    "noise_model.add_all_qubit_quantum_error(cx_err, ['cx'])\n",
    "\n",
    "# Create Bell state circuit\n",
    "qc = QuantumCircuit(2, 2)\n",
    "qc.h(0)\n",
    "qc.cx(0, 1)\n",
    "qc.measure(range(2), range(2))\n",
    "\n",
    "# Run with noise model\n",
    "simulator = AerSimulator()\n",
    "result = simulator.run(qc, noise_model=noise_model, shots=1024).result()\n",
    "counts = result.get_counts()\n",
    "\n",
    "# Plot results\n",
    "print(counts)\n",
    "plot_histogram(counts)"
   ],
   "outputs": [
    {
     "name": "stdout",
     "output_type": "stream",
     "text": [
      "{'01': 13, '11': 491, '10': 15, '00': 505}\n"
     ]
    },
    {
     "data": {
      "text/plain": [
       "<Figure size 640x480 with 1 Axes>"
      ],
      "image/png": "[encoded data removed]"
     },
     "execution_count": 112,
     "metadata": {},
     "output_type": "execute_result"
    }
   ],
   "execution_count": 112
  },
  {
   "metadata": {},
   "cell_type": "markdown",
   "source": [
    "> [!NOTE]\n",
    "> not sure why the thermal example not working as expected as 75 25 and higher number for 00 state"
   ]
  },
  {
   "metadata": {},
   "cell_type": "markdown",
   "source": [
    "### single gate, multi gate, readout errors\n",
    "\n",
    "single gate error, multi gate errors : generally happen when a qubit is operated upoon by the various gates on the system.\n",
    "these errors are based on prababilities that the gate applied to the qubit doesn't work as expected\n",
    "for example 5% gate error to a single qubit gate like NOT then the result of the operation has a 5% prob of not resulting in expected value.\n",
    "\n",
    "readout error whappens when a measurement and acquisition is triggered to read out the value of the qubit."
   ]
  },
  {
   "metadata": {},
   "cell_type": "markdown",
   "source": "### Custom noise model"
  },
  {
   "metadata": {
    "ExecuteTime": {
     "end_time": "2025-03-30T17:07:55.397075Z",
     "start_time": "2025-03-30T17:07:55.387590Z"
    }
   },
   "cell_type": "code",
   "source": [
    "from qiskit_aer.noise import depolarizing_error, ReadoutError\n",
    "\n",
    "# Single and multi qubit proability error\n",
    "single_qubit_gate_p = 0.25\n",
    "multi_qubit_gate_p = 0.1\n",
    "\n",
    "single_error = depolarizing_error(single_qubit_gate_p, 1)\n",
    "multi_error = depolarizing_error(multi_qubit_gate_p, 2)"
   ],
   "outputs": [],
   "execution_count": 117
  },
  {
   "metadata": {
    "ExecuteTime": {
     "end_time": "2025-03-30T17:08:46.680909Z",
     "start_time": "2025-03-30T17:08:46.672305Z"
    }
   },
   "cell_type": "code",
   "source": [
    "n_m = NoiseModel()\n",
    "n_m.add_all_qubit_quantum_error(single_error, ['u2'])\n",
    "n_m.add_all_qubit_quantum_error(multi_error, ['cx'])"
   ],
   "outputs": [],
   "execution_count": 118
  },
  {
   "metadata": {
    "ExecuteTime": {
     "end_time": "2025-03-30T17:09:37.616528Z",
     "start_time": "2025-03-30T17:09:37.608173Z"
    }
   },
   "cell_type": "code",
   "source": "print(n_m)",
   "outputs": [
    {
     "name": "stdout",
     "output_type": "stream",
     "text": [
      "NoiseModel:\n",
      "  Basis gates: ['cx', 'id', 'rz', 'sx', 'u2']\n",
      "  Instructions with noise: ['u2', 'cx']\n",
      "  All-qubits errors: ['u2', 'cx']\n"
     ]
    }
   ],
   "execution_count": 119
  },
  {
   "metadata": {},
   "cell_type": "markdown",
   "source": [
    "classical readout errors are specified by a list of assignment probabilities vectors:\n",
    "\n",
    "`P(A|B)` where A is the recorded classicial bit value and B is the true bit value returned from the measurement.\n",
    "eqaution for a single qubit readout probability vector\n",
    "$$\n",
    "P(A|B) = \\begin{pmatrix}\n",
    "    P(A|0) & P(A|1)\n",
    "\\end{pmatrix}\n",
    "$$\n"
   ]
  },
  {
   "metadata": {
    "ExecuteTime": {
     "end_time": "2025-03-30T17:19:28.368957Z",
     "start_time": "2025-03-30T17:19:28.359352Z"
    }
   },
   "cell_type": "code",
   "source": [
    "# probability of 0 given 1 as 0.7 and probability of 1 given 0 as 0.2\n",
    "p0_1 = 0.7\n",
    "p1_0 = 0.3\n",
    "\n",
    "p0 = 1 - p0_1\n",
    "p1 = 1 - p1_0\n",
    "readout_error = ReadoutError([[p0_1, p1_0], [p0, p1]])\n",
    "n_m.add_readout_error(readout_error, [0])\n",
    "print(n_m)"
   ],
   "outputs": [
    {
     "name": "stdout",
     "output_type": "stream",
     "text": [
      "NoiseModel:\n",
      "  Basis gates: ['cx', 'id', 'rz', 'sx', 'u2']\n",
      "  Instructions with noise: ['measure', 'u2', 'cx']\n",
      "  Qubits with noise: [0]\n",
      "  All-qubits errors: ['u2', 'cx']\n",
      "  Specific qubit errors: [('measure', (0,))]\n"
     ]
    }
   ],
   "execution_count": 121
  },
  {
   "metadata": {
    "ExecuteTime": {
     "end_time": "2025-03-30T17:21:39.225076Z",
     "start_time": "2025-03-30T17:21:39.212323Z"
    }
   },
   "cell_type": "code",
   "source": [
    "qc_error = QuantumCircuit(2,2)\n",
    "qc_error.h(0)\n",
    "qc_error.cx(0,1)\n",
    "qc_error.measure(range(2), range(2))\n",
    "qc_error.draw()"
   ],
   "outputs": [
    {
     "data": {
      "text/plain": [
       "     ┌───┐     ┌─┐   \n",
       "q_0: ┤ H ├──■──┤M├───\n",
       "     └───┘┌─┴─┐└╥┘┌─┐\n",
       "q_1: ─────┤ X ├─╫─┤M├\n",
       "          └───┘ ║ └╥┘\n",
       "c: 2/═══════════╩══╩═\n",
       "                0  1 "
      ],
      "text/html": [
       "<pre style=\"word-wrap: normal;white-space: pre;background: #fff0;line-height: 1.1;font-family: &quot;Courier New&quot;,Courier,monospace\">     ┌───┐     ┌─┐   \n",
       "q_0: ┤ H ├──■──┤M├───\n",
       "     └───┘┌─┴─┐└╥┘┌─┐\n",
       "q_1: ─────┤ X ├─╫─┤M├\n",
       "          └───┘ ║ └╥┘\n",
       "c: 2/═══════════╩══╩═\n",
       "                0  1 </pre>"
      ]
     },
     "execution_count": 123,
     "metadata": {},
     "output_type": "execute_result"
    }
   ],
   "execution_count": 123
  },
  {
   "metadata": {
    "ExecuteTime": {
     "end_time": "2025-03-30T17:23:03.191246Z",
     "start_time": "2025-03-30T17:23:03.176508Z"
    }
   },
   "cell_type": "code",
   "source": "res = QasmSimulator().run(qc_error, basis_gates=n_m.basis_gates, noise_model=n_m).result()",
   "outputs": [],
   "execution_count": 128
  },
  {
   "metadata": {
    "ExecuteTime": {
     "end_time": "2025-03-30T17:23:04.425324Z",
     "start_time": "2025-03-30T17:23:04.417310Z"
    }
   },
   "cell_type": "code",
   "source": "res.get_counts()",
   "outputs": [
    {
     "data": {
      "text/plain": [
       "{'11': 336, '01': 159, '00': 355, '10': 174}"
      ]
     },
     "execution_count": 129,
     "metadata": {},
     "output_type": "execute_result"
    }
   ],
   "execution_count": 129
  },
  {
   "metadata": {
    "ExecuteTime": {
     "end_time": "2025-03-30T17:23:05.847924Z",
     "start_time": "2025-03-30T17:23:05.746792Z"
    }
   },
   "cell_type": "code",
   "source": "qvis.plot_histogram(res.get_counts())",
   "outputs": [
    {
     "data": {
      "text/plain": [
       "<Figure size 640x480 with 1 Axes>"
      ],
      "image/png": "[encoded data removed]"
     },
     "execution_count": 130,
     "metadata": {},
     "output_type": "execute_result"
    }
   ],
   "execution_count": 130
  },
  {
   "metadata": {},
   "cell_type": "markdown",
   "source": [
    "After Applying Depolarizing Noise:\n",
    "\n",
    "    With probability 1−p, the state remains unchanged.\n",
    "\n",
    "    With probability p, the state randomly changes to |0⟩, |1⟩, |+⟩, |−⟩, etc.\n",
    "\n",
    "    This pulls the state towards the center of the Bloch sphere.\n",
    "\n",
    "Depolarizing Noise Effect\n",
    "\n",
    "    With some probability pp, the state gets randomly replaced by a completely mixed state.\n",
    "\n",
    "    This means the sharp arrow becomes shorter and more diffused, losing coherence.\n",
    "\n",
    "    Visually, the Bloch sphere representation becomes blurred as the state drifts toward the center."
   ]
  },
  {
   "metadata": {},
   "cell_type": "code",
   "outputs": [],
   "execution_count": null,
   "source": ""
  }
 ],
 "metadata": {
  "kernelspec": {
   "display_name": "env",
   "language": "python",
   "name": "python3"
  },
  "language_info": {
   "codemirror_mode": {
    "name": "ipython",
    "version": 3
   },
   "file_extension": ".py",
   "mimetype": "text/x-python",
   "name": "python",
   "nbconvert_exporter": "python",
   "pygments_lexer": "ipython3",
   "version": "3.13.2"
  }
 },
 "nbformat": 4,
 "nbformat_minor": 2
}
