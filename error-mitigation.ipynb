{
 "cells": [
  {
   "metadata": {},
   "cell_type": "markdown",
   "source": [
    "## Ignis\n",
    "Ignis framework that contains various functionalities such as characterization, verification and mitigation."
   ],
   "id": "c9eb74529849109"
  },
  {
   "metadata": {},
   "cell_type": "markdown",
   "source": "### Generating Noise effects of relaxation",
   "id": "fd8e295f3ae47219"
  },
  {
   "metadata": {},
   "cell_type": "markdown",
   "source": [
    "noise type as decoherence.\n",
    "3 main types of decoherence are\n",
    "- $T_1$ relaxation\n",
    "- $T_2/T_2^*$ dephasing"
   ],
   "id": "56c09b9e8c2e73c9"
  },
  {
   "metadata": {},
   "cell_type": "code",
   "outputs": [],
   "execution_count": null,
   "source": "",
   "id": "f9d21b38ba525e20"
  },
  {
   "metadata": {},
   "cell_type": "markdown",
   "source": "### Estimating $T_1$ decoherence time",
   "id": "f3e832b7fbc8cf4a"
  },
  {
   "metadata": {},
   "cell_type": "code",
   "outputs": [],
   "execution_count": null,
   "source": "",
   "id": "ce2404c21851351c"
  },
  {
   "metadata": {},
   "cell_type": "markdown",
   "source": "### Generating the noise effects of dephasing",
   "id": "b16bd96830f9f20e"
  },
  {
   "metadata": {},
   "cell_type": "code",
   "outputs": [],
   "execution_count": null,
   "source": "",
   "id": "d67158f7bcc16d96"
  },
  {
   "metadata": {},
   "cell_type": "markdown",
   "source": "### Estimating $T_2$ decoherence time",
   "id": "2407e560c63d05c2"
  },
  {
   "metadata": {},
   "cell_type": "code",
   "outputs": [],
   "execution_count": null,
   "source": "",
   "id": "50be3958c63bca65"
  },
  {
   "metadata": {},
   "cell_type": "markdown",
   "source": "### Estimating $T_2$ * ($T_2$ star) decoherence time",
   "id": "fceb27e43d4a14b9"
  },
  {
   "metadata": {},
   "cell_type": "code",
   "outputs": [],
   "execution_count": null,
   "source": "",
   "id": "285a4138f69a5998"
  },
  {
   "metadata": {},
   "cell_type": "markdown",
   "source": "### Visualizing the $T_1$, $T_2$, and $T_2^*$ decoherence times",
   "id": "60cc85f4355fb8b7"
  },
  {
   "metadata": {},
   "cell_type": "code",
   "outputs": [],
   "execution_count": null,
   "source": "",
   "id": "56e394ef96357773"
  },
  {
   "metadata": {},
   "cell_type": "markdown",
   "source": "### Mitigating readout errors using measurement calibrations",
   "id": "5bf63918ea8947ca"
  },
  {
   "metadata": {},
   "cell_type": "code",
   "outputs": [],
   "execution_count": null,
   "source": "",
   "id": "2b95af9ef292830a"
  }
 ],
 "metadata": {
  "kernelspec": {
   "display_name": "Python 3",
   "language": "python",
   "name": "python3"
  },
  "language_info": {
   "codemirror_mode": {
    "name": "ipython",
    "version": 2
   },
   "file_extension": ".py",
   "mimetype": "text/x-python",
   "name": "python",
   "nbconvert_exporter": "python",
   "pygments_lexer": "ipython2",
   "version": "2.7.6"
  }
 },
 "nbformat": 4,
 "nbformat_minor": 5
}
