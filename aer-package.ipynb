{
 "cells": [
  {
   "cell_type": "markdown",
   "metadata": {},
   "source": [
    "**types of simulators**\n",
    "- qasm simulator which executes the quantum circuits with multiple shots to smulate a noisy backend quantum system\n",
    "- statevector simulator which provides the state vector of the quantm circuit\n",
    "- unitary simulator which provides the unitary matrix of the quantum circuit being executed\n",
    "- pulse simulator which simulates pulse schedules to execute directly to the various channels on the hardware"
   ]
  },
  {
   "cell_type": "code",
   "execution_count": 47,
   "metadata": {},
   "outputs": [],
   "source": [
    "from qiskit_aer import Aer"
   ]
  },
  {
   "cell_type": "code",
   "execution_count": 48,
   "metadata": {},
   "outputs": [
    {
     "data": {
      "text/plain": [
       "[AerSimulator('aer_simulator'),\n",
       " AerSimulator('aer_simulator_statevector'),\n",
       " AerSimulator('aer_simulator_density_matrix'),\n",
       " AerSimulator('aer_simulator_stabilizer'),\n",
       " AerSimulator('aer_simulator_matrix_product_state'),\n",
       " AerSimulator('aer_simulator_extended_stabilizer'),\n",
       " AerSimulator('aer_simulator_unitary'),\n",
       " AerSimulator('aer_simulator_superop'),\n",
       " QasmSimulator('qasm_simulator'),\n",
       " StatevectorSimulator('statevector_simulator'),\n",
       " UnitarySimulator('unitary_simulator')]"
      ]
     },
     "execution_count": 48,
     "metadata": {},
     "output_type": "execute_result"
    }
   ],
   "source": [
    "Aer.backends()"
   ]
  },
  {
   "cell_type": "code",
   "execution_count": 49,
   "metadata": {},
   "outputs": [],
   "source": [
    "from dotenv import load_dotenv\n",
    "import os\n",
    "load_dotenv()  # take environment variables from .env.\n",
    "from qiskit_ibm_runtime import QiskitRuntimeService, fake_provider\n",
    "\n",
    "provider = QiskitRuntimeService(channel=\"ibm_quantum\", token=os.getenv('QISKIT_IBM_TOKEN'))"
   ]
  },
  {
   "cell_type": "code",
   "execution_count": 50,
   "metadata": {},
   "outputs": [
    {
     "data": {
      "text/plain": [
       "[<IBMBackend('ibm_brisbane')>,\n",
       " <IBMBackend('ibm_kyiv')>,\n",
       " <IBMBackend('ibm_sherbrooke')>]"
      ]
     },
     "execution_count": 50,
     "metadata": {},
     "output_type": "execute_result"
    }
   ],
   "source": [
    "provider.backends(simulator=False)"
   ]
  },
  {
   "cell_type": "code",
   "execution_count": 51,
   "metadata": {},
   "outputs": [
    {
     "data": {
      "text/plain": [
       "[]"
      ]
     },
     "execution_count": 51,
     "metadata": {},
     "output_type": "execute_result"
    }
   ],
   "source": [
    "provider.backends(simulator=True)"
   ]
  },
  {
   "cell_type": "code",
   "execution_count": 52,
   "metadata": {},
   "outputs": [
    {
     "data": {
      "text/plain": [
       "<qiskit.circuit.instructionset.InstructionSet at 0x7f0b7a20cac0>"
      ]
     },
     "execution_count": 52,
     "metadata": {},
     "output_type": "execute_result"
    }
   ],
   "source": [
    "from qiskit import QuantumCircuit\n",
    "qc = QuantumCircuit(2,2)\n",
    "qc.h(0)\n",
    "qc.cx(0,1)\n",
    "qc.measure([0,1], [0,1])"
   ]
  },
  {
   "cell_type": "code",
   "execution_count": 53,
   "metadata": {},
   "outputs": [
    {
     "data": {
      "text/html": [
       "<pre style=\"word-wrap: normal;white-space: pre;background: #fff0;line-height: 1.1;font-family: &quot;Courier New&quot;,Courier,monospace\">     ┌───┐     ┌─┐   \n",
       "q_0: ┤ H ├──■──┤M├───\n",
       "     └───┘┌─┴─┐└╥┘┌─┐\n",
       "q_1: ─────┤ X ├─╫─┤M├\n",
       "          └───┘ ║ └╥┘\n",
       "c: 2/═══════════╩══╩═\n",
       "                0  1 </pre>"
      ],
      "text/plain": [
       "     ┌───┐     ┌─┐   \n",
       "q_0: ┤ H ├──■──┤M├───\n",
       "     └───┘┌─┴─┐└╥┘┌─┐\n",
       "q_1: ─────┤ X ├─╫─┤M├\n",
       "          └───┘ ║ └╥┘\n",
       "c: 2/═══════════╩══╩═\n",
       "                0  1 "
      ]
     },
     "execution_count": 53,
     "metadata": {},
     "output_type": "execute_result"
    }
   ],
   "source": [
    "qc.draw()"
   ]
  },
  {
   "cell_type": "markdown",
   "metadata": {},
   "source": [
    "### Qasm simulator\n",
    "\n",
    "available simulation methods\n",
    "- statevector: it allows ideal circuit measurements at the end of quantum circuit. in addition each shot that executes the circuit can sample random noise from noise modes to provide noisy simulations\n",
    "- density_matrix: gives density matrix simulation which similar to the statevector, samples the quantum circuits with measurements given at the end of each circuit\n",
    "- matrix_product_state: tensor-network statevector simulator that leverages a matrix product state as the representation of the state\n",
    "- automatic: if no method is set then this method automatically selcts based on the no of qubits, quantum circuit, and noise model\n",
    "\n",
    "`backend_options`\n",
    "- method: the above ones\n",
    "- precision: sets floating point to either single or double precision (default=double)\n",
    "- zero_threshold: this truncates values to 0\n",
    "- validation_threshold: is used to verify if the initial states of the quantum circuit are valid (default=1e-8)\n",
    "- max_parallel_threads: this is used to set the max no of parallel cpu cores (default=0)\n",
    "- max_parallel_experiments: the max no of `Qobj` circuits in parallel not to exceed the max parallelthreads (default=1 aka disable) and if 0 it will be maximally set\n",
    "- max_parallel_shots: default is 0 which means it will be max_paralel_threads. and if 1 then its disabled\n",
    "- max_memory_mb: the max memory in MB that can be used by the simulator (default=0) the max value is locked at /2 the size of the system memory"
   ]
  },
  {
   "cell_type": "code",
   "execution_count": 54,
   "metadata": {},
   "outputs": [],
   "source": [
    "from qiskit_aer import QasmSimulator, AerSimulator"
   ]
  },
  {
   "cell_type": "code",
   "execution_count": 55,
   "metadata": {},
   "outputs": [],
   "source": [
    "simulator = QasmSimulator()\n",
    "res = simulator.run(qc, shots=10,method='statevector', memory=True)"
   ]
  },
  {
   "cell_type": "code",
   "execution_count": 56,
   "metadata": {},
   "outputs": [
    {
     "data": {
      "text/plain": [
       "<JobStatus.DONE: 'job has successfully run'>"
      ]
     },
     "execution_count": 56,
     "metadata": {},
     "output_type": "execute_result"
    }
   ],
   "source": [
    "res.status()"
   ]
  },
  {
   "cell_type": "code",
   "execution_count": 57,
   "metadata": {},
   "outputs": [
    {
     "data": {
      "text/plain": [
       "{'11': 3, '00': 7}"
      ]
     },
     "execution_count": 57,
     "metadata": {},
     "output_type": "execute_result"
    }
   ],
   "source": [
    "res.result().get_counts()"
   ]
  },
  {
   "cell_type": "code",
   "execution_count": 58,
   "metadata": {},
   "outputs": [
    {
     "data": {
      "text/plain": [
       "['00', '11', '00', '00', '00', '11', '00', '11', '00', '00']"
      ]
     },
     "execution_count": 58,
     "metadata": {},
     "output_type": "execute_result"
    }
   ],
   "source": [
    "res.result().get_memory(qc)"
   ]
  },
  {
   "cell_type": "markdown",
   "metadata": {},
   "source": [
    "### set non default initialize qubit values"
   ]
  },
  {
   "cell_type": "code",
   "execution_count": 59,
   "metadata": {},
   "outputs": [
    {
     "data": {
      "text/html": [
       "<pre style=\"word-wrap: normal;white-space: pre;background: #fff0;line-height: 1.1;font-family: &quot;Courier New&quot;,Courier,monospace\">          ┌─────────────────────────────────────────┐┌─┐   \n",
       "q_0: ─|0>─┤0                                        ├┤M├───\n",
       "          │  State Preparation(0.70711,0,0,0.70711) │└╥┘┌─┐\n",
       "q_1: ─|0>─┤1                                        ├─╫─┤M├\n",
       "          └─────────────────────────────────────────┘ ║ └╥┘\n",
       "c: 2/═════════════════════════════════════════════════╩══╩═\n",
       "                                                      0  1 </pre>"
      ],
      "text/plain": [
       "          ┌─────────────────────────────────────────┐┌─┐   \n",
       "q_0: ─|0>─┤0                                        ├┤M├───\n",
       "          │  State Preparation(0.70711,0,0,0.70711) │└╥┘┌─┐\n",
       "q_1: ─|0>─┤1                                        ├─╫─┤M├\n",
       "          └─────────────────────────────────────────┘ ║ └╥┘\n",
       "c: 2/═════════════════════════════════════════════════╩══╩═\n",
       "                                                      0  1 "
      ]
     },
     "execution_count": 59,
     "metadata": {},
     "output_type": "execute_result"
    }
   ],
   "source": [
    "import numpy as np\n",
    "\n",
    "qc_init = QuantumCircuit(2,2)\n",
    "init_qubits=[0,1] # select the qubits by their index which you want to initialize\n",
    "qc_init.initialize([1, 0, 0, 1]/np.sqrt(2), init_qubits)\n",
    "\n",
    "# For the array [1,0,0,1]:\n",
    "# Position 0 (1): Amplitude for |00⟩\n",
    "# Position 1 (0): Amplitude for |01⟩\n",
    "# Position 2 (0): Amplitude for |10⟩\n",
    "# Position 3 (1): Amplitude for |11⟩\n",
    "\n",
    "qc_init.measure(range(2), range(2))\n",
    "qc_init.decompose().draw()"
   ]
  },
  {
   "cell_type": "code",
   "execution_count": 60,
   "metadata": {},
   "outputs": [
    {
     "data": {
      "text/plain": [
       "['00', '11', '11', '11', '00', '00', '00', '11', '11', '00']"
      ]
     },
     "execution_count": 60,
     "metadata": {},
     "output_type": "execute_result"
    }
   ],
   "source": [
    "simulator = AerSimulator()\n",
    "res = simulator.run(qc_init, shots=10, memory=True).result()\n",
    "res.get_memory(qc_init)"
   ]
  },
  {
   "cell_type": "code",
   "execution_count": 61,
   "metadata": {},
   "outputs": [
    {
     "data": {
      "text/plain": [
       "{'11': 5, '00': 5}"
      ]
     },
     "execution_count": 61,
     "metadata": {},
     "output_type": "execute_result"
    }
   ],
   "source": [
    "res.get_counts() # values are same!!"
   ]
  },
  {
   "cell_type": "code",
   "execution_count": null,
   "metadata": {},
   "outputs": [],
   "source": []
  },
  {
   "cell_type": "code",
   "execution_count": 62,
   "metadata": {},
   "outputs": [
    {
     "data": {
      "text/plain": [
       "<qiskit.circuit.instructionset.InstructionSet at 0x7f0b7a20db10>"
      ]
     },
     "execution_count": 62,
     "metadata": {},
     "output_type": "execute_result"
    }
   ],
   "source": [
    "qc_init_2 = QuantumCircuit(4,4)\n",
    "# initializing 3 qubits with an 8-element array, representing the amplitudes for all possible 3-qubit states (|000⟩, |001⟩, |010⟩, etc.).\n",
    "qc_init_2.initialize([0, 1, 0, 1, 0, 1, 0, 1]/np.sqrt(4), [1,2,3])\n",
    "qc_init_2.barrier(range(4))\n",
    "qc_init_2.measure(qubit=range(4), cbit=range(4))"
   ]
  },
  {
   "cell_type": "code",
   "execution_count": 63,
   "metadata": {},
   "outputs": [
    {
     "data": {
      "text/html": [
       "<pre style=\"word-wrap: normal;white-space: pre;background: #fff0;line-height: 1.1;font-family: &quot;Courier New&quot;,Courier,monospace\">                                                          ░ ┌─┐         \n",
       "q_0: ─────────────────────────────────────────────────────░─┤M├─────────\n",
       "          ┌─────────────────────────────────────────────┐ ░ └╥┘┌─┐      \n",
       "q_1: ─|0>─┤0                                            ├─░──╫─┤M├──────\n",
       "          │                                             │ ░  ║ └╥┘┌─┐   \n",
       "q_2: ─|0>─┤1 State Preparation(0,0.5,0,0.5,0,0.5,0,0.5) ├─░──╫──╫─┤M├───\n",
       "          │                                             │ ░  ║  ║ └╥┘┌─┐\n",
       "q_3: ─|0>─┤2                                            ├─░──╫──╫──╫─┤M├\n",
       "          └─────────────────────────────────────────────┘ ░  ║  ║  ║ └╥┘\n",
       "c: 4/════════════════════════════════════════════════════════╩══╩══╩══╩═\n",
       "                                                             0  1  2  3 </pre>"
      ],
      "text/plain": [
       "                                                          ░ ┌─┐         \n",
       "q_0: ─────────────────────────────────────────────────────░─┤M├─────────\n",
       "          ┌─────────────────────────────────────────────┐ ░ └╥┘┌─┐      \n",
       "q_1: ─|0>─┤0                                            ├─░──╫─┤M├──────\n",
       "          │                                             │ ░  ║ └╥┘┌─┐   \n",
       "q_2: ─|0>─┤1 State Preparation(0,0.5,0,0.5,0,0.5,0,0.5) ├─░──╫──╫─┤M├───\n",
       "          │                                             │ ░  ║  ║ └╥┘┌─┐\n",
       "q_3: ─|0>─┤2                                            ├─░──╫──╫──╫─┤M├\n",
       "          └─────────────────────────────────────────────┘ ░  ║  ║  ║ └╥┘\n",
       "c: 4/════════════════════════════════════════════════════════╩══╩══╩══╩═\n",
       "                                                             0  1  2  3 "
      ]
     },
     "execution_count": 63,
     "metadata": {},
     "output_type": "execute_result"
    }
   ],
   "source": [
    "qc_init_2.decompose().draw()"
   ]
  },
  {
   "cell_type": "code",
   "execution_count": 64,
   "metadata": {},
   "outputs": [
    {
     "data": {
      "text/plain": [
       "{'0110': 244, '1110': 253, '0010': 260, '1010': 267}"
      ]
     },
     "execution_count": 64,
     "metadata": {},
     "output_type": "execute_result"
    }
   ],
   "source": [
    "simulator = AerSimulator()\n",
    "res = simulator.run(qc_init_2, memory=True).result()\n",
    "res.get_counts()"
   ]
  },
  {
   "cell_type": "code",
   "execution_count": 65,
   "metadata": {},
   "outputs": [],
   "source": [
    "from qiskit.visualization import plot_histogram"
   ]
  },
  {
   "cell_type": "code",
   "execution_count": 66,
   "metadata": {},
   "outputs": [
    {
     "data": {
      "image/png": "[encoded data removed]",
      "text/plain": [
       "<Figure size 640x480 with 1 Axes>"
      ]
     },
     "execution_count": 66,
     "metadata": {},
     "output_type": "execute_result"
    }
   ],
   "source": [
    "plot_histogram(res.get_counts())"
   ]
  },
  {
   "cell_type": "markdown",
   "metadata": {},
   "source": [
    "you can see least significant bit q_0 is always 0 and rest are set according"
   ]
  },
  {
   "cell_type": "markdown",
   "metadata": {},
   "source": [
    "now lets flip the results"
   ]
  },
  {
   "cell_type": "code",
   "execution_count": 67,
   "metadata": {},
   "outputs": [
    {
     "data": {
      "image/png": "[encoded data removed]",
      "text/plain": [
       "<Figure size 956.385x451.5 with 1 Axes>"
      ]
     },
     "execution_count": 67,
     "metadata": {},
     "output_type": "execute_result"
    }
   ],
   "source": [
    "qc_init_3 = QuantumCircuit(4,4)\n",
    "# initializing 3 qubits with an 8-element array, representing the amplitudes for all possible 3-qubit states (|000⟩, |001⟩, |010⟩, etc.).\n",
    "qc_init_3.initialize([0, 1, 0, 1, 0, 1, 0, 1]/np.sqrt(4), [1,2,3])\n",
    "qc_init_3.barrier(range(4))\n",
    "for idx in range(4):\n",
    "    qc_init_3.x(idx)\n",
    "qc_init_3.measure(qubit=range(4), cbit=range(4))\n",
    "qc_init_3.decompose().draw('mpl')"
   ]
  },
  {
   "cell_type": "code",
   "execution_count": 68,
   "metadata": {},
   "outputs": [
    {
     "data": {
      "image/png": "[encoded data removed]",
      "text/plain": [
       "<Figure size 640x480 with 1 Axes>"
      ]
     },
     "execution_count": 68,
     "metadata": {},
     "output_type": "execute_result"
    }
   ],
   "source": [
    "res = simulator.run(qc_init_3, memory=True).result()\n",
    "res.get_counts()\n",
    "plot_histogram(res.get_counts())"
   ]
  },
  {
   "cell_type": "code",
   "execution_count": null,
   "metadata": {},
   "outputs": [],
   "source": []
  }
 ],
 "metadata": {
  "kernelspec": {
   "display_name": "env",
   "language": "python",
   "name": "python3"
  },
  "language_info": {
   "codemirror_mode": {
    "name": "ipython",
    "version": 3
   },
   "file_extension": ".py",
   "mimetype": "text/x-python",
   "name": "python",
   "nbconvert_exporter": "python",
   "pygments_lexer": "ipython3",
   "version": "3.13.2"
  }
 },
 "nbformat": 4,
 "nbformat_minor": 4
}
