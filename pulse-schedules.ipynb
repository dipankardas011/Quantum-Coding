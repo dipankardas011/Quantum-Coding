{
 "cells": [
  {
   "cell_type": "markdown",
   "id": "dbfc210b-2f67-4871-b2b6-981b29718763",
   "metadata": {},
   "source": [
    "> [!NOTE]\n",
    "> This package qiskit.pulse is depricated in favour of qiskit_dynamics\n",
    ">\n",
    "> The functions `qiskit.scheduler.utils.format_meas_map()`, `qiskit.scheduler.utils.measure()`, and `qiskit.scheduler.utils.measure_all()` had been moved to `qiskit.pulse.utils.format_meas_map()`, `qiskit.pulse.macros.measure()`, and `qiskit.pulse.macros.measure_all()` respectively. The previous location was deprecated in Qiskit 0.20.0 (Terra 0.15.0, released on 2020-08-10) and it is no longer supported."
   ]
  },
  {
   "cell_type": "code",
   "execution_count": 7,
   "id": "27a2babb-3a9d-4f0d-9e7e-d69c2463242f",
   "metadata": {},
   "outputs": [],
   "source": [
    "from qiskit.pulse import DriveChannel, Play, Schedule, Waveform\n",
    "from qiskit.pulse.macros import measure_all"
   ]
  },
  {
   "cell_type": "markdown",
   "id": "4dfee971-c003-462a-92be-1eb11f125aea",
   "metadata": {},
   "source": [
    "In essence, the Acquire instruction performs the following steps:\n",
    "\n",
    "    Applies a measurement signal to the specified channel for the given duration.\n",
    "    Acquires the raw data from the channel.\n",
    "    Processes the raw data using the specified kernel.\n",
    "    Classifies the processed data into a classical bit (0 or 1) using the discriminator.\n",
    "    Stores the raw data in the mem_slot and the classified result in the reg_slot.\n",
    "\n"
   ]
  },
  {
   "cell_type": "code",
   "execution_count": null,
   "id": "c1e21e9d-e16a-4a51-bad8-3677e1357747",
   "metadata": {},
   "outputs": [],
   "source": []
  }
 ],
 "metadata": {
  "kernelspec": {
   "display_name": "Python 3 (ipykernel)",
   "language": "python",
   "name": "python3"
  },
  "language_info": {
   "codemirror_mode": {
    "name": "ipython",
    "version": 3
   },
   "file_extension": ".py",
   "mimetype": "text/x-python",
   "name": "python",
   "nbconvert_exporter": "python",
   "pygments_lexer": "ipython3",
   "version": "3.13.1"
  }
 },
 "nbformat": 4,
 "nbformat_minor": 5
}
