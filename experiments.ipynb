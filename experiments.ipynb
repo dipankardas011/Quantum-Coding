{
 "cells": [
  {
   "cell_type": "markdown",
   "id": "ffcc7868-ed1b-4366-a9f7-4482526b5374",
   "metadata": {},
   "source": [
    "## how to combine quantum circuits"
   ]
  },
  {
   "cell_type": "code",
   "execution_count": 20,
   "id": "432b0686-b8af-40fd-bf63-31152d68170c",
   "metadata": {},
   "outputs": [
    {
     "data": {
      "text/html": [
       "<pre style=\"word-wrap: normal;white-space: pre;background: #fff0;line-height: 1.1;font-family: &quot;Courier New&quot;,Courier,monospace\">       \n",
       "qr1_0: \n",
       "       \n",
       "qr1_1: \n",
       "       \n",
       "qr2_0: \n",
       "       \n",
       "qr2_1: \n",
       "       \n",
       "cr1: 2/\n",
       "       \n",
       "cr2: 2/\n",
       "       </pre>"
      ],
      "text/plain": [
       "       \n",
       "qr1_0: \n",
       "       \n",
       "qr1_1: \n",
       "       \n",
       "qr2_0: \n",
       "       \n",
       "qr2_1: \n",
       "       \n",
       "cr1: 2/\n",
       "       \n",
       "cr2: 2/\n",
       "       "
      ]
     },
     "execution_count": 20,
     "metadata": {},
     "output_type": "execute_result"
    }
   ],
   "source": [
    "from qiskit import QuantumCircuit, QuantumRegister, ClassicalRegister\n",
    "\n",
    "# Define registers for qc1 and qc2\n",
    "qr1 = QuantumRegister(2, 'qr1')\n",
    "cr1 = ClassicalRegister(2, 'cr1')\n",
    "qr2 = QuantumRegister(2, 'qr2')\n",
    "cr2 = ClassicalRegister(2, 'cr2')\n",
    "\n",
    "# Create the original circuits (for demonstration)\n",
    "qc1 = QuantumCircuit(qr1, cr1)\n",
    "qc2 = QuantumCircuit(qr2, cr2)\n",
    "\n",
    "# Create a new circuit containing all registers\n",
    "combined = QuantumCircuit(qr1, qr2, cr1, cr2)\n",
    "\n",
    "# Compose qc1 into combined using its corresponding registers\n",
    "combined.compose(qc1, qubits=[qr1[0], qr1[1]], clbits=[cr1[0], cr1[1]], inplace=True)\n",
    "\n",
    "# Compose qc2 into combined using its corresponding registers\n",
    "combined.compose(qc2, qubits=[qr2[0], qr2[1]], clbits=[cr2[0], cr2[1]], inplace=True)\n",
    "\n",
    "# Draw the combined circuit\n",
    "combined.draw()\n"
   ]
  },
  {
   "cell_type": "markdown",
   "id": "46d216a0-550b-4b0c-97e3-51da2513d67b",
   "metadata": {},
   "source": [
    "## how to make random circuits"
   ]
  },
  {
   "cell_type": "code",
   "execution_count": 24,
   "id": "17e3fc5a-c2f8-4819-bcfa-f782c23b6fc7",
   "metadata": {},
   "outputs": [
    {
     "data": {
      "text/html": [
       "<pre style=\"word-wrap: normal;white-space: pre;background: #fff0;line-height: 1.1;font-family: &quot;Courier New&quot;,Courier,monospace\">          ┌────────────────────────┐      ┌─┐   \n",
       "q_0: ──■──┤0                       ├──────┤M├───\n",
       "       │  │                        │┌────┐└╥┘┌─┐\n",
       "q_1: ──■──┤  (XX+YY)(5.8738,1.339) ├┤ √X ├─╫─┤M├\n",
       "     ┌─┴─┐│                        │└┬─┬─┘ ║ └╥┘\n",
       "q_2: ┤ X ├┤1                       ├─┤M├───╫──╫─\n",
       "     └───┘└────────────────────────┘ └╥┘   ║  ║ \n",
       "c: 3/═════════════════════════════════╩════╩══╩═\n",
       "                                      2    0  1 </pre>"
      ],
      "text/plain": [
       "          ┌────────────────────────┐      ┌─┐   \n",
       "q_0: ──■──┤0                       ├──────┤M├───\n",
       "       │  │                        │┌────┐└╥┘┌─┐\n",
       "q_1: ──■──┤  (XX+YY)(5.8738,1.339) ├┤ √X ├─╫─┤M├\n",
       "     ┌─┴─┐│                        │└┬─┬─┘ ║ └╥┘\n",
       "q_2: ┤ X ├┤1                       ├─┤M├───╫──╫─\n",
       "     └───┘└────────────────────────┘ └╥┘   ║  ║ \n",
       "c: 3/═════════════════════════════════╩════╩══╩═\n",
       "                                      2    0  1 "
      ]
     },
     "execution_count": 24,
     "metadata": {},
     "output_type": "execute_result"
    }
   ],
   "source": [
    "from qiskit.circuit.random import random_circuit\n",
    "\n",
    "# no of quibits, depth of operations\n",
    "qc = random_circuit(num_qubits=3, depth=2, measure=True)\n",
    "qc.draw()"
   ]
  },
  {
   "cell_type": "code",
   "execution_count": 25,
   "id": "f730cfb5-68d1-4f0a-b9b9-671cd92ce87b",
   "metadata": {},
   "outputs": [
    {
     "data": {
      "text/html": [
       "<pre style=\"word-wrap: normal;white-space: pre;background: #fff0;line-height: 1.1;font-family: &quot;Courier New&quot;,Courier,monospace\">     ┌────────────┐                  ┌─┐      \n",
       "q_0: ┤ Rz(4.9837) ├──────────────────┤M├──────\n",
       "     └─────┬──────┘┌───┐             └╥┘┌─┐   \n",
       "q_1: ──────┼───────┤ S ├─■────────────╫─┤M├───\n",
       "           │       └───┘ │ZZ(3.7381)  ║ └╥┘┌─┐\n",
       "q_2: ──────■─────────────■────────────╫──╫─┤M├\n",
       "                                      ║  ║ └╥┘\n",
       "c: 3/═════════════════════════════════╩══╩══╩═\n",
       "                                      0  1  2 </pre>"
      ],
      "text/plain": [
       "     ┌────────────┐                  ┌─┐      \n",
       "q_0: ┤ Rz(4.9837) ├──────────────────┤M├──────\n",
       "     └─────┬──────┘┌───┐             └╥┘┌─┐   \n",
       "q_1: ──────┼───────┤ S ├─■────────────╫─┤M├───\n",
       "           │       └───┘ │ZZ(3.7381)  ║ └╥┘┌─┐\n",
       "q_2: ──────■─────────────■────────────╫──╫─┤M├\n",
       "                                      ║  ║ └╥┘\n",
       "c: 3/═════════════════════════════════╩══╩══╩═\n",
       "                                      0  1  2 "
      ]
     },
     "execution_count": 25,
     "metadata": {},
     "output_type": "execute_result"
    }
   ],
   "source": [
    "# no of quibits, depth of operations\n",
    "qc = random_circuit(num_qubits=3, depth=2, measure=True)\n",
    "qc.draw()"
   ]
  },
  {
   "cell_type": "markdown",
   "id": "ed406e0f-9bbf-4e5d-be5f-068aa1ca39c9",
   "metadata": {},
   "source": [
    "## Circuit properties"
   ]
  },
  {
   "cell_type": "code",
   "execution_count": 27,
   "id": "e728df81-ac7c-4d0e-87d2-1d2512b2d65c",
   "metadata": {},
   "outputs": [
    {
     "name": "stdout",
     "output_type": "stream",
     "text": [
      "Width=  6\n",
      "Depth=  3\n",
      "No of Operation=  OrderedDict({'measure': 3, 'crz': 1, 's': 1, 'rzz': 1})\n",
      "Circuit size=  6\n"
     ]
    }
   ],
   "source": [
    "print('Width= ',qc.width()) # Return number of qubits plus clbits in circuit.\n",
    "print('Depth= ', qc.depth()) # Return circuit depth (i.e., length of critical path). The depth of a quantum circuit is a measure of how many \"layers\" of quantum gates, executed in parallel, it takes to complete the computation defined by the circuit.  Because quantum gates take time to implement, the depth of a circuit roughly corresponds to the amount of time it takes the quantum computer to execute the circuit.\n",
    "print('No of Operation= ', qc.count_ops())\n",
    "print('Circuit size= ', qc.size()) # Returns total number of instructions in circuit."
   ]
  },
  {
   "cell_type": "code",
   "execution_count": null,
   "id": "264c91c9-aadd-432c-91a4-0a29c417cff3",
   "metadata": {},
   "outputs": [],
   "source": []
  }
 ],
 "metadata": {
  "kernelspec": {
   "display_name": "Python 3 (ipykernel)",
   "language": "python",
   "name": "python3"
  },
  "language_info": {
   "codemirror_mode": {
    "name": "ipython",
    "version": 3
   },
   "file_extension": ".py",
   "mimetype": "text/x-python",
   "name": "python",
   "nbconvert_exporter": "python",
   "pygments_lexer": "ipython3",
   "version": "3.13.1"
  }
 },
 "nbformat": 4,
 "nbformat_minor": 5
}
