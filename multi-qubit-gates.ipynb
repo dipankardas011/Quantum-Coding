{
 "cells": [
  {
   "cell_type": "code",
   "execution_count": 1,
   "id": "acea57c8-a7ee-48ac-a7c0-93475a4db196",
   "metadata": {},
   "outputs": [],
   "source": [
    "from qiskit_aer import Aer, AerSimulator\n",
    "from qiskit import QuantumCircuit, transpile\n",
    "from qiskit.visualization import plot_histogram"
   ]
  },
  {
   "cell_type": "code",
   "execution_count": 2,
   "id": "28c1dd78-7b73-420d-9cbd-8dffbe8c8467",
   "metadata": {},
   "outputs": [],
   "source": [
    "def execute_circuit(quantum_circuit: QuantumCircuit):\n",
    "    simulator = AerSimulator()\n",
    "    res = simulator.run(qc, shots=1024).result().get_counts()\n",
    "    circuit_draw = quantum_circuit.draw()\n",
    "\n",
    "    histogram = plot_histogram(res)\n",
    "    return res, circuit_draw, histogram"
   ]
  },
  {
   "cell_type": "markdown",
   "id": "6f6e7320-f2d0-48fa-a8d9-11e760f6b14c",
   "metadata": {},
   "source": [
    "## CNOT gate\n",
    "Similar to XOR\n",
    "first part is `Control` which is connected to one of the qubit and is what triggers the fate to perform an *operation* on the other qubit connected to the other end of the CNOT gate the `Target`\n",
    "\n",
    "the operation on the other bit is `NOT` operation\n",
    "\n",
    "It is commonly used to `entangle quibits`\n",
    "\n",
    "We can thinkk of `X gate`\n",
    "It is often called as Control-X (CX)\n",
    "\n",
    "\n",
    "The matrix representation of a CNOT in 4x4 matrix\n",
    "$$\n",
    "\\begin{bmatrix}\n",
    "1 & 0 & 0 & 0\\\\\n",
    "0 & 1 & 0 & 0\\\\\n",
    "0 & 0 & 0 & 1\\\\\n",
    "0 & 0 & 1 & 0\n",
    "\\end{bmatrix}\n",
    "$$\n",
    "\n",
    "> top left 2x2 represent a Identity matrix and the bottom right 2x2 represent a `X` matrix\n",
    "\n",
    "\n",
    "> When the Control qubit (the left side of the input vector) is 0 there is no chg to the target qubit\n",
    "> but if the control qubit is set to 1 then the target qubit operation is enabled and it rotates the target qubut around the x axis by $\\pi$\n",
    "|Input|Output|\n",
    "|-|-|\n",
    "| \\|00> | \\|00> |\n",
    "| \\|01> | \\|01> |\n",
    "| \\|10> | \\|11> |\n",
    "| \\|11> | \\|10> |\n"
   ]
  },
  {
   "cell_type": "code",
   "execution_count": 4,
   "id": "4f259bf2-638d-4fdc-b422-ce7528671b5c",
   "metadata": {},
   "outputs": [],
   "source": [
    "qc = QuantumCircuit(2)\n",
    "qc.h(0)\n",
    "qc.cx(control_qubit=0, target_qubit=1)\n",
    "qc.measure_all() # measure all qubits and send res to classical bits\n",
    "res, img, histogram = execute_circuit(qc)"
   ]
  },
  {
   "cell_type": "code",
   "execution_count": 5,
   "id": "c714536d-7482-4bbc-8efd-f9fd59a70902",
   "metadata": {},
   "outputs": [
    {
     "data": {
      "text/plain": [
       "{'11': 535, '00': 489}"
      ]
     },
     "execution_count": 5,
     "metadata": {},
     "output_type": "execute_result"
    }
   ],
   "source": [
    "res"
   ]
  },
  {
   "cell_type": "code",
   "execution_count": 6,
   "id": "353ecb2e-b493-40b9-ade4-a968d151949b",
   "metadata": {},
   "outputs": [
    {
     "data": {
      "text/html": [
       "<pre style=\"word-wrap: normal;white-space: pre;background: #fff0;line-height: 1.1;font-family: &quot;Courier New&quot;,Courier,monospace\">        ┌───┐      ░ ┌─┐   \n",
       "   q_0: ┤ H ├──■───░─┤M├───\n",
       "        └───┘┌─┴─┐ ░ └╥┘┌─┐\n",
       "   q_1: ─────┤ X ├─░──╫─┤M├\n",
       "             └───┘ ░  ║ └╥┘\n",
       "meas: 2/══════════════╩══╩═\n",
       "                      0  1 </pre>"
      ],
      "text/plain": [
       "        ┌───┐      ░ ┌─┐   \n",
       "   q_0: ┤ H ├──■───░─┤M├───\n",
       "        └───┘┌─┴─┐ ░ └╥┘┌─┐\n",
       "   q_1: ─────┤ X ├─░──╫─┤M├\n",
       "             └───┘ ░  ║ └╥┘\n",
       "meas: 2/══════════════╩══╩═\n",
       "                      0  1 "
      ]
     },
     "execution_count": 6,
     "metadata": {},
     "output_type": "execute_result"
    }
   ],
   "source": [
    "img"
   ]
  },
  {
   "cell_type": "markdown",
   "id": "c362f979-8e7e-4dc5-8f8b-66055bbb6d56",
   "metadata": {},
   "source": [
    "So what is happening?\n",
    "\n",
    "by default all quibits are in `|0>` so q_1 is always 0\n",
    "when the H gate random decides to be `|0>` then the control bit is not in active state thus no result hence upon measureing both in the same state `|0>`\n",
    "when the H decides to be `|1>` then control bit is activated and thus applies $\\pi$ x axis rotate on the target which is at `|0>` thus making it `|1>` and then all in the same state `|1>`"
   ]
  },
  {
   "cell_type": "code",
   "execution_count": 7,
   "id": "f14a47a7-0f54-4e59-a535-d8994d2585eb",
   "metadata": {},
   "outputs": [
    {
     "data": {
      "image/png": "[encoded data removed]",
      "text/plain": [
       "<Figure size 640x480 with 1 Axes>"
      ]
     },
     "execution_count": 7,
     "metadata": {},
     "output_type": "execute_result"
    }
   ],
   "source": [
    "histogram"
   ]
  },
  {
   "cell_type": "markdown",
   "id": "c639fbd4-61b9-41f6-af6e-48b88c32431d",
   "metadata": {},
   "source": [
    "## Control Y\n",
    "it is doing `Y gate` for the target"
   ]
  },
  {
   "cell_type": "code",
   "execution_count": 8,
   "id": "edd3fca4-da40-4b24-b530-a916cab8aba8",
   "metadata": {},
   "outputs": [],
   "source": [
    "qc = QuantumCircuit(2)\n",
    "qc.h(0)\n",
    "qc.cy(control_qubit=0, target_qubit=1)\n",
    "qc.measure_all() # measure all qubits and send res to classical bits\n",
    "res, img, histogram = execute_circuit(qc)"
   ]
  },
  {
   "cell_type": "code",
   "execution_count": 9,
   "id": "063a2f4c-eaf2-4e94-b03f-db6be9df4e62",
   "metadata": {},
   "outputs": [
    {
     "data": {
      "text/plain": [
       "{'00': 516, '11': 508}"
      ]
     },
     "execution_count": 9,
     "metadata": {},
     "output_type": "execute_result"
    }
   ],
   "source": [
    "res"
   ]
  },
  {
   "cell_type": "code",
   "execution_count": 10,
   "id": "669dfd65-1940-40ef-9b8f-27bcf572786d",
   "metadata": {},
   "outputs": [
    {
     "data": {
      "text/html": [
       "<pre style=\"word-wrap: normal;white-space: pre;background: #fff0;line-height: 1.1;font-family: &quot;Courier New&quot;,Courier,monospace\">        ┌───┐      ░ ┌─┐   \n",
       "   q_0: ┤ H ├──■───░─┤M├───\n",
       "        └───┘┌─┴─┐ ░ └╥┘┌─┐\n",
       "   q_1: ─────┤ Y ├─░──╫─┤M├\n",
       "             └───┘ ░  ║ └╥┘\n",
       "meas: 2/══════════════╩══╩═\n",
       "                      0  1 </pre>"
      ],
      "text/plain": [
       "        ┌───┐      ░ ┌─┐   \n",
       "   q_0: ┤ H ├──■───░─┤M├───\n",
       "        └───┘┌─┴─┐ ░ └╥┘┌─┐\n",
       "   q_1: ─────┤ Y ├─░──╫─┤M├\n",
       "             └───┘ ░  ║ └╥┘\n",
       "meas: 2/══════════════╩══╩═\n",
       "                      0  1 "
      ]
     },
     "execution_count": 10,
     "metadata": {},
     "output_type": "execute_result"
    }
   ],
   "source": [
    "img"
   ]
  },
  {
   "cell_type": "markdown",
   "id": "fa8a3fc5-b3b7-4846-a4b2-6c387b0bb977",
   "metadata": {},
   "source": [
    "So what is happening?\n",
    "\n",
    "by default all quibits are in `|0>` so q_1 is always 0\n",
    "when the H gate random decides to be `|0>` then the control bit is not in active state thus no result hence upon measureing both in the same state `|0>`\n",
    "when the H decides to be `|1>` then control bit is activated and thus applies $\\pi$ y axis rotate on the target which is at `|0>` thus making it `|1>` and then all in the same state `|1>`"
   ]
  },
  {
   "cell_type": "code",
   "execution_count": 11,
   "id": "e3ccefb8-d428-425d-a3dd-2df73b144c5f",
   "metadata": {},
   "outputs": [
    {
     "data": {
      "image/png": "[encoded data removed]",
      "text/plain": [
       "<Figure size 640x480 with 1 Axes>"
      ]
     },
     "execution_count": 11,
     "metadata": {},
     "output_type": "execute_result"
    }
   ],
   "source": [
    "histogram"
   ]
  },
  {
   "cell_type": "markdown",
   "id": "6c477dff-1d71-4e03-b46f-bbf70155a162",
   "metadata": {},
   "source": [
    "## Control Z\n",
    "\n",
    "z gate as target"
   ]
  },
  {
   "cell_type": "code",
   "execution_count": 12,
   "id": "973f0c16-6c75-4936-9a22-e7c84630d373",
   "metadata": {},
   "outputs": [],
   "source": [
    "qc = QuantumCircuit(2)\n",
    "qc.h(0)\n",
    "qc.cz(control_qubit=0, target_qubit=1)\n",
    "qc.measure_all() # measure all qubits and send res to classical bits\n",
    "res, img, histogram = execute_circuit(qc)"
   ]
  },
  {
   "cell_type": "code",
   "execution_count": 13,
   "id": "fa27ac66-50a0-4125-9b52-03fd005349f9",
   "metadata": {},
   "outputs": [
    {
     "data": {
      "text/plain": [
       "{'01': 510, '00': 514}"
      ]
     },
     "execution_count": 13,
     "metadata": {},
     "output_type": "execute_result"
    }
   ],
   "source": [
    "res"
   ]
  },
  {
   "cell_type": "code",
   "execution_count": 14,
   "id": "d91984fd-a019-460e-a68f-13e377b223d6",
   "metadata": {},
   "outputs": [
    {
     "data": {
      "text/html": [
       "<pre style=\"word-wrap: normal;white-space: pre;background: #fff0;line-height: 1.1;font-family: &quot;Courier New&quot;,Courier,monospace\">        ┌───┐    ░ ┌─┐   \n",
       "   q_0: ┤ H ├─■──░─┤M├───\n",
       "        └───┘ │  ░ └╥┘┌─┐\n",
       "   q_1: ──────■──░──╫─┤M├\n",
       "                 ░  ║ └╥┘\n",
       "meas: 2/════════════╩══╩═\n",
       "                    0  1 </pre>"
      ],
      "text/plain": [
       "        ┌───┐    ░ ┌─┐   \n",
       "   q_0: ┤ H ├─■──░─┤M├───\n",
       "        └───┘ │  ░ └╥┘┌─┐\n",
       "   q_1: ──────■──░──╫─┤M├\n",
       "                 ░  ║ └╥┘\n",
       "meas: 2/════════════╩══╩═\n",
       "                    0  1 "
      ]
     },
     "execution_count": 14,
     "metadata": {},
     "output_type": "execute_result"
    }
   ],
   "source": [
    "img"
   ]
  },
  {
   "cell_type": "markdown",
   "id": "06e51350-1737-4475-9ed6-fe7764bc0496",
   "metadata": {},
   "source": [
    "So what is happening?\n",
    "\n",
    "by default all quibits are in `|0>` so q_1 is always 0\n",
    "when the H gate random decides to be `|0>` then the control bit is not in active state thus no result hence upon measureing both in the same state `|0>`\n",
    "when the H decides to be `|1>` then control bit is activated and thus applies $\\pi$ z axis rotate on the target which is at `|0>` which is still `|0>` thus making $q_0$ = `|1>` and $q_1$ = `|0>` "
   ]
  },
  {
   "cell_type": "code",
   "execution_count": 15,
   "id": "01d59e9d-a91c-4250-9cdb-dca92d8a2463",
   "metadata": {},
   "outputs": [
    {
     "data": {
      "image/png": "[encoded data removed]",
      "text/plain": [
       "<Figure size 640x480 with 1 Axes>"
      ]
     },
     "execution_count": 15,
     "metadata": {},
     "output_type": "execute_result"
    }
   ],
   "source": [
    "histogram"
   ]
  },
  {
   "cell_type": "code",
   "execution_count": null,
   "id": "424fa9ab-038f-4f14-95e1-62d9ef7a9170",
   "metadata": {},
   "outputs": [],
   "source": []
  }
 ],
 "metadata": {
  "kernelspec": {
   "display_name": "Python 3 (ipykernel)",
   "language": "python",
   "name": "python3"
  },
  "language_info": {
   "codemirror_mode": {
    "name": "ipython",
    "version": 3
   },
   "file_extension": ".py",
   "mimetype": "text/x-python",
   "name": "python",
   "nbconvert_exporter": "python",
   "pygments_lexer": "ipython3",
   "version": "3.13.1"
  }
 },
 "nbformat": 4,
 "nbformat_minor": 5
}
