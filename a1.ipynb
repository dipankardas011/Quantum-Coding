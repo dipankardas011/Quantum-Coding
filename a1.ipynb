{
 "cells": [
  {
   "cell_type": "markdown",
   "metadata": {},
   "source": [
    "# example of entire workflow QISKIT"
   ]
  },
  {
   "cell_type": "markdown",
   "metadata": {},
   "source": [
    "workflow:\r\n",
    "1. import packages\r\n",
    "2. initializing var\r\n",
    "3. add gates\r\n",
    "4. visualizing the ckt\r\n",
    "5. simulate the experiment\r\n",
    "6. visualize the result"
   ]
  },
  {
   "cell_type": "code",
   "execution_count": 40,
   "metadata": {},
   "outputs": [],
   "source": [
    "\r\n",
    "# QuantumCircuit: can be thought as the instructions of the quantum system. It holds all your quantum operations.\r\n",
    "\r\n",
    "# QasmSimulator: is the Aer high performance circuit simulator.\r\n",
    "\r\n",
    "# plot_histogram: creates histograms.\r\n",
    "import numpy as np\r\n",
    "from qiskit import QuantumCircuit, transpile\r\n",
    "from qiskit.providers.aer import QasmSimulator\r\n",
    "from qiskit.visualization import plot_histogram"
   ]
  },
  {
   "cell_type": "code",
   "execution_count": 41,
   "metadata": {},
   "outputs": [],
   "source": [
    "# initalize var\r\n",
    "# here intialize with 2 quibits in the zero state with 2 classical bits to zero\r\n",
    "circuit=QuantumCircuit(2,2)"
   ]
  },
  {
   "cell_type": "code",
   "execution_count": 42,
   "metadata": {},
   "outputs": [
    {
     "data": {
      "text/html": [
       "<pre style=\"word-wrap: normal;white-space: pre;background: #fff0;line-height: 1.1;font-family: &quot;Courier New&quot;,Courier,monospace\">     ┌───┐     ┌─┐   \n",
       "q_0: ┤ H ├──■──┤M├───\n",
       "     └───┘┌─┴─┐└╥┘┌─┐\n",
       "q_1: ─────┤ X ├─╫─┤M├\n",
       "          └───┘ ║ └╥┘\n",
       "c: 2/═══════════╩══╩═\n",
       "                0  1 </pre>"
      ],
      "text/plain": [
       "     ┌───┐     ┌─┐   \n",
       "q_0: ┤ H ├──■──┤M├───\n",
       "     └───┘┌─┴─┐└╥┘┌─┐\n",
       "q_1: ─────┤ X ├─╫─┤M├\n",
       "          └───┘ ║ └╥┘\n",
       "c: 2/═══════════╩══╩═\n",
       "                0  1 "
      ]
     },
     "execution_count": 42,
     "metadata": {},
     "output_type": "execute_result"
    }
   ],
   "source": [
    "circuit.h(0)\r\n",
    "circuit.cx(0,1)\r\n",
    "circuit.measure([0,1],[0,1])\r\n",
    "# QuantumCircuit.h(0): A Hadamard gate H on qubit 0, which puts it into a superposition state.\r\n",
    "\r\n",
    "# QuantumCircuit.cx(0, 1): A controlled-Not operation (CNOT) on control qubit 0 and target qubit 1, putting the qubits in an entangled state.\r\n",
    "\r\n",
    "# QuantumCircuit.measure([0,1], [0,1]): if you pass the entire quantum and classical registers to measure, the ith qubit’s measurement result will be stored in the ith classical bit.\r\n",
    "circuit.draw()\r\n",
    "# or you could use \r\n",
    "# qiskit.circuit.QuantumCircuit.draw()"
   ]
  },
  {
   "cell_type": "markdown",
   "metadata": {},
   "source": [
    "In this circuit, the qubits are ordered with qubit zero at the top and qubit one at the bottom. The circuit is read left-to-right, meaning that gates which are applied earlier in the circuit show up farther to the left.\r\n",
    "\r\n",
    "The default backend for QuantumCircuit.draw() or qiskit.visualization.circuit_drawer() is the text backend. However, depending on your local environment you may want to change these defaults to something better suited for your use case. This is done with the user config file. By default the user config file should be located in ~/.qiskit/settings.conf and is a .ini file.\r\n",
    "\r\n",
    "For example, a settings.conf file for setting a Matplotlib drawer is:\r\n",
    "\r\n",
    "    [default]\r\n",
    "    circuit_drawer = mpl\r\n",
    "You can use any of the valid circuit drawer backends as the value for this config, this includes text, mpl, latex, and latex_source."
   ]
  },
  {
   "cell_type": "code",
   "execution_count": 43,
   "metadata": {},
   "outputs": [
    {
     "name": "stdout",
     "output_type": "stream",
     "text": [
      "\n",
      "Total count for 00 and 11 are: {'11': 505, '00': 495}\n"
     ]
    }
   ],
   "source": [
    "simulator = QasmSimulator()\r\n",
    "compiled_circuit = transpile(circuit, simulator)\r\n",
    "job = simulator.run(compiled_circuit, shots=1000)\r\n",
    "result = job.result()\r\n",
    "counts = result.get_counts(circuit)\r\n",
    "print(\"\\nTotal count for 00 and 11 are:\",counts)"
   ]
  },
  {
   "cell_type": "code",
   "execution_count": 44,
   "metadata": {},
   "outputs": [
    {
     "data": {
      "image/png": "[encoded data removed]",
      "text/plain": [
       "<Figure size 504x360 with 1 Axes>"
      ]
     },
     "execution_count": 44,
     "metadata": {},
     "output_type": "execute_result"
    }
   ],
   "source": [
    "plot_histogram(counts)"
   ]
  }
 ],
 "metadata": {
  "interpreter": {
   "hash": "53b144c10255056ba138318079d6915f61635f604f049884bb1cb292c1bb44d7"
  },
  "kernelspec": {
   "display_name": "Python 3.8.5 64-bit ('base': conda)",
   "name": "python3"
  },
  "language_info": {
   "codemirror_mode": {
    "name": "ipython",
    "version": 3
   },
   "file_extension": ".py",
   "mimetype": "text/x-python",
   "name": "python",
   "nbconvert_exporter": "python",
   "pygments_lexer": "ipython3",
   "version": "3.8.5"
  },
  "orig_nbformat": 4
 },
 "nbformat": 4,
 "nbformat_minor": 2
}