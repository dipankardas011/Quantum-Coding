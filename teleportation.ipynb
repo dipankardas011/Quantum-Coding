{
 "cells": [
  {
   "cell_type": "code",
   "execution_count": 2,
   "id": "d33b5acc-534d-4f98-8a43-3b6cae7b8332",
   "metadata": {
    "editable": true,
    "slideshow": {
     "slide_type": ""
    },
    "tags": []
   },
   "outputs": [],
   "source": [
    "from qiskit import QuantumCircuit"
   ]
  },
  {
   "cell_type": "code",
   "execution_count": 3,
   "id": "1258fec0-3bd4-4a77-b613-b57efc2ee521",
   "metadata": {},
   "outputs": [],
   "source": [
    "qc = QuantumCircuit(3,3)"
   ]
  },
  {
   "cell_type": "code",
   "execution_count": 4,
   "id": "dc223da2-d725-4a57-823c-4fe8243577a0",
   "metadata": {},
   "outputs": [
    {
     "data": {
      "text/plain": [
       "CircuitInstruction(operation=Instruction(name='barrier', num_qubits=3, num_clbits=0, params=[]), qubits=(Qubit(QuantumRegister(3, 'q'), 0), Qubit(QuantumRegister(3, 'q'), 1), Qubit(QuantumRegister(3, 'q'), 2)), clbits=())"
      ]
     },
     "execution_count": 4,
     "metadata": {},
     "output_type": "execute_result"
    }
   ],
   "source": [
    "qc.x(0)\n",
    "qc.z(0)\n",
    "qc.barrier()"
   ]
  },
  {
   "cell_type": "code",
   "execution_count": 5,
   "id": "1da82f65-dae6-41bc-b11b-f73285cd516e",
   "metadata": {},
   "outputs": [
    {
     "data": {
      "text/html": [
       "<pre style=\"word-wrap: normal;white-space: pre;background: #fff0;line-height: 1.1;font-family: &quot;Courier New&quot;,Courier,monospace\">     ┌───┐┌───┐ ░ \n",
       "q_0: ┤ X ├┤ Z ├─░─\n",
       "     └───┘└───┘ ░ \n",
       "q_1: ───────────░─\n",
       "                ░ \n",
       "q_2: ───────────░─\n",
       "                ░ \n",
       "c: 3/═════════════\n",
       "                  </pre>"
      ],
      "text/plain": [
       "     ┌───┐┌───┐ ░ \n",
       "q_0: ┤ X ├┤ Z ├─░─\n",
       "     └───┘└───┘ ░ \n",
       "q_1: ───────────░─\n",
       "                ░ \n",
       "q_2: ───────────░─\n",
       "                ░ \n",
       "c: 3/═════════════\n",
       "                  "
      ]
     },
     "execution_count": 5,
     "metadata": {},
     "output_type": "execute_result"
    }
   ],
   "source": [
    "qc.draw()"
   ]
  },
  {
   "cell_type": "code",
   "execution_count": 6,
   "id": "a8714d89-9612-4d57-8dfe-1e2f8e8d98d8",
   "metadata": {},
   "outputs": [
    {
     "data": {
      "text/plain": [
       "CircuitInstruction(operation=Instruction(name='barrier', num_qubits=3, num_clbits=0, params=[]), qubits=(Qubit(QuantumRegister(3, 'q'), 0), Qubit(QuantumRegister(3, 'q'), 1), Qubit(QuantumRegister(3, 'q'), 2)), clbits=())"
      ]
     },
     "execution_count": 6,
     "metadata": {},
     "output_type": "execute_result"
    }
   ],
   "source": [
    "qc.h(1)\n",
    "qc.cx(control_qubit=1,target_qubit=2)\n",
    "qc.barrier()"
   ]
  },
  {
   "cell_type": "code",
   "execution_count": 7,
   "id": "94437ed4-efe9-42ae-9531-952178686750",
   "metadata": {},
   "outputs": [
    {
     "data": {
      "text/html": [
       "<pre style=\"word-wrap: normal;white-space: pre;background: #fff0;line-height: 1.1;font-family: &quot;Courier New&quot;,Courier,monospace\">     ┌───┐┌───┐ ░            ░ \n",
       "q_0: ┤ X ├┤ Z ├─░────────────░─\n",
       "     └───┘└───┘ ░ ┌───┐      ░ \n",
       "q_1: ───────────░─┤ H ├──■───░─\n",
       "                ░ └───┘┌─┴─┐ ░ \n",
       "q_2: ───────────░──────┤ X ├─░─\n",
       "                ░      └───┘ ░ \n",
       "c: 3/══════════════════════════\n",
       "                               </pre>"
      ],
      "text/plain": [
       "     ┌───┐┌───┐ ░            ░ \n",
       "q_0: ┤ X ├┤ Z ├─░────────────░─\n",
       "     └───┘└───┘ ░ ┌───┐      ░ \n",
       "q_1: ───────────░─┤ H ├──■───░─\n",
       "                ░ └───┘┌─┴─┐ ░ \n",
       "q_2: ───────────░──────┤ X ├─░─\n",
       "                ░      └───┘ ░ \n",
       "c: 3/══════════════════════════\n",
       "                               "
      ]
     },
     "execution_count": 7,
     "metadata": {},
     "output_type": "execute_result"
    }
   ],
   "source": [
    "qc.draw()"
   ]
  },
  {
   "cell_type": "code",
   "execution_count": 8,
   "id": "0ed18013-397f-4e55-a159-dbddfc6ed3e2",
   "metadata": {},
   "outputs": [
    {
     "data": {
      "text/plain": [
       "CircuitInstruction(operation=Instruction(name='barrier', num_qubits=3, num_clbits=0, params=[]), qubits=(Qubit(QuantumRegister(3, 'q'), 0), Qubit(QuantumRegister(3, 'q'), 1), Qubit(QuantumRegister(3, 'q'), 2)), clbits=())"
      ]
     },
     "execution_count": 8,
     "metadata": {},
     "output_type": "execute_result"
    }
   ],
   "source": [
    "qc.cx(0,1)\n",
    "qc.h(0)\n",
    "qc.measure(0,0)\n",
    "qc.measure(1,1)\n",
    "qc.cx(1,2)\n",
    "qc.barrier()"
   ]
  },
  {
   "cell_type": "code",
   "execution_count": 9,
   "id": "15f5e800-22be-4d8e-921d-ffb66b68d0bd",
   "metadata": {},
   "outputs": [
    {
     "data": {
      "text/html": [
       "<pre style=\"word-wrap: normal;white-space: pre;background: #fff0;line-height: 1.1;font-family: &quot;Courier New&quot;,Courier,monospace\">     ┌───┐┌───┐ ░            ░      ┌───┐┌─┐      ░ \n",
       "q_0: ┤ X ├┤ Z ├─░────────────░───■──┤ H ├┤M├──────░─\n",
       "     └───┘└───┘ ░ ┌───┐      ░ ┌─┴─┐└┬─┬┘└╥┘      ░ \n",
       "q_1: ───────────░─┤ H ├──■───░─┤ X ├─┤M├──╫───■───░─\n",
       "                ░ └───┘┌─┴─┐ ░ └───┘ └╥┘  ║ ┌─┴─┐ ░ \n",
       "q_2: ───────────░──────┤ X ├─░────────╫───╫─┤ X ├─░─\n",
       "                ░      └───┘ ░        ║   ║ └───┘ ░ \n",
       "c: 3/═════════════════════════════════╩═══╩═════════\n",
       "                                      1   0         </pre>"
      ],
      "text/plain": [
       "     ┌───┐┌───┐ ░            ░      ┌───┐┌─┐      ░ \n",
       "q_0: ┤ X ├┤ Z ├─░────────────░───■──┤ H ├┤M├──────░─\n",
       "     └───┘└───┘ ░ ┌───┐      ░ ┌─┴─┐└┬─┬┘└╥┘      ░ \n",
       "q_1: ───────────░─┤ H ├──■───░─┤ X ├─┤M├──╫───■───░─\n",
       "                ░ └───┘┌─┴─┐ ░ └───┘ └╥┘  ║ ┌─┴─┐ ░ \n",
       "q_2: ───────────░──────┤ X ├─░────────╫───╫─┤ X ├─░─\n",
       "                ░      └───┘ ░        ║   ║ └───┘ ░ \n",
       "c: 3/═════════════════════════════════╩═══╩═════════\n",
       "                                      1   0         "
      ]
     },
     "execution_count": 9,
     "metadata": {},
     "output_type": "execute_result"
    }
   ],
   "source": [
    "qc.draw()"
   ]
  },
  {
   "cell_type": "markdown",
   "id": "80ef4c55-d004-4933-b274-7ee5751e4c70",
   "metadata": {},
   "source": [
    "we can verify the results by applying the sames gates to prepare the quibits in the first section but in reverse order"
   ]
  },
  {
   "cell_type": "code",
   "execution_count": 10,
   "id": "4c5d88d9-4c2c-480d-8d51-866e97a39dae",
   "metadata": {},
   "outputs": [
    {
     "data": {
      "text/plain": [
       "<qiskit.circuit.instructionset.InstructionSet at 0x7f57146dd090>"
      ]
     },
     "execution_count": 10,
     "metadata": {},
     "output_type": "execute_result"
    }
   ],
   "source": [
    "qc.z(2)\n",
    "qc.x(2)\n",
    "qc.measure(2,2)"
   ]
  },
  {
   "cell_type": "code",
   "execution_count": 11,
   "id": "0d49a270-be2f-4fbe-a52d-f3a270c3c86a",
   "metadata": {},
   "outputs": [
    {
     "data": {
      "text/html": [
       "<pre style=\"word-wrap: normal;white-space: pre;background: #fff0;line-height: 1.1;font-family: &quot;Courier New&quot;,Courier,monospace\">     ┌───┐┌───┐ ░            ░      ┌───┐┌─┐      ░              \n",
       "q_0: ┤ X ├┤ Z ├─░────────────░───■──┤ H ├┤M├──────░──────────────\n",
       "     └───┘└───┘ ░ ┌───┐      ░ ┌─┴─┐└┬─┬┘└╥┘      ░              \n",
       "q_1: ───────────░─┤ H ├──■───░─┤ X ├─┤M├──╫───■───░──────────────\n",
       "                ░ └───┘┌─┴─┐ ░ └───┘ └╥┘  ║ ┌─┴─┐ ░ ┌───┐┌───┐┌─┐\n",
       "q_2: ───────────░──────┤ X ├─░────────╫───╫─┤ X ├─░─┤ Z ├┤ X ├┤M├\n",
       "                ░      └───┘ ░        ║   ║ └───┘ ░ └───┘└───┘└╥┘\n",
       "c: 3/═════════════════════════════════╩═══╩════════════════════╩═\n",
       "                                      1   0                    2 </pre>"
      ],
      "text/plain": [
       "     ┌───┐┌───┐ ░            ░      ┌───┐┌─┐      ░              \n",
       "q_0: ┤ X ├┤ Z ├─░────────────░───■──┤ H ├┤M├──────░──────────────\n",
       "     └───┘└───┘ ░ ┌───┐      ░ ┌─┴─┐└┬─┬┘└╥┘      ░              \n",
       "q_1: ───────────░─┤ H ├──■───░─┤ X ├─┤M├──╫───■───░──────────────\n",
       "                ░ └───┘┌─┴─┐ ░ └───┘ └╥┘  ║ ┌─┴─┐ ░ ┌───┐┌───┐┌─┐\n",
       "q_2: ───────────░──────┤ X ├─░────────╫───╫─┤ X ├─░─┤ Z ├┤ X ├┤M├\n",
       "                ░      └───┘ ░        ║   ║ └───┘ ░ └───┘└───┘└╥┘\n",
       "c: 3/═════════════════════════════════╩═══╩════════════════════╩═\n",
       "                                      1   0                    2 "
      ]
     },
     "execution_count": 11,
     "metadata": {},
     "output_type": "execute_result"
    }
   ],
   "source": [
    "qc.draw()"
   ]
  },
  {
   "cell_type": "markdown",
   "id": "5ea4175d-fc85-4eb8-b711-af5a5883d991",
   "metadata": {},
   "source": [
    "### What happened above\n",
    "#### first section\n",
    "Alice prepares quibit\n",
    "\n",
    "#### second section\n",
    "entangles 2 qubits where q1 belongs to alice and q2 belongs to bob.\n",
    "\n",
    "#### third section\n",
    "where alice entnagles her prepared qubit q0 with her shared qubit q1 and then make a mesurement of the results of her 2 qubits"
   ]
  },
  {
   "cell_type": "code",
   "execution_count": 16,
   "id": "4933acf7-4280-4cdd-8b1d-083e45c36e35",
   "metadata": {
    "editable": true,
    "slideshow": {
     "slide_type": ""
    },
    "tags": []
   },
   "outputs": [],
   "source": [
    "from qiskit_aer import Aer"
   ]
  },
  {
   "cell_type": "code",
   "execution_count": 17,
   "id": "2ab8c6df-5824-45a0-96a2-d81109c26e1d",
   "metadata": {
    "editable": true,
    "slideshow": {
     "slide_type": ""
    },
    "tags": []
   },
   "outputs": [],
   "source": [
    "from qiskit_aer import AerSimulator\n",
    "\n",
    "# Create simulator\n",
    "simulator = AerSimulator()\n",
    "\n",
    "job = simulator.run(qc, shots=1024)"
   ]
  },
  {
   "cell_type": "code",
   "execution_count": 18,
   "id": "6563afd1-cefd-4184-854f-a2495a2d2ea1",
   "metadata": {},
   "outputs": [],
   "source": [
    "result = job.result()"
   ]
  },
  {
   "cell_type": "code",
   "execution_count": 19,
   "id": "9ef2f385-0a9d-4871-affb-24f49d4a807c",
   "metadata": {},
   "outputs": [
    {
     "data": {
      "text/plain": [
       "{'001': 253, '010': 254, '000': 253, '011': 264}"
      ]
     },
     "execution_count": 19,
     "metadata": {},
     "output_type": "execute_result"
    }
   ],
   "source": [
    "result.get_counts()"
   ]
  },
  {
   "cell_type": "code",
   "execution_count": 20,
   "id": "ccabcd01-5c23-42a9-9925-85f237ad8ce5",
   "metadata": {},
   "outputs": [
    {
     "data": {
      "image/png": "[encoded data removed]",
      "text/plain": [
       "<Figure size 640x480 with 1 Axes>"
      ]
     },
     "execution_count": 20,
     "metadata": {},
     "output_type": "execute_result"
    }
   ],
   "source": [
    "from qiskit.visualization import plot_histogram\n",
    "plot_histogram(result.get_counts())"
   ]
  },
  {
   "cell_type": "code",
   "execution_count": null,
   "id": "d365a493-4e7b-48bf-b715-f01a3fe8e532",
   "metadata": {},
   "outputs": [],
   "source": []
  }
 ],
 "metadata": {
  "kernelspec": {
   "display_name": "Python 3 (ipykernel)",
   "language": "python",
   "name": "python3"
  },
  "language_info": {
   "codemirror_mode": {
    "name": "ipython",
    "version": 3
   },
   "file_extension": ".py",
   "mimetype": "text/x-python",
   "name": "python",
   "nbconvert_exporter": "python",
   "pygments_lexer": "ipython3",
   "version": "3.13.1"
  }
 },
 "nbformat": 4,
 "nbformat_minor": 5
}
