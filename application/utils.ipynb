{
 "cells": [
  {
   "metadata": {
    "ExecuteTime": {
     "end_time": "2025-05-07T18:12:57.363493Z",
     "start_time": "2025-05-07T18:12:57.356416Z"
    }
   },
   "cell_type": "code",
   "source": [
    "from qiskit.quantum_info import random_unitary\n",
    "# A random 2×2 unitary (single‑qubit)\n",
    "U = random_unitary(2, seed=123)\n",
    "# A random 4×4 unitary (two qubits)\n",
    "U2 = random_unitary((2, 2))"
   ],
   "id": "deea237d104b2a42",
   "outputs": [],
   "execution_count": 5
  },
  {
   "metadata": {
    "ExecuteTime": {
     "end_time": "2025-05-07T18:13:00.890279Z",
     "start_time": "2025-05-07T18:13:00.823402Z"
    }
   },
   "cell_type": "code",
   "source": "U",
   "id": "6dd0ffac82ede835",
   "outputs": [
    {
     "name": "stdout",
     "output_type": "stream",
     "text": [
      "Operator([[-0.5015674 +0.46663417j, -0.03382556+0.72769398j],\n",
      "          [ 0.65308601-0.32274039j, -0.22639603+0.64657725j]],\n",
      "         input_dims=(2,), output_dims=(2,))\n"
     ]
    }
   ],
   "execution_count": 6
  },
  {
   "metadata": {
    "ExecuteTime": {
     "end_time": "2025-05-07T18:13:05.429108Z",
     "start_time": "2025-05-07T18:13:05.419908Z"
    }
   },
   "cell_type": "code",
   "source": "U2",
   "id": "b301ce913be713ff",
   "outputs": [
    {
     "name": "stdout",
     "output_type": "stream",
     "text": [
      "Operator([[-0.50140462-0.5147442j ,  0.54038222-0.02292603j,\n",
      "            0.14442106-0.05260275j, -0.36107454+0.19259791j],\n",
      "          [-0.12772868+0.17113862j,  0.44861233+0.53657592j,\n",
      "           -0.04933623-0.35543087j,  0.57822934-0.04599878j],\n",
      "          [-0.24047742+0.02600389j, -0.11631177+0.31194837j,\n",
      "           -0.85396938+0.20927088j, -0.19292602+0.14274364j],\n",
      "          [-0.56086791+0.25485362j, -0.2300424 +0.23352728j,\n",
      "            0.2488538 +0.11235716j, -0.1975323 -0.63202133j]],\n",
      "         input_dims=(2, 2), output_dims=(2, 2))\n"
     ]
    }
   ],
   "execution_count": 7
  },
  {
   "metadata": {
    "ExecuteTime": {
     "end_time": "2025-05-07T18:13:48.732340Z",
     "start_time": "2025-05-07T18:13:48.715697Z"
    }
   },
   "cell_type": "code",
   "source": [
    "from qiskit.circuit.random import random_circuit\n",
    "\n",
    "# Arguments:\n",
    "#  - num_qubits:     how many qubit wires\n",
    "#  - depth:          number of layers (critical‐path length)\n",
    "#  - max_operands:   max qubits a gate can act on (1–3)\n",
    "#  - measure:        if True, append measurement on all qubits at end\n",
    "#  - conditional:    if True, insert mid‐circuit measurements + conditional ops\n",
    "#  - reset:          if True, allow mid‐circuit resets\n",
    "#  - seed:           integer seed for reproducibility\n",
    "circ = random_circuit(3, 5, max_operands=2, measure=True, seed=42)\n",
    "print(circ.draw())\n"
   ],
   "id": "edd8bd52e698204e",
   "outputs": [
    {
     "name": "stdout",
     "output_type": "stream",
     "text": [
      "     ┌────────────────────────┐┌──────────────────────────┐              »\n",
      "q_0: ┤0                       ├┤ U(1.4278,3.4846,0.40098) ├──────■───────»\n",
      "     │                        │└─────────┬─────┬──────────┘┌─────┴──────┐»\n",
      "q_1: ┤  (XX-YY)(4.7824,4.939) ├──────────┤ Sdg ├───────────┤ Rz(6.0991) ├»\n",
      "     │                        │┌─────────┴─────┴──────────┐└────────────┘»\n",
      "q_2: ┤1                       ├┤ U3(4.0455,5.1696,2.7861) ├──────────────»\n",
      "     └────────────────────────┘└──────────────────────────┘              »\n",
      "c: 3/════════════════════════════════════════════════════════════════════»\n",
      "                                                                         »\n",
      "«      ┌─────────────┐      ┌─┐      \n",
      "«q_0: ─┤ Rx(0.96943) ├───X──┤M├──────\n",
      "«     ┌┴─────────────┴┐  │  └╥┘┌─┐   \n",
      "«q_1: ┤0              ├──X───╫─┤M├───\n",
      "«     │  Rxx(0.27523) │┌───┐ ║ └╥┘┌─┐\n",
      "«q_2: ┤1              ├┤ T ├─╫──╫─┤M├\n",
      "«     └───────────────┘└───┘ ║  ║ └╥┘\n",
      "«c: 3/═══════════════════════╩══╩══╩═\n",
      "«                            0  1  2 \n"
     ]
    }
   ],
   "execution_count": 8
  },
  {
   "metadata": {
    "ExecuteTime": {
     "end_time": "2025-05-07T18:14:40.909298Z",
     "start_time": "2025-05-07T18:14:40.895851Z"
    }
   },
   "cell_type": "code",
   "source": [
    "from qiskit import QuantumCircuit\n",
    "from typing import List, Union\n",
    "\n",
    "def summarize_circuits(circuits: Union[QuantumCircuit, List[QuantumCircuit]]):\n",
    "    if isinstance(circuits, QuantumCircuit):\n",
    "        circuits = [circuits]\n",
    "\n",
    "    print(f\"{'Circuit':<10} {'Qubits':<7} {'Clbits':<7} {'Depth':<6} {'Ops':<5} {'Gate counts'}\")\n",
    "    print(\"-\" * 60)\n",
    "    for i, circ in enumerate(circuits):\n",
    "        qc = circ\n",
    "        gate_counts = qc.count_ops()\n",
    "        gate_str = ', '.join(f\"{k}:{v}\" for k, v in gate_counts.items())\n",
    "        print(f\"{i:<10} {qc.num_qubits:<7} {qc.num_clbits:<7} {qc.depth():<6} {qc.size():<5} {gate_str}\")\n"
   ],
   "id": "e383de3ed265536c",
   "outputs": [],
   "execution_count": 9
  },
  {
   "metadata": {
    "ExecuteTime": {
     "end_time": "2025-05-07T18:14:47.524730Z",
     "start_time": "2025-05-07T18:14:47.513051Z"
    }
   },
   "cell_type": "code",
   "source": [
    "from qiskit.circuit.random import random_circuit\n",
    "\n",
    "qc1 = random_circuit(3, 5, seed=1)\n",
    "qc2 = random_circuit(4, 6, seed=2)\n",
    "\n",
    "summarize_circuits([qc1, qc2])\n"
   ],
   "id": "66ce81dbf84f5be3",
   "outputs": [
    {
     "name": "stdout",
     "output_type": "stream",
     "text": [
      "Circuit    Qubits  Clbits  Depth  Ops   Gate counts\n",
      "------------------------------------------------------------\n",
      "0          3       0       5      6     ccx:2, cswap:1, u2:1, cz:1, rccx:1\n",
      "1          4       0       6      8     c3sx:3, rccx:1, y:1, crx:1, cp:1, ccz:1\n"
     ]
    }
   ],
   "execution_count": 10
  },
  {
   "metadata": {},
   "cell_type": "code",
   "outputs": [],
   "execution_count": null,
   "source": "",
   "id": "279f10ceda4a3fa7"
  }
 ],
 "metadata": {
  "kernelspec": {
   "display_name": "Python 3",
   "language": "python",
   "name": "python3"
  },
  "language_info": {
   "codemirror_mode": {
    "name": "ipython",
    "version": 2
   },
   "file_extension": ".py",
   "mimetype": "text/x-python",
   "name": "python",
   "nbconvert_exporter": "python",
   "pygments_lexer": "ipython2",
   "version": "2.7.6"
  }
 },
 "nbformat": 4,
 "nbformat_minor": 5
}
