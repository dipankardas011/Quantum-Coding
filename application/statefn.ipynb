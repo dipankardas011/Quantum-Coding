{
 "cells": [
  {
   "metadata": {},
   "cell_type": "markdown",
   "source": "Alternative to CircuitStatefn",
   "id": "8c2bd9219455e880"
  },
  {
   "cell_type": "code",
   "id": "initial_id",
   "metadata": {
    "collapsed": true,
    "ExecuteTime": {
     "end_time": "2025-05-07T17:39:04.505895Z",
     "start_time": "2025-05-07T17:39:04.500182Z"
    }
   },
   "source": [
    "from qiskit.quantum_info import Statevector\n",
    "import qiskit"
   ],
   "outputs": [],
   "execution_count": 4
  },
  {
   "metadata": {
    "ExecuteTime": {
     "end_time": "2025-05-07T17:48:43.614191Z",
     "start_time": "2025-05-07T17:48:43.597554Z"
    }
   },
   "cell_type": "code",
   "source": [
    "qc = qiskit.QuantumCircuit(2)\n",
    "qc.h(0)\n",
    "qc.cx(0,1)\n",
    "qc.draw()"
   ],
   "id": "91e13d1fea0a5e17",
   "outputs": [
    {
     "data": {
      "text/plain": [
       "     ┌───┐     \n",
       "q_0: ┤ H ├──■──\n",
       "     └───┘┌─┴─┐\n",
       "q_1: ─────┤ X ├\n",
       "          └───┘"
      ],
      "text/html": [
       "<pre style=\"word-wrap: normal;white-space: pre;background: #fff0;line-height: 1.1;font-family: &quot;Courier New&quot;,Courier,monospace\">     ┌───┐     \n",
       "q_0: ┤ H ├──■──\n",
       "     └───┘┌─┴─┐\n",
       "q_1: ─────┤ X ├\n",
       "          └───┘</pre>"
      ]
     },
     "execution_count": 20,
     "metadata": {},
     "output_type": "execute_result"
    }
   ],
   "execution_count": 20
  },
  {
   "metadata": {
    "ExecuteTime": {
     "end_time": "2025-05-07T18:01:46.871001Z",
     "start_time": "2025-05-07T18:01:46.862932Z"
    }
   },
   "cell_type": "code",
   "source": [
    "csf = Statevector(qc)\n",
    "print(csf)"
   ],
   "id": "1fd80ad53441d2a1",
   "outputs": [
    {
     "name": "stdout",
     "output_type": "stream",
     "text": [
      "Statevector([0.70710678+0.j, 0.        +0.j, 0.        +0.j,\n",
      "             0.70710678+0.j],\n",
      "            dims=(2, 2))\n"
     ]
    }
   ],
   "execution_count": 48
  },
  {
   "metadata": {
    "ExecuteTime": {
     "end_time": "2025-05-07T18:01:51.970362Z",
     "start_time": "2025-05-07T18:01:51.962543Z"
    }
   },
   "cell_type": "code",
   "source": [
    "qc2 = qiskit.QuantumCircuit(2)\n",
    "qc2.h(0)\n",
    "qc2.cx(0, 1)\n",
    "\n",
    "csf2 = Statevector(qc2)\n"
   ],
   "id": "deacab6c4c2a2983",
   "outputs": [],
   "execution_count": 49
  },
  {
   "metadata": {
    "ExecuteTime": {
     "end_time": "2025-05-07T18:02:04.023917Z",
     "start_time": "2025-05-07T18:02:04.012651Z"
    }
   },
   "cell_type": "code",
   "source": "csf.__eq__(csf2)",
   "id": "6a3c64c5afabfd55",
   "outputs": [
    {
     "data": {
      "text/plain": [
       "True"
      ]
     },
     "execution_count": 51,
     "metadata": {},
     "output_type": "execute_result"
    }
   ],
   "execution_count": 51
  },
  {
   "metadata": {
    "ExecuteTime": {
     "end_time": "2025-05-07T18:03:07.310137Z",
     "start_time": "2025-05-07T18:03:07.303885Z"
    }
   },
   "cell_type": "code",
   "source": "xy = csf._add(csf2)",
   "id": "d5c11e54c8f75ca",
   "outputs": [],
   "execution_count": 52
  },
  {
   "metadata": {
    "ExecuteTime": {
     "end_time": "2025-05-07T18:03:10.211007Z",
     "start_time": "2025-05-07T18:03:10.203059Z"
    }
   },
   "cell_type": "code",
   "source": "print(xy.draw())",
   "id": "21012df40e669106",
   "outputs": [
    {
     "name": "stdout",
     "output_type": "stream",
     "text": [
      "Statevector([1.41421356+0.j, 0.        +0.j, 0.        +0.j,\n",
      "             1.41421356+0.j],\n",
      "            dims=(2, 2))\n"
     ]
    }
   ],
   "execution_count": 53
  },
  {
   "metadata": {
    "ExecuteTime": {
     "end_time": "2025-05-07T18:03:16.751222Z",
     "start_time": "2025-05-07T18:03:16.737902Z"
    }
   },
   "cell_type": "code",
   "source": [
    "qc3 = qiskit.QuantumCircuit(2)\n",
    "qc3.h(0)\n",
    "qc3.cx(1,0)\n",
    "\n",
    "qc3.draw()"
   ],
   "id": "9d2d863baa7e2ac3",
   "outputs": [
    {
     "data": {
      "text/plain": [
       "     ┌───┐┌───┐\n",
       "q_0: ┤ H ├┤ X ├\n",
       "     └───┘└─┬─┘\n",
       "q_1: ───────■──\n",
       "               "
      ],
      "text/html": [
       "<pre style=\"word-wrap: normal;white-space: pre;background: #fff0;line-height: 1.1;font-family: &quot;Courier New&quot;,Courier,monospace\">     ┌───┐┌───┐\n",
       "q_0: ┤ H ├┤ X ├\n",
       "     └───┘└─┬─┘\n",
       "q_1: ───────■──\n",
       "               </pre>"
      ]
     },
     "execution_count": 54,
     "metadata": {},
     "output_type": "execute_result"
    }
   ],
   "execution_count": 54
  },
  {
   "metadata": {
    "ExecuteTime": {
     "end_time": "2025-05-07T18:03:22.915640Z",
     "start_time": "2025-05-07T18:03:22.908647Z"
    }
   },
   "cell_type": "code",
   "source": "z = Statevector(qc3)",
   "id": "553f93e7e717102b",
   "outputs": [],
   "execution_count": 55
  },
  {
   "metadata": {
    "ExecuteTime": {
     "end_time": "2025-05-07T18:03:31.145597Z",
     "start_time": "2025-05-07T18:03:31.139535Z"
    }
   },
   "cell_type": "code",
   "source": "xyz = xy._add(z)",
   "id": "bec84c06d45dde9d",
   "outputs": [],
   "execution_count": 57
  },
  {
   "metadata": {
    "ExecuteTime": {
     "end_time": "2025-05-07T18:03:33.181765Z",
     "start_time": "2025-05-07T18:03:33.174766Z"
    }
   },
   "cell_type": "code",
   "source": "print(xyz.draw())",
   "id": "59a5611cea985556",
   "outputs": [
    {
     "name": "stdout",
     "output_type": "stream",
     "text": [
      "Statevector([2.12132034+0.j, 0.70710678+0.j, 0.        +0.j,\n",
      "             1.41421356+0.j],\n",
      "            dims=(2, 2))\n"
     ]
    }
   ],
   "execution_count": 58
  },
  {
   "metadata": {},
   "cell_type": "code",
   "outputs": [],
   "execution_count": null,
   "source": "",
   "id": "d6403333e1dbcf7d"
  }
 ],
 "metadata": {
  "kernelspec": {
   "display_name": "Python 3",
   "language": "python",
   "name": "python3"
  },
  "language_info": {
   "codemirror_mode": {
    "name": "ipython",
    "version": 2
   },
   "file_extension": ".py",
   "mimetype": "text/x-python",
   "name": "python",
   "nbconvert_exporter": "python",
   "pygments_lexer": "ipython2",
   "version": "2.7.6"
  }
 },
 "nbformat": 4,
 "nbformat_minor": 5
}
