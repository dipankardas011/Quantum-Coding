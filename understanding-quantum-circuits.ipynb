{
 "cells": [
  {
   "cell_type": "markdown",
   "id": "ffcc7868-ed1b-4366-a9f7-4482526b5374",
   "metadata": {},
   "source": [
    "## how to combine quantum circuits"
   ]
  },
  {
   "cell_type": "code",
   "execution_count": 16,
   "id": "432b0686-b8af-40fd-bf63-31152d68170c",
   "metadata": {},
   "outputs": [
    {
     "data": {
      "text/html": [
       "<pre style=\"word-wrap: normal;white-space: pre;background: #fff0;line-height: 1.1;font-family: &quot;Courier New&quot;,Courier,monospace\">       \n",
       "qr1_0: \n",
       "       \n",
       "qr1_1: \n",
       "       \n",
       "qr2_0: \n",
       "       \n",
       "qr2_1: \n",
       "       \n",
       "cr1: 2/\n",
       "       \n",
       "cr2: 2/\n",
       "       </pre>"
      ],
      "text/plain": [
       "       \n",
       "qr1_0: \n",
       "       \n",
       "qr1_1: \n",
       "       \n",
       "qr2_0: \n",
       "       \n",
       "qr2_1: \n",
       "       \n",
       "cr1: 2/\n",
       "       \n",
       "cr2: 2/\n",
       "       "
      ]
     },
     "execution_count": 16,
     "metadata": {},
     "output_type": "execute_result"
    }
   ],
   "source": [
    "from qiskit import QuantumCircuit, QuantumRegister, ClassicalRegister\n",
    "\n",
    "# Define registers for qc1 and qc2\n",
    "qr1 = QuantumRegister(2, 'qr1')\n",
    "cr1 = ClassicalRegister(2, 'cr1')\n",
    "qr2 = QuantumRegister(2, 'qr2')\n",
    "cr2 = ClassicalRegister(2, 'cr2')\n",
    "\n",
    "# Create the original circuits (for demonstration)\n",
    "qc1 = QuantumCircuit(qr1, cr1)\n",
    "qc2 = QuantumCircuit(qr2, cr2)\n",
    "\n",
    "# Create a new circuit containing all registers\n",
    "combined = QuantumCircuit(qr1, qr2, cr1, cr2)\n",
    "\n",
    "# Compose qc1 into combined using its corresponding registers\n",
    "combined.compose(qc1, qubits=[qr1[0], qr1[1]], clbits=[cr1[0], cr1[1]], inplace=True)\n",
    "\n",
    "# Compose qc2 into combined using its corresponding registers\n",
    "combined.compose(qc2, qubits=[qr2[0], qr2[1]], clbits=[cr2[0], cr2[1]], inplace=True)\n",
    "\n",
    "# Draw the combined circuit\n",
    "combined.draw()\n"
   ]
  },
  {
   "cell_type": "markdown",
   "id": "46d216a0-550b-4b0c-97e3-51da2513d67b",
   "metadata": {},
   "source": [
    "## how to make random circuits"
   ]
  },
  {
   "cell_type": "code",
   "execution_count": 17,
   "id": "17e3fc5a-c2f8-4819-bcfa-f782c23b6fc7",
   "metadata": {},
   "outputs": [
    {
     "data": {
      "text/html": [
       "<pre style=\"word-wrap: normal;white-space: pre;background: #fff0;line-height: 1.1;font-family: &quot;Courier New&quot;,Courier,monospace\">                                                              ┌───┐┌─┐   \n",
       "q_0: ─────────────■───────────────────────────────────────────┤ S ├┤M├───\n",
       "                  │               ┌──────────────────────────┐└─┬─┘└╥┘┌─┐\n",
       "q_1: ─────────────┼───────────────┤ U(5.3371,4.6868,0.54704) ├──■───╫─┤M├\n",
       "     ┌────────────┴─────────────┐┌┴──────────────────────────┤ ┌─┐  ║ └╥┘\n",
       "q_2: ┤ U3(1.9979,5.2733,2.4327) ├┤ U3(4.4106,0.94893,1.2008) ├─┤M├──╫──╫─\n",
       "     └──────────────────────────┘└───────────────────────────┘ └╥┘  ║  ║ \n",
       "c: 3/═══════════════════════════════════════════════════════════╩═══╩══╩═\n",
       "                                                                2   0  1 </pre>"
      ],
      "text/plain": [
       "                                                              ┌───┐┌─┐   \n",
       "q_0: ─────────────■───────────────────────────────────────────┤ S ├┤M├───\n",
       "                  │               ┌──────────────────────────┐└─┬─┘└╥┘┌─┐\n",
       "q_1: ─────────────┼───────────────┤ U(5.3371,4.6868,0.54704) ├──■───╫─┤M├\n",
       "     ┌────────────┴─────────────┐┌┴──────────────────────────┤ ┌─┐  ║ └╥┘\n",
       "q_2: ┤ U3(1.9979,5.2733,2.4327) ├┤ U3(4.4106,0.94893,1.2008) ├─┤M├──╫──╫─\n",
       "     └──────────────────────────┘└───────────────────────────┘ └╥┘  ║  ║ \n",
       "c: 3/═══════════════════════════════════════════════════════════╩═══╩══╩═\n",
       "                                                                2   0  1 "
      ]
     },
     "execution_count": 17,
     "metadata": {},
     "output_type": "execute_result"
    }
   ],
   "source": [
    "from qiskit.circuit.random import random_circuit\n",
    "\n",
    "# no of quibits, depth of operations\n",
    "qc = random_circuit(num_qubits=3, depth=2, measure=True)\n",
    "qc.draw()"
   ]
  },
  {
   "cell_type": "code",
   "execution_count": 18,
   "id": "f730cfb5-68d1-4f0a-b9b9-671cd92ce87b",
   "metadata": {},
   "outputs": [
    {
     "data": {
      "text/html": [
       "<pre style=\"word-wrap: normal;white-space: pre;background: #fff0;line-height: 1.1;font-family: &quot;Courier New&quot;,Courier,monospace\">     ┌───┐┌───────┐┌─┐      \n",
       "q_0: ┤ X ├┤1      ├┤M├──────\n",
       "     └─┬─┘│       │└╥┘┌─┐   \n",
       "q_1: ──■──┤0 Rccx ├─╫─┤M├───\n",
       "       │  │       │ ║ └╥┘┌─┐\n",
       "q_2: ──■──┤2      ├─╫──╫─┤M├\n",
       "          └───────┘ ║  ║ └╥┘\n",
       "c: 3/═══════════════╩══╩══╩═\n",
       "                    0  1  2 </pre>"
      ],
      "text/plain": [
       "     ┌───┐┌───────┐┌─┐      \n",
       "q_0: ┤ X ├┤1      ├┤M├──────\n",
       "     └─┬─┘│       │└╥┘┌─┐   \n",
       "q_1: ──■──┤0 Rccx ├─╫─┤M├───\n",
       "       │  │       │ ║ └╥┘┌─┐\n",
       "q_2: ──■──┤2      ├─╫──╫─┤M├\n",
       "          └───────┘ ║  ║ └╥┘\n",
       "c: 3/═══════════════╩══╩══╩═\n",
       "                    0  1  2 "
      ]
     },
     "execution_count": 18,
     "metadata": {},
     "output_type": "execute_result"
    }
   ],
   "source": [
    "# no of quibits, depth of operations\n",
    "qc = random_circuit(num_qubits=3, depth=2, measure=True)\n",
    "qc.draw()"
   ]
  },
  {
   "cell_type": "markdown",
   "id": "ed406e0f-9bbf-4e5d-be5f-068aa1ca39c9",
   "metadata": {},
   "source": [
    "## Circuit properties"
   ]
  },
  {
   "cell_type": "code",
   "execution_count": 19,
   "id": "e728df81-ac7c-4d0e-87d2-1d2512b2d65c",
   "metadata": {},
   "outputs": [],
   "source": [
    "def print_circuit_props(qc):\n",
    "    print('Width= ',qc.width()) # Return number of qubits plus clbits in circuit.\n",
    "    print('Depth= ', qc.depth()) # Return circuit depth (i.e., length of critical path). The depth of a quantum circuit is a measure of how many \"layers\" of quantum gates, executed in parallel, it takes to complete the computation defined by the circuit.  Because quantum gates take time to implement, the depth of a circuit roughly corresponds to the amount of time it takes the quantum computer to execute the circuit.\n",
    "    print('No of Operation= ', qc.count_ops())\n",
    "    print('Circuit size= ', qc.size()) # Returns total number of instructions in circuit."
   ]
  },
  {
   "cell_type": "code",
   "execution_count": 20,
   "id": "264c91c9-aadd-432c-91a4-0a29c417cff3",
   "metadata": {},
   "outputs": [
    {
     "name": "stdout",
     "output_type": "stream",
     "text": [
      "Width=  6\n",
      "Depth=  3\n",
      "No of Operation=  OrderedDict({'measure': 3, 'ccx': 1, 'rccx': 1})\n",
      "Circuit size=  5\n"
     ]
    }
   ],
   "source": [
    "print_circuit_props(qc)"
   ]
  },
  {
   "cell_type": "code",
   "execution_count": 21,
   "id": "2d1eac32-614a-496c-8913-d340ed7e918d",
   "metadata": {},
   "outputs": [
    {
     "data": {
      "text/html": [
       "<pre style=\"word-wrap: normal;white-space: pre;background: #fff0;line-height: 1.1;font-family: &quot;Courier New&quot;,Courier,monospace\">        ┌───┐┌───────┐┌─┐       ░ ┌─┐      \n",
       "   q_0: ┤ X ├┤1      ├┤M├───────░─┤M├──────\n",
       "        └─┬─┘│       │└╥┘┌─┐    ░ └╥┘┌─┐   \n",
       "   q_1: ──■──┤0 Rccx ├─╫─┤M├────░──╫─┤M├───\n",
       "          │  │       │ ║ └╥┘┌─┐ ░  ║ └╥┘┌─┐\n",
       "   q_2: ──■──┤2      ├─╫──╫─┤M├─░──╫──╫─┤M├\n",
       "             └───────┘ ║  ║ └╥┘ ░  ║  ║ └╥┘\n",
       "   c: 3/═══════════════╩══╩══╩═════╬══╬══╬═\n",
       "                       0  1  2     ║  ║  ║ \n",
       "meas: 3/═══════════════════════════╩══╩══╩═\n",
       "                                   0  1  2 </pre>"
      ],
      "text/plain": [
       "        ┌───┐┌───────┐┌─┐       ░ ┌─┐      \n",
       "   q_0: ┤ X ├┤1      ├┤M├───────░─┤M├──────\n",
       "        └─┬─┘│       │└╥┘┌─┐    ░ └╥┘┌─┐   \n",
       "   q_1: ──■──┤0 Rccx ├─╫─┤M├────░──╫─┤M├───\n",
       "          │  │       │ ║ └╥┘┌─┐ ░  ║ └╥┘┌─┐\n",
       "   q_2: ──■──┤2      ├─╫──╫─┤M├─░──╫──╫─┤M├\n",
       "             └───────┘ ║  ║ └╥┘ ░  ║  ║ └╥┘\n",
       "   c: 3/═══════════════╩══╩══╩═════╬══╬══╬═\n",
       "                       0  1  2     ║  ║  ║ \n",
       "meas: 3/═══════════════════════════╩══╩══╩═\n",
       "                                   0  1  2 "
      ]
     },
     "execution_count": 21,
     "metadata": {},
     "output_type": "execute_result"
    }
   ],
   "source": [
    "qc.measure_all()\n",
    "qc.draw()"
   ]
  },
  {
   "cell_type": "code",
   "execution_count": 22,
   "id": "511ab6bd-7ef6-45bd-90ab-6cd54e7a3540",
   "metadata": {},
   "outputs": [
    {
     "name": "stdout",
     "output_type": "stream",
     "text": [
      "Width=  9\n",
      "Depth=  4\n",
      "No of Operation=  OrderedDict({'measure': 6, 'ccx': 1, 'rccx': 1, 'barrier': 1})\n",
      "Circuit size=  8\n"
     ]
    }
   ],
   "source": [
    "print_circuit_props(qc)"
   ]
  },
  {
   "cell_type": "markdown",
   "id": "f41356ce-73fc-4165-b422-ff48739bdc7d",
   "metadata": {},
   "source": [
    "### Some of the gates are composed of many basis gates"
   ]
  },
  {
   "cell_type": "code",
   "execution_count": 23,
   "id": "955479ea-0ef9-4a1d-8817-be6d2bda677a",
   "metadata": {},
   "outputs": [],
   "source": [
    "qc = QuantumCircuit(3)"
   ]
  },
  {
   "cell_type": "code",
   "execution_count": 24,
   "id": "37fd322d-1c2a-470a-a463-fd393b735bb0",
   "metadata": {},
   "outputs": [
    {
     "data": {
      "text/html": [
       "<pre style=\"word-wrap: normal;white-space: pre;background: #fff0;line-height: 1.1;font-family: &quot;Courier New&quot;,Courier,monospace\">          \n",
       "q_0: ──■──\n",
       "       │  \n",
       "q_1: ──■──\n",
       "     ┌─┴─┐\n",
       "q_2: ┤ X ├\n",
       "     └───┘</pre>"
      ],
      "text/plain": [
       "          \n",
       "q_0: ──■──\n",
       "       │  \n",
       "q_1: ──■──\n",
       "     ┌─┴─┐\n",
       "q_2: ┤ X ├\n",
       "     └───┘"
      ]
     },
     "execution_count": 24,
     "metadata": {},
     "output_type": "execute_result"
    }
   ],
   "source": [
    "qc.ccx(0,1,2)\n",
    "qc.draw()"
   ]
  },
  {
   "cell_type": "code",
   "execution_count": 25,
   "id": "0fe813b1-da03-4e73-9e83-035373c3b089",
   "metadata": {},
   "outputs": [
    {
     "name": "stdout",
     "output_type": "stream",
     "text": [
      "Width=  3\n",
      "Depth=  1\n",
      "No of Operation=  OrderedDict({'ccx': 1})\n",
      "Circuit size=  1\n"
     ]
    }
   ],
   "source": [
    "print_circuit_props(qc)"
   ]
  },
  {
   "cell_type": "code",
   "execution_count": 27,
   "id": "7fb28d71-2390-4834-bed4-d2bcd5d597e0",
   "metadata": {},
   "outputs": [
    {
     "data": {
      "text/html": [
       "<pre style=\"word-wrap: normal;white-space: pre;background: #fff0;line-height: 1.1;font-family: &quot;Courier New&quot;,Courier,monospace\">                                                       ┌───┐      \n",
       "q_0: ───────────────────■─────────────────────■────■───┤ T ├───■──\n",
       "                        │             ┌───┐   │  ┌─┴─┐┌┴───┴┐┌─┴─┐\n",
       "q_1: ───────■───────────┼─────────■───┤ T ├───┼──┤ X ├┤ Tdg ├┤ X ├\n",
       "     ┌───┐┌─┴─┐┌─────┐┌─┴─┐┌───┐┌─┴─┐┌┴───┴┐┌─┴─┐├───┤└┬───┬┘└───┘\n",
       "q_2: ┤ H ├┤ X ├┤ Tdg ├┤ X ├┤ T ├┤ X ├┤ Tdg ├┤ X ├┤ T ├─┤ H ├──────\n",
       "     └───┘└───┘└─────┘└───┘└───┘└───┘└─────┘└───┘└───┘ └───┘      </pre>"
      ],
      "text/plain": [
       "                                                       ┌───┐      \n",
       "q_0: ───────────────────■─────────────────────■────■───┤ T ├───■──\n",
       "                        │             ┌───┐   │  ┌─┴─┐┌┴───┴┐┌─┴─┐\n",
       "q_1: ───────■───────────┼─────────■───┤ T ├───┼──┤ X ├┤ Tdg ├┤ X ├\n",
       "     ┌───┐┌─┴─┐┌─────┐┌─┴─┐┌───┐┌─┴─┐┌┴───┴┐┌─┴─┐├───┤└┬───┬┘└───┘\n",
       "q_2: ┤ H ├┤ X ├┤ Tdg ├┤ X ├┤ T ├┤ X ├┤ Tdg ├┤ X ├┤ T ├─┤ H ├──────\n",
       "     └───┘└───┘└─────┘└───┘└───┘└───┘└─────┘└───┘└───┘ └───┘      "
      ]
     },
     "execution_count": 27,
     "metadata": {},
     "output_type": "execute_result"
    }
   ],
   "source": [
    "qc.decompose().draw()"
   ]
  },
  {
   "cell_type": "code",
   "execution_count": 28,
   "id": "3f9e619d-b0e3-4e2a-a77a-7c5a610102d6",
   "metadata": {},
   "outputs": [
    {
     "name": "stdout",
     "output_type": "stream",
     "text": [
      "Width=  3\n",
      "Depth=  11\n",
      "No of Operation=  OrderedDict({'cx': 6, 't': 4, 'tdg': 3, 'h': 2})\n",
      "Circuit size=  15\n"
     ]
    }
   ],
   "source": [
    "print_circuit_props(qc.decompose())"
   ]
  },
  {
   "cell_type": "code",
   "execution_count": 29,
   "id": "dd818d75-df24-4a8f-87a9-bc5416461fe8",
   "metadata": {},
   "outputs": [
    {
     "data": {
      "text/html": [
       "<pre style=\"word-wrap: normal;white-space: pre;background: #fff0;line-height: 1.1;font-family: &quot;Courier New&quot;,Courier,monospace\">             \n",
       "q_0: ──────X─\n",
       "     ┌───┐ │ \n",
       "q_1: ┤ X ├─X─\n",
       "     └───┘   </pre>"
      ],
      "text/plain": [
       "             \n",
       "q_0: ──────X─\n",
       "     ┌───┐ │ \n",
       "q_1: ┤ X ├─X─\n",
       "     └───┘   "
      ]
     },
     "execution_count": 29,
     "metadata": {},
     "output_type": "execute_result"
    }
   ],
   "source": [
    "##### Trying out quantum circuit SWAP()\n",
    "qc = QuantumCircuit(2)\n",
    "\n",
    "qc.x(1)\n",
    "qc.swap(0,1)\n",
    "qc.draw()"
   ]
  },
  {
   "cell_type": "code",
   "execution_count": 30,
   "id": "cc807903-8d10-4591-ba95-422a85e2b41b",
   "metadata": {},
   "outputs": [
    {
     "name": "stdout",
     "output_type": "stream",
     "text": [
      "Width=  2\n",
      "Depth=  2\n",
      "No of Operation=  OrderedDict({'x': 1, 'swap': 1})\n",
      "Circuit size=  2\n"
     ]
    }
   ],
   "source": [
    "print_circuit_props(qc)"
   ]
  },
  {
   "cell_type": "code",
   "execution_count": 32,
   "id": "a1d62b92-3d53-459b-8b00-4f2375d60dd4",
   "metadata": {},
   "outputs": [
    {
     "data": {
      "text/html": [
       "<pre style=\"word-wrap: normal;white-space: pre;background: #fff0;line-height: 1.1;font-family: &quot;Courier New&quot;,Courier,monospace\">                       ┌───┐     \n",
       "q_0: ───────────────■──┤ X ├──■──\n",
       "     ┌───────────┐┌─┴─┐└─┬─┘┌─┴─┐\n",
       "q_1: ┤ U3(π,0,π) ├┤ X ├──■──┤ X ├\n",
       "     └───────────┘└───┘     └───┘</pre>"
      ],
      "text/plain": [
       "                       ┌───┐     \n",
       "q_0: ───────────────■──┤ X ├──■──\n",
       "     ┌───────────┐┌─┴─┐└─┬─┘┌─┴─┐\n",
       "q_1: ┤ U3(π,0,π) ├┤ X ├──■──┤ X ├\n",
       "     └───────────┘└───┘     └───┘"
      ]
     },
     "execution_count": 32,
     "metadata": {},
     "output_type": "execute_result"
    }
   ],
   "source": [
    "qc.decompose().draw()"
   ]
  },
  {
   "cell_type": "code",
   "execution_count": 34,
   "id": "828ffbb7-e26c-4dbf-96c7-ba90e10ad72f",
   "metadata": {},
   "outputs": [
    {
     "name": "stdout",
     "output_type": "stream",
     "text": [
      "Width=  2\n",
      "Depth=  4\n",
      "No of Operation=  OrderedDict({'cx': 3, 'u3': 1})\n",
      "Circuit size=  4\n"
     ]
    }
   ],
   "source": [
    "print_circuit_props(qc.decompose())"
   ]
  },
  {
   "cell_type": "markdown",
   "id": "ef6bbdcc-d910-48d7-904f-4b65c59cf11c",
   "metadata": {},
   "source": [
    "## customizing and parameterizing circuits"
   ]
  },
  {
   "cell_type": "code",
   "execution_count": 35,
   "id": "4d5f25b3-48a7-47d3-b2f0-712b3ff1cc69",
   "metadata": {},
   "outputs": [
    {
     "data": {
      "text/html": [
       "<pre style=\"word-wrap: normal;white-space: pre;background: #fff0;line-height: 1.1;font-family: &quot;Courier New&quot;,Courier,monospace\">        ┌───┐     \n",
       "qr_c_0: ┤ H ├──■──\n",
       "        └───┘┌─┴─┐\n",
       "qr_c_1: ─────┤ X ├\n",
       "             └───┘</pre>"
      ],
      "text/plain": [
       "        ┌───┐     \n",
       "qr_c_0: ┤ H ├──■──\n",
       "        └───┘┌─┴─┐\n",
       "qr_c_1: ─────┤ X ├\n",
       "             └───┘"
      ]
     },
     "execution_count": 35,
     "metadata": {},
     "output_type": "execute_result"
    }
   ],
   "source": [
    "## custom compsite gate\n",
    "qr = QuantumRegister(size=2, name='qr_c')\n",
    "comp_qc = QuantumCircuit(qr, name='my composite')\n",
    "\n",
    "comp_qc.h(0)\n",
    "comp_qc.cx(0, 1)\n",
    "\n",
    "comp_qc.draw()"
   ]
  },
  {
   "cell_type": "code",
   "execution_count": 37,
   "id": "698226bd-3bb3-4375-98f4-8a9c532d7261",
   "metadata": {},
   "outputs": [],
   "source": [
    "composite_instructions=comp_qc.to_instruction()"
   ]
  },
  {
   "cell_type": "code",
   "execution_count": null,
   "id": "959fe00d-fdf2-47db-8f58-8eef0c43d76b",
   "metadata": {},
   "outputs": [],
   "source": []
  },
  {
   "cell_type": "code",
   "execution_count": 40,
   "id": "03d5ba6d-494d-473b-af3f-9ce102fec752",
   "metadata": {},
   "outputs": [
    {
     "data": {
      "text/html": [
       "<pre style=\"word-wrap: normal;white-space: pre;background: #fff0;line-height: 1.1;font-family: &quot;Courier New&quot;,Courier,monospace\">        ┌───┐     \n",
       "qr_m_0: ┤ H ├──■──\n",
       "        └───┘┌─┴─┐\n",
       "qr_m_1: ─────┤ X ├\n",
       "             └───┘\n",
       "qr_m_2: ──────────\n",
       "                  </pre>"
      ],
      "text/plain": [
       "        ┌───┐     \n",
       "qr_m_0: ┤ H ├──■──\n",
       "        └───┘┌─┴─┐\n",
       "qr_m_1: ─────┤ X ├\n",
       "             └───┘\n",
       "qr_m_2: ──────────\n",
       "                  "
      ]
     },
     "execution_count": 40,
     "metadata": {},
     "output_type": "execute_result"
    }
   ],
   "source": [
    "qr_m = QuantumRegister(3, 'qr_m')\n",
    "qc = QuantumCircuit(qr_m)\n",
    "qc.h(0)\n",
    "qc.cx(0,1)\n",
    "qc.draw()"
   ]
  },
  {
   "cell_type": "code",
   "execution_count": 41,
   "id": "019a3c03-1400-4ae5-b6f7-f87ad468de30",
   "metadata": {},
   "outputs": [
    {
     "data": {
      "text/html": [
       "<pre style=\"word-wrap: normal;white-space: pre;background: #fff0;line-height: 1.1;font-family: &quot;Courier New&quot;,Courier,monospace\">        ┌───┐     ┌───────────────┐\n",
       "qr_m_0: ┤ H ├──■──┤0              ├\n",
       "        └───┘┌─┴─┐│  my composite │\n",
       "qr_m_1: ─────┤ X ├┤1              ├\n",
       "             └───┘└───────────────┘\n",
       "qr_m_2: ───────────────────────────\n",
       "                                   </pre>"
      ],
      "text/plain": [
       "        ┌───┐     ┌───────────────┐\n",
       "qr_m_0: ┤ H ├──■──┤0              ├\n",
       "        └───┘┌─┴─┐│  my composite │\n",
       "qr_m_1: ─────┤ X ├┤1              ├\n",
       "             └───┘└───────────────┘\n",
       "qr_m_2: ───────────────────────────\n",
       "                                   "
      ]
     },
     "execution_count": 41,
     "metadata": {},
     "output_type": "execute_result"
    }
   ],
   "source": [
    "qc.append(composite_instructions, [qr_m[0], qr_m[1]])\n",
    "qc.draw()"
   ]
  },
  {
   "cell_type": "code",
   "execution_count": null,
   "id": "8c483d7c-de9d-4f3a-987c-a85158957422",
   "metadata": {},
   "outputs": [],
   "source": []
  },
  {
   "cell_type": "code",
   "execution_count": 46,
   "id": "f447db1b-d268-4254-bc2e-679c1c9db163",
   "metadata": {},
   "outputs": [
    {
     "data": {
      "text/html": [
       "<pre style=\"word-wrap: normal;white-space: pre;background: #fff0;line-height: 1.1;font-family: &quot;Courier New&quot;,Courier,monospace\">     ┌───┐     ┌───────┐\n",
       "q_0: ┤ H ├──■──┤ Rz($) ├\n",
       "     └───┘┌─┴─┐└───────┘\n",
       "q_1: ─────┤ X ├─────────\n",
       "          └───┘         </pre>"
      ],
      "text/plain": [
       "     ┌───┐     ┌───────┐\n",
       "q_0: ┤ H ├──■──┤ Rz($) ├\n",
       "     └───┘┌─┴─┐└───────┘\n",
       "q_1: ─────┤ X ├─────────\n",
       "          └───┘         "
      ]
     },
     "execution_count": 46,
     "metadata": {},
     "output_type": "execute_result"
    }
   ],
   "source": [
    "## For parametersized circuit\n",
    "from qiskit.circuit import Parameter\n",
    "\n",
    "parameter_gg = Parameter(name='$') # the parameter value is `$` but is \n",
    "# not set as an explict value it just reserves the parameter value to later include the roation val\n",
    "qc = QuantumCircuit(2)\n",
    "qc.h(0)\n",
    "qc.cx(0,1)\n",
    "\n",
    "qc.rz(parameter_gg, 0)\n",
    "qc.draw()"
   ]
  },
  {
   "cell_type": "code",
   "execution_count": 47,
   "id": "9f39ee32-cf6f-4614-af4e-c2f491dd1ffa",
   "metadata": {},
   "outputs": [],
   "source": [
    "import numpy as np\n",
    "\n",
    "qc = qc.assign_parameters({parameter_gg: 2*np.pi})"
   ]
  },
  {
   "cell_type": "code",
   "execution_count": 48,
   "id": "01bd626b-1727-44b9-aac5-42b5188a8df3",
   "metadata": {},
   "outputs": [
    {
     "data": {
      "text/html": [
       "<pre style=\"word-wrap: normal;white-space: pre;background: #fff0;line-height: 1.1;font-family: &quot;Courier New&quot;,Courier,monospace\">     ┌───┐     ┌────────┐\n",
       "q_0: ┤ H ├──■──┤ Rz(2π) ├\n",
       "     └───┘┌─┴─┐└────────┘\n",
       "q_1: ─────┤ X ├──────────\n",
       "          └───┘          </pre>"
      ],
      "text/plain": [
       "     ┌───┐     ┌────────┐\n",
       "q_0: ┤ H ├──■──┤ Rz(2π) ├\n",
       "     └───┘┌─┴─┐└────────┘\n",
       "q_1: ─────┤ X ├──────────\n",
       "          └───┘          "
      ]
     },
     "execution_count": 48,
     "metadata": {},
     "output_type": "execute_result"
    }
   ],
   "source": [
    "qc.draw()"
   ]
  },
  {
   "cell_type": "code",
   "execution_count": null,
   "id": "77a2df1e-7988-475b-91ba-6fd5072fa862",
   "metadata": {},
   "outputs": [],
   "source": []
  }
 ],
 "metadata": {
  "kernelspec": {
   "display_name": "Python 3 (ipykernel)",
   "language": "python",
   "name": "python3"
  },
  "language_info": {
   "codemirror_mode": {
    "name": "ipython",
    "version": 3
   },
   "file_extension": ".py",
   "mimetype": "text/x-python",
   "name": "python",
   "nbconvert_exporter": "python",
   "pygments_lexer": "ipython3",
   "version": "3.13.1"
  }
 },
 "nbformat": 4,
 "nbformat_minor": 5
}
